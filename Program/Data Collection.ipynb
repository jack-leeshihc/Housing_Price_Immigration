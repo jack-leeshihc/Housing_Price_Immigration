{
 "cells": [
  {
   "cell_type": "markdown",
   "id": "3c1e3b11",
   "metadata": {},
   "source": [
    "# ECO475 Group 2 Notebook Code"
   ]
  },
  {
   "cell_type": "markdown",
   "id": "f9423e14",
   "metadata": {},
   "source": [
    "### Author: Shih-Chieh Lee, Lingyun Ma, Yuwen Zhao"
   ]
  },
  {
   "cell_type": "markdown",
   "id": "0d1e39c6",
   "metadata": {},
   "source": [
    "# 1. Basic Setting"
   ]
  },
  {
   "cell_type": "markdown",
   "id": "9d997882",
   "metadata": {},
   "source": [
    "## a. Package Install"
   ]
  },
  {
   "cell_type": "code",
   "execution_count": 1,
   "id": "2d533b01",
   "metadata": {},
   "outputs": [],
   "source": [
    "#!pip install stats-can\n",
    "#!pip install pandas\n",
    "#!pip install numpy\n",
    "#!pip install matplotlib\n",
    "#!pip install statsmodels\n",
    "#!pip install linearmodels\n",
    "#!pip install tabula-py #Note: Pls install tabula-py, not tabula——血的教训\n",
    "#!pip install warnings"
   ]
  },
  {
   "cell_type": "markdown",
   "id": "159c7ae7",
   "metadata": {},
   "source": [
    "## b. Package Import "
   ]
  },
  {
   "cell_type": "code",
   "execution_count": 1,
   "id": "f2793827",
   "metadata": {},
   "outputs": [],
   "source": [
    "# Data Collection Packages\n",
    "from stats_can import StatsCan #read StatsCan data \n",
    "\n",
    "\n",
    "sc = StatsCan(data_folder=\"/Users/changanlee/Documents/GitHub/Housing_Price_Immigration/Input\") \n",
    "#Create an instance of StatsCan class"
   ]
  },
  {
   "cell_type": "code",
   "execution_count": 2,
   "id": "de264bac",
   "metadata": {},
   "outputs": [],
   "source": [
    "# Import tabula and check java environment\n",
    "from tabula.io import read_pdf  #Scrape table from pdf files\n",
    "import requests \n",
    "from datetime import datetime\n",
    "import calendar\n",
    "import re"
   ]
  },
  {
   "cell_type": "code",
   "execution_count": 3,
   "id": "74954897",
   "metadata": {},
   "outputs": [],
   "source": [
    "# Data Processing Packages\n",
    "import pandas as pd #pandas\n",
    "import numpy as np \n",
    "import matplotlib.pyplot as plt #data visualization\n",
    "%matplotlib inline\n",
    "# activate plot theme\n",
    "import qeds"
   ]
  },
  {
   "cell_type": "code",
   "execution_count": 4,
   "id": "d9066ae7",
   "metadata": {},
   "outputs": [],
   "source": [
    "# Stats Model Packages\n",
    "import statsmodels.api as sm # statistical model\n",
    "from statsmodels.iolib.summary2 import summary_col # summary table for regression result\n",
    "from linearmodels.iv import IV2SLS # IV "
   ]
  },
  {
   "cell_type": "code",
   "execution_count": 5,
   "id": "63af4ca7",
   "metadata": {},
   "outputs": [],
   "source": [
    "# Silence all the warnings cuz they're absolutely annoying if you loop it multiple times\n",
    "import warnings\n",
    "#warnings.filterwarnings('ignore')"
   ]
  },
  {
   "cell_type": "markdown",
   "id": "8c36ab2f",
   "metadata": {},
   "source": [
    "# 2. Data Collection"
   ]
  },
  {
   "cell_type": "markdown",
   "id": "e6f60218",
   "metadata": {},
   "source": [
    "## A. StatsCan Data "
   ]
  },
  {
   "cell_type": "markdown",
   "id": "7f689ff6",
   "metadata": {},
   "source": [
    "Let's start with datasets from Statistics Canada, as it's earier to collect directly using StatsCan library"
   ]
  },
  {
   "cell_type": "code",
   "execution_count": 6,
   "id": "74164688",
   "metadata": {},
   "outputs": [
    {
     "data": {
      "text/html": [
       "<div>\n",
       "<style scoped>\n",
       "    .dataframe tbody tr th:only-of-type {\n",
       "        vertical-align: middle;\n",
       "    }\n",
       "\n",
       "    .dataframe tbody tr th {\n",
       "        vertical-align: top;\n",
       "    }\n",
       "\n",
       "    .dataframe thead th {\n",
       "        text-align: right;\n",
       "    }\n",
       "</style>\n",
       "<table border=\"1\" class=\"dataframe\">\n",
       "  <thead>\n",
       "    <tr style=\"text-align: right;\">\n",
       "      <th></th>\n",
       "      <th>REF_DATE</th>\n",
       "      <th>GEO</th>\n",
       "      <th>DGUID</th>\n",
       "      <th>Sex</th>\n",
       "      <th>Age group</th>\n",
       "      <th>UOM</th>\n",
       "      <th>UOM_ID</th>\n",
       "      <th>SCALAR_FACTOR</th>\n",
       "      <th>SCALAR_ID</th>\n",
       "      <th>VECTOR</th>\n",
       "      <th>COORDINATE</th>\n",
       "      <th>VALUE</th>\n",
       "      <th>STATUS</th>\n",
       "      <th>SYMBOL</th>\n",
       "      <th>TERMINATED</th>\n",
       "      <th>DECIMALS</th>\n",
       "    </tr>\n",
       "  </thead>\n",
       "  <tbody>\n",
       "    <tr>\n",
       "      <th>0</th>\n",
       "      <td>2001-01-01</td>\n",
       "      <td>Canada</td>\n",
       "      <td>2016A00001124</td>\n",
       "      <td>Both sexes</td>\n",
       "      <td>All ages</td>\n",
       "      <td>Persons</td>\n",
       "      <td>249</td>\n",
       "      <td>units</td>\n",
       "      <td>0</td>\n",
       "      <td>v1462635598</td>\n",
       "      <td>178.1.1</td>\n",
       "      <td>31020902.0</td>\n",
       "      <td>NaN</td>\n",
       "      <td>NaN</td>\n",
       "      <td>NaN</td>\n",
       "      <td>0</td>\n",
       "    </tr>\n",
       "    <tr>\n",
       "      <th>1</th>\n",
       "      <td>2001-01-01</td>\n",
       "      <td>Canada</td>\n",
       "      <td>2016A00001124</td>\n",
       "      <td>Both sexes</td>\n",
       "      <td>0 to 4 years</td>\n",
       "      <td>Persons</td>\n",
       "      <td>249</td>\n",
       "      <td>units</td>\n",
       "      <td>0</td>\n",
       "      <td>v1462635576</td>\n",
       "      <td>178.1.2</td>\n",
       "      <td>1754354.0</td>\n",
       "      <td>NaN</td>\n",
       "      <td>NaN</td>\n",
       "      <td>NaN</td>\n",
       "      <td>0</td>\n",
       "    </tr>\n",
       "    <tr>\n",
       "      <th>2</th>\n",
       "      <td>2001-01-01</td>\n",
       "      <td>Canada</td>\n",
       "      <td>2016A00001124</td>\n",
       "      <td>Both sexes</td>\n",
       "      <td>0 years</td>\n",
       "      <td>Persons</td>\n",
       "      <td>249</td>\n",
       "      <td>units</td>\n",
       "      <td>0</td>\n",
       "      <td>v1462635484</td>\n",
       "      <td>178.1.3</td>\n",
       "      <td>328494.0</td>\n",
       "      <td>NaN</td>\n",
       "      <td>NaN</td>\n",
       "      <td>NaN</td>\n",
       "      <td>0</td>\n",
       "    </tr>\n",
       "    <tr>\n",
       "      <th>3</th>\n",
       "      <td>2001-01-01</td>\n",
       "      <td>Canada</td>\n",
       "      <td>2016A00001124</td>\n",
       "      <td>Both sexes</td>\n",
       "      <td>1 year</td>\n",
       "      <td>Persons</td>\n",
       "      <td>249</td>\n",
       "      <td>units</td>\n",
       "      <td>0</td>\n",
       "      <td>v1462635485</td>\n",
       "      <td>178.1.4</td>\n",
       "      <td>345259.0</td>\n",
       "      <td>NaN</td>\n",
       "      <td>NaN</td>\n",
       "      <td>NaN</td>\n",
       "      <td>0</td>\n",
       "    </tr>\n",
       "    <tr>\n",
       "      <th>4</th>\n",
       "      <td>2001-01-01</td>\n",
       "      <td>Canada</td>\n",
       "      <td>2016A00001124</td>\n",
       "      <td>Both sexes</td>\n",
       "      <td>2 years</td>\n",
       "      <td>Persons</td>\n",
       "      <td>249</td>\n",
       "      <td>units</td>\n",
       "      <td>0</td>\n",
       "      <td>v1462635486</td>\n",
       "      <td>178.1.5</td>\n",
       "      <td>349563.0</td>\n",
       "      <td>NaN</td>\n",
       "      <td>NaN</td>\n",
       "      <td>NaN</td>\n",
       "      <td>0</td>\n",
       "    </tr>\n",
       "  </tbody>\n",
       "</table>\n",
       "</div>"
      ],
      "text/plain": [
       "    REF_DATE     GEO          DGUID         Sex     Age group      UOM UOM_ID  \\\n",
       "0 2001-01-01  Canada  2016A00001124  Both sexes      All ages  Persons    249   \n",
       "1 2001-01-01  Canada  2016A00001124  Both sexes  0 to 4 years  Persons    249   \n",
       "2 2001-01-01  Canada  2016A00001124  Both sexes       0 years  Persons    249   \n",
       "3 2001-01-01  Canada  2016A00001124  Both sexes        1 year  Persons    249   \n",
       "4 2001-01-01  Canada  2016A00001124  Both sexes       2 years  Persons    249   \n",
       "\n",
       "  SCALAR_FACTOR SCALAR_ID       VECTOR COORDINATE       VALUE STATUS SYMBOL  \\\n",
       "0         units         0  v1462635598    178.1.1  31020902.0    NaN    NaN   \n",
       "1         units         0  v1462635576    178.1.2   1754354.0    NaN    NaN   \n",
       "2         units         0  v1462635484    178.1.3    328494.0    NaN    NaN   \n",
       "3         units         0  v1462635485    178.1.4    345259.0    NaN    NaN   \n",
       "4         units         0  v1462635486    178.1.5    349563.0    NaN    NaN   \n",
       "\n",
       "  TERMINATED DECIMALS  \n",
       "0        NaN        0  \n",
       "1        NaN        0  \n",
       "2        NaN        0  \n",
       "3        NaN        0  \n",
       "4        NaN        0  "
      ]
     },
     "execution_count": 6,
     "metadata": {},
     "output_type": "execute_result"
    }
   ],
   "source": [
    "CMA_pop = sc.table_to_df(\"17-10-0135-01\")\n",
    "CMA_pop.head()"
   ]
  },
  {
   "cell_type": "markdown",
   "id": "d6b5db2e",
   "metadata": {},
   "source": [
    "## B. CREA Monthly House Price Index Data"
   ]
  },
  {
   "cell_type": "markdown",
   "id": "d2bb565e",
   "metadata": {},
   "source": [
    "### 1) Define Functions"
   ]
  },
  {
   "cell_type": "code",
   "execution_count": 9,
   "id": "6051a15e",
   "metadata": {},
   "outputs": [],
   "source": [
    "# Define func to generate URLs based on months and years\n",
    "def generate_url(month, year, cma):\n",
    "    if cma == \"Toronto\":\n",
    "        if month < 10:\n",
    "            return f\"https://trreb.ca/files/market-stats/home-price-index/TREB_MLS_HPI_Public_Tables_0{month}{year}.pdf\"\n",
    "        else:\n",
    "            return f\"https://trreb.ca/files/market-stats/home-price-index/TREB_MLS_HPI_Public_Tables_{month}{year}.pdf\"\n",
    "            #return the corresponding GTA HPI monthly report pdf for scrapping\n",
    "    elif cma == \"Vancouver\":\n",
    "        url = generate_url_van(month, year)\n",
    "        return url"
   ]
  },
  {
   "cell_type": "markdown",
   "id": "f8396cff",
   "metadata": {},
   "source": [
    "### 1) GTA Data"
   ]
  },
  {
   "cell_type": "markdown",
   "id": "2636edef",
   "metadata": {},
   "source": [
    "#### a) Define Functions"
   ]
  },
  {
   "cell_type": "code",
   "execution_count": 10,
   "id": "fb0be6e2",
   "metadata": {},
   "outputs": [],
   "source": [
    "# Define func to extract table from pdf monthly report & data cleaning\n",
    "def extract_table(url, month, year):\n",
    "\n",
    "    # Extract table from pdf\n",
    "    tables = read_pdf(url, pages=\"2\", lattice = \"True\", multiple_tables = \"False\", \n",
    "                      area = [10,0,97,100],relative_area = \"True\", silent = \"True\") \n",
    "        # Note: lattice should be set as True for our case \n",
    "            #to read everything on page 2 as one table\n",
    "            \n",
    "    table = tables[0]\n",
    "    \n",
    "    # Clean the data table\n",
    "    new_header = table.iloc[0] # Set new header with the first row of the table\n",
    "    table = table[1:]  # Take the data below the header row\n",
    "    table.columns = new_header  # Set the new header\n",
    "    \n",
    "    # We only want data about composite / residential property, which is the first four columns\n",
    "    table = table.iloc[:, :4]\n",
    "    \n",
    "    # Rename the first column to \"Location\" \n",
    "    table = table.rename(columns={table.columns[0]: \"Location\"})\n",
    "\n",
    "    # New Column for Month-Year\n",
    "    if month < 10:\n",
    "        table[\"Month_Year\"] = f'0{month}_20{year}'\n",
    "    else:\n",
    "        table[\"Month_Year\"] = f'{month}_20{year}'\n",
    "        \n",
    "    table.reset_index(drop=True, inplace=True)\n",
    "    \n",
    "    return table"
   ]
  },
  {
   "cell_type": "markdown",
   "id": "55a798a2",
   "metadata": {},
   "source": [
    "#### b) Loop to Scrape Data"
   ]
  },
  {
   "cell_type": "code",
   "execution_count": 11,
   "id": "6acc97d7",
   "metadata": {},
   "outputs": [
    {
     "name": "stderr",
     "output_type": "stream",
     "text": [
      "Error importing jpype dependencies. Fallback to subprocess.\n",
      "No module named 'jpype'\n"
     ]
    },
    {
     "ename": "KeyboardInterrupt",
     "evalue": "",
     "output_type": "error",
     "traceback": [
      "\u001b[0;31m---------------------------------------------------------------------------\u001b[0m",
      "\u001b[0;31mKeyboardInterrupt\u001b[0m                         Traceback (most recent call last)",
      "\u001b[0;32m/var/folders/hn/gfxxh51d76nbszjdcrp5pzy80000gn/T/ipykernel_45779/172124095.py\u001b[0m in \u001b[0;36m<module>\u001b[0;34m\u001b[0m\n\u001b[1;32m      6\u001b[0m         \u001b[0;32mfor\u001b[0m \u001b[0mmonth\u001b[0m \u001b[0;32min\u001b[0m \u001b[0mrange\u001b[0m\u001b[0;34m(\u001b[0m\u001b[0;36m1\u001b[0m\u001b[0;34m,\u001b[0m \u001b[0;36m13\u001b[0m\u001b[0;34m)\u001b[0m\u001b[0;34m:\u001b[0m\u001b[0;34m\u001b[0m\u001b[0;34m\u001b[0m\u001b[0m\n\u001b[1;32m      7\u001b[0m             \u001b[0murl\u001b[0m \u001b[0;34m=\u001b[0m \u001b[0mgenerate_url\u001b[0m\u001b[0;34m(\u001b[0m\u001b[0mmonth\u001b[0m\u001b[0;34m,\u001b[0m \u001b[0myear\u001b[0m\u001b[0;34m,\u001b[0m \u001b[0mcma\u001b[0m\u001b[0;34m)\u001b[0m\u001b[0;34m\u001b[0m\u001b[0;34m\u001b[0m\u001b[0m\n\u001b[0;32m----> 8\u001b[0;31m             \u001b[0mextracted_data\u001b[0m \u001b[0;34m=\u001b[0m \u001b[0mextract_table\u001b[0m\u001b[0;34m(\u001b[0m\u001b[0murl\u001b[0m\u001b[0;34m,\u001b[0m \u001b[0mmonth\u001b[0m\u001b[0;34m,\u001b[0m \u001b[0myear\u001b[0m\u001b[0;34m)\u001b[0m\u001b[0;34m\u001b[0m\u001b[0;34m\u001b[0m\u001b[0m\n\u001b[0m\u001b[1;32m      9\u001b[0m \u001b[0;34m\u001b[0m\u001b[0m\n\u001b[1;32m     10\u001b[0m             \u001b[0;32mif\u001b[0m \u001b[0mextracted_data\u001b[0m \u001b[0;32mis\u001b[0m \u001b[0;32mnot\u001b[0m \u001b[0;32mNone\u001b[0m\u001b[0;34m:\u001b[0m\u001b[0;34m\u001b[0m\u001b[0;34m\u001b[0m\u001b[0m\n",
      "\u001b[0;32m/var/folders/hn/gfxxh51d76nbszjdcrp5pzy80000gn/T/ipykernel_45779/2167295506.py\u001b[0m in \u001b[0;36mextract_table\u001b[0;34m(url, month, year)\u001b[0m\n\u001b[1;32m      3\u001b[0m \u001b[0;34m\u001b[0m\u001b[0m\n\u001b[1;32m      4\u001b[0m     \u001b[0;31m# Extract table from pdf\u001b[0m\u001b[0;34m\u001b[0m\u001b[0;34m\u001b[0m\u001b[0m\n\u001b[0;32m----> 5\u001b[0;31m     tables = read_pdf(url, pages=\"2\", lattice = \"True\", multiple_tables = \"False\", \n\u001b[0m\u001b[1;32m      6\u001b[0m                       area = [10,0,97,100],relative_area = \"True\", silent = \"True\") \n\u001b[1;32m      7\u001b[0m         \u001b[0;31m# Note: lattice should be set as True for our case\u001b[0m\u001b[0;34m\u001b[0m\u001b[0;34m\u001b[0m\u001b[0m\n",
      "\u001b[0;32m~/opt/anaconda3/lib/python3.9/site-packages/tabula/io.py\u001b[0m in \u001b[0;36mread_pdf\u001b[0;34m(input_path, output_format, encoding, java_options, pandas_options, multiple_tables, user_agent, use_raw_url, pages, guess, area, relative_area, lattice, stream, password, silent, columns, relative_columns, format, batch, output_path, force_subprocess, options)\u001b[0m\n\u001b[1;32m    393\u001b[0m \u001b[0;34m\u001b[0m\u001b[0m\n\u001b[1;32m    394\u001b[0m     \u001b[0;32mtry\u001b[0m\u001b[0;34m:\u001b[0m\u001b[0;34m\u001b[0m\u001b[0;34m\u001b[0m\u001b[0m\n\u001b[0;32m--> 395\u001b[0;31m         output = _run(\n\u001b[0m\u001b[1;32m    396\u001b[0m             \u001b[0mtabula_options\u001b[0m\u001b[0;34m,\u001b[0m\u001b[0;34m\u001b[0m\u001b[0;34m\u001b[0m\u001b[0m\n\u001b[1;32m    397\u001b[0m             \u001b[0mjava_options\u001b[0m\u001b[0;34m,\u001b[0m\u001b[0;34m\u001b[0m\u001b[0;34m\u001b[0m\u001b[0m\n",
      "\u001b[0;32m~/opt/anaconda3/lib/python3.9/site-packages/tabula/io.py\u001b[0m in \u001b[0;36m_run\u001b[0;34m(options, java_options, path, encoding, force_subprocess)\u001b[0m\n\u001b[1;32m     80\u001b[0m         \u001b[0mlogger\u001b[0m\u001b[0;34m.\u001b[0m\u001b[0mwarning\u001b[0m\u001b[0;34m(\u001b[0m\u001b[0;34m\"java_options is ignored until rebooting the Python process.\"\u001b[0m\u001b[0;34m)\u001b[0m\u001b[0;34m\u001b[0m\u001b[0;34m\u001b[0m\u001b[0m\n\u001b[1;32m     81\u001b[0m \u001b[0;34m\u001b[0m\u001b[0m\n\u001b[0;32m---> 82\u001b[0;31m     \u001b[0;32mreturn\u001b[0m \u001b[0m_tabula_vm\u001b[0m\u001b[0;34m.\u001b[0m\u001b[0mcall_tabula_java\u001b[0m\u001b[0;34m(\u001b[0m\u001b[0moptions\u001b[0m\u001b[0;34m,\u001b[0m \u001b[0mpath\u001b[0m\u001b[0;34m)\u001b[0m\u001b[0;34m\u001b[0m\u001b[0;34m\u001b[0m\u001b[0m\n\u001b[0m\u001b[1;32m     83\u001b[0m \u001b[0;34m\u001b[0m\u001b[0m\n\u001b[1;32m     84\u001b[0m \u001b[0;34m\u001b[0m\u001b[0m\n",
      "\u001b[0;32m~/opt/anaconda3/lib/python3.9/site-packages/tabula/backend.py\u001b[0m in \u001b[0;36mcall_tabula_java\u001b[0;34m(self, options, path)\u001b[0m\n\u001b[1;32m    106\u001b[0m \u001b[0;34m\u001b[0m\u001b[0m\n\u001b[1;32m    107\u001b[0m         \u001b[0;32mtry\u001b[0m\u001b[0;34m:\u001b[0m\u001b[0;34m\u001b[0m\u001b[0;34m\u001b[0m\u001b[0m\n\u001b[0;32m--> 108\u001b[0;31m             result = subprocess.run(\n\u001b[0m\u001b[1;32m    109\u001b[0m                 \u001b[0margs\u001b[0m\u001b[0;34m,\u001b[0m\u001b[0;34m\u001b[0m\u001b[0;34m\u001b[0m\u001b[0m\n\u001b[1;32m    110\u001b[0m                 \u001b[0mstdout\u001b[0m\u001b[0;34m=\u001b[0m\u001b[0msubprocess\u001b[0m\u001b[0;34m.\u001b[0m\u001b[0mPIPE\u001b[0m\u001b[0;34m,\u001b[0m\u001b[0;34m\u001b[0m\u001b[0;34m\u001b[0m\u001b[0m\n",
      "\u001b[0;32m~/opt/anaconda3/lib/python3.9/subprocess.py\u001b[0m in \u001b[0;36mrun\u001b[0;34m(input, capture_output, timeout, check, *popenargs, **kwargs)\u001b[0m\n\u001b[1;32m    505\u001b[0m     \u001b[0;32mwith\u001b[0m \u001b[0mPopen\u001b[0m\u001b[0;34m(\u001b[0m\u001b[0;34m*\u001b[0m\u001b[0mpopenargs\u001b[0m\u001b[0;34m,\u001b[0m \u001b[0;34m**\u001b[0m\u001b[0mkwargs\u001b[0m\u001b[0;34m)\u001b[0m \u001b[0;32mas\u001b[0m \u001b[0mprocess\u001b[0m\u001b[0;34m:\u001b[0m\u001b[0;34m\u001b[0m\u001b[0;34m\u001b[0m\u001b[0m\n\u001b[1;32m    506\u001b[0m         \u001b[0;32mtry\u001b[0m\u001b[0;34m:\u001b[0m\u001b[0;34m\u001b[0m\u001b[0;34m\u001b[0m\u001b[0m\n\u001b[0;32m--> 507\u001b[0;31m             \u001b[0mstdout\u001b[0m\u001b[0;34m,\u001b[0m \u001b[0mstderr\u001b[0m \u001b[0;34m=\u001b[0m \u001b[0mprocess\u001b[0m\u001b[0;34m.\u001b[0m\u001b[0mcommunicate\u001b[0m\u001b[0;34m(\u001b[0m\u001b[0minput\u001b[0m\u001b[0;34m,\u001b[0m \u001b[0mtimeout\u001b[0m\u001b[0;34m=\u001b[0m\u001b[0mtimeout\u001b[0m\u001b[0;34m)\u001b[0m\u001b[0;34m\u001b[0m\u001b[0;34m\u001b[0m\u001b[0m\n\u001b[0m\u001b[1;32m    508\u001b[0m         \u001b[0;32mexcept\u001b[0m \u001b[0mTimeoutExpired\u001b[0m \u001b[0;32mas\u001b[0m \u001b[0mexc\u001b[0m\u001b[0;34m:\u001b[0m\u001b[0;34m\u001b[0m\u001b[0;34m\u001b[0m\u001b[0m\n\u001b[1;32m    509\u001b[0m             \u001b[0mprocess\u001b[0m\u001b[0;34m.\u001b[0m\u001b[0mkill\u001b[0m\u001b[0;34m(\u001b[0m\u001b[0;34m)\u001b[0m\u001b[0;34m\u001b[0m\u001b[0;34m\u001b[0m\u001b[0m\n",
      "\u001b[0;32m~/opt/anaconda3/lib/python3.9/subprocess.py\u001b[0m in \u001b[0;36mcommunicate\u001b[0;34m(self, input, timeout)\u001b[0m\n\u001b[1;32m   1132\u001b[0m \u001b[0;34m\u001b[0m\u001b[0m\n\u001b[1;32m   1133\u001b[0m             \u001b[0;32mtry\u001b[0m\u001b[0;34m:\u001b[0m\u001b[0;34m\u001b[0m\u001b[0;34m\u001b[0m\u001b[0m\n\u001b[0;32m-> 1134\u001b[0;31m                 \u001b[0mstdout\u001b[0m\u001b[0;34m,\u001b[0m \u001b[0mstderr\u001b[0m \u001b[0;34m=\u001b[0m \u001b[0mself\u001b[0m\u001b[0;34m.\u001b[0m\u001b[0m_communicate\u001b[0m\u001b[0;34m(\u001b[0m\u001b[0minput\u001b[0m\u001b[0;34m,\u001b[0m \u001b[0mendtime\u001b[0m\u001b[0;34m,\u001b[0m \u001b[0mtimeout\u001b[0m\u001b[0;34m)\u001b[0m\u001b[0;34m\u001b[0m\u001b[0;34m\u001b[0m\u001b[0m\n\u001b[0m\u001b[1;32m   1135\u001b[0m             \u001b[0;32mexcept\u001b[0m \u001b[0mKeyboardInterrupt\u001b[0m\u001b[0;34m:\u001b[0m\u001b[0;34m\u001b[0m\u001b[0;34m\u001b[0m\u001b[0m\n\u001b[1;32m   1136\u001b[0m                 \u001b[0;31m# https://bugs.python.org/issue25942\u001b[0m\u001b[0;34m\u001b[0m\u001b[0;34m\u001b[0m\u001b[0m\n",
      "\u001b[0;32m~/opt/anaconda3/lib/python3.9/subprocess.py\u001b[0m in \u001b[0;36m_communicate\u001b[0;34m(self, input, endtime, orig_timeout)\u001b[0m\n\u001b[1;32m   1977\u001b[0m                             'failed to raise TimeoutExpired.')\n\u001b[1;32m   1978\u001b[0m \u001b[0;34m\u001b[0m\u001b[0m\n\u001b[0;32m-> 1979\u001b[0;31m                     \u001b[0mready\u001b[0m \u001b[0;34m=\u001b[0m \u001b[0mselector\u001b[0m\u001b[0;34m.\u001b[0m\u001b[0mselect\u001b[0m\u001b[0;34m(\u001b[0m\u001b[0mtimeout\u001b[0m\u001b[0;34m)\u001b[0m\u001b[0;34m\u001b[0m\u001b[0;34m\u001b[0m\u001b[0m\n\u001b[0m\u001b[1;32m   1980\u001b[0m                     \u001b[0mself\u001b[0m\u001b[0;34m.\u001b[0m\u001b[0m_check_timeout\u001b[0m\u001b[0;34m(\u001b[0m\u001b[0mendtime\u001b[0m\u001b[0;34m,\u001b[0m \u001b[0morig_timeout\u001b[0m\u001b[0;34m,\u001b[0m \u001b[0mstdout\u001b[0m\u001b[0;34m,\u001b[0m \u001b[0mstderr\u001b[0m\u001b[0;34m)\u001b[0m\u001b[0;34m\u001b[0m\u001b[0;34m\u001b[0m\u001b[0m\n\u001b[1;32m   1981\u001b[0m \u001b[0;34m\u001b[0m\u001b[0m\n",
      "\u001b[0;32m~/opt/anaconda3/lib/python3.9/selectors.py\u001b[0m in \u001b[0;36mselect\u001b[0;34m(self, timeout)\u001b[0m\n\u001b[1;32m    414\u001b[0m         \u001b[0mready\u001b[0m \u001b[0;34m=\u001b[0m \u001b[0;34m[\u001b[0m\u001b[0;34m]\u001b[0m\u001b[0;34m\u001b[0m\u001b[0;34m\u001b[0m\u001b[0m\n\u001b[1;32m    415\u001b[0m         \u001b[0;32mtry\u001b[0m\u001b[0;34m:\u001b[0m\u001b[0;34m\u001b[0m\u001b[0;34m\u001b[0m\u001b[0m\n\u001b[0;32m--> 416\u001b[0;31m             \u001b[0mfd_event_list\u001b[0m \u001b[0;34m=\u001b[0m \u001b[0mself\u001b[0m\u001b[0;34m.\u001b[0m\u001b[0m_selector\u001b[0m\u001b[0;34m.\u001b[0m\u001b[0mpoll\u001b[0m\u001b[0;34m(\u001b[0m\u001b[0mtimeout\u001b[0m\u001b[0;34m)\u001b[0m\u001b[0;34m\u001b[0m\u001b[0;34m\u001b[0m\u001b[0m\n\u001b[0m\u001b[1;32m    417\u001b[0m         \u001b[0;32mexcept\u001b[0m \u001b[0mInterruptedError\u001b[0m\u001b[0;34m:\u001b[0m\u001b[0;34m\u001b[0m\u001b[0;34m\u001b[0m\u001b[0m\n\u001b[1;32m    418\u001b[0m             \u001b[0;32mreturn\u001b[0m \u001b[0mready\u001b[0m\u001b[0;34m\u001b[0m\u001b[0;34m\u001b[0m\u001b[0m\n",
      "\u001b[0;31mKeyboardInterrupt\u001b[0m: "
     ]
    }
   ],
   "source": [
    "data_list = []\n",
    "cma = \"Toronto\"\n",
    "\n",
    "for year in range(16, 23):\n",
    "    if year != 22:\n",
    "        for month in range(1, 13):\n",
    "            url = generate_url(month, year, cma)\n",
    "            extracted_data = extract_table(url, month, year)\n",
    "        \n",
    "            if extracted_data is not None:\n",
    "                extracted_data.reset_index(drop = True, inplace = True)\n",
    "                data_list.append(extracted_data)\n",
    "\n",
    "    else:\n",
    "        for month in range(1, 6):\n",
    "            url = generate_url(month, year)\n",
    "            extracted_data = extract_table(url, month, year)\n",
    "        \n",
    "            if extracted_data is not None:\n",
    "                extracted_data.reset_index(drop = True, inplace = True)\n",
    "                data_list.append(extracted_data)\n",
    "            \n",
    "HPI_GTA = pd.concat(data_list, ignore_index = True)"
   ]
  },
  {
   "cell_type": "code",
   "execution_count": null,
   "id": "eaafa1d3",
   "metadata": {},
   "outputs": [],
   "source": [
    "HPI_GTA.to_csv(\"/Users/changanlee/Desktop/University/Undergrad/4th-Year/Winter Semester/ECO475/Term Paper/Raw Data/HPI_GTA.csv\",\n",
    "               index = False)"
   ]
  },
  {
   "cell_type": "markdown",
   "id": "ce949554",
   "metadata": {},
   "source": [
    "For some pdf formatting reasons that I cannot solve right now, the last monthly report that can be extracted using read_pdf is May 2022. May need to mannually extract the rest of the data. See example below:"
   ]
  },
  {
   "cell_type": "code",
   "execution_count": 168,
   "id": "38ff42a3",
   "metadata": {},
   "outputs": [
    {
     "data": {
      "text/html": [
       "<div>\n",
       "<style scoped>\n",
       "    .dataframe tbody tr th:only-of-type {\n",
       "        vertical-align: middle;\n",
       "    }\n",
       "\n",
       "    .dataframe tbody tr th {\n",
       "        vertical-align: top;\n",
       "    }\n",
       "\n",
       "    .dataframe thead th {\n",
       "        text-align: right;\n",
       "    }\n",
       "</style>\n",
       "<table border=\"1\" class=\"dataframe\">\n",
       "  <thead>\n",
       "    <tr style=\"text-align: right;\">\n",
       "      <th></th>\n",
       "      <th>Unnamed: 0</th>\n",
       "      <th>Unnamed: 1</th>\n",
       "      <th>Composite</th>\n",
       "      <th>Single Family Detached</th>\n",
       "      <th>Single Family Atached</th>\n",
       "      <th>Townhouse</th>\n",
       "      <th>Apartment</th>\n",
       "      <th>Unnamed: 2</th>\n",
       "      <th>Unnamed: 3</th>\n",
       "      <th>Unnamed: 4</th>\n",
       "      <th>...</th>\n",
       "      <th>Unnamed: 17</th>\n",
       "      <th>Unnamed: 18</th>\n",
       "      <th>Unnamed: 19</th>\n",
       "      <th>Unnamed: 20</th>\n",
       "      <th>Unnamed: 21</th>\n",
       "      <th>Unnamed: 22</th>\n",
       "      <th>Unnamed: 23</th>\n",
       "      <th>Unnamed: 24</th>\n",
       "      <th>Unnamed: 25</th>\n",
       "      <th>Unnamed: 26</th>\n",
       "    </tr>\n",
       "  </thead>\n",
       "  <tbody>\n",
       "    <tr>\n",
       "      <th>0</th>\n",
       "      <td>NaN</td>\n",
       "      <td>NaN</td>\n",
       "      <td>Index</td>\n",
       "      <td>Benchmark</td>\n",
       "      <td>Yr./Yr. % Chg</td>\n",
       "      <td>Index</td>\n",
       "      <td>Benchmark</td>\n",
       "      <td>Yr./Yr. % Chg</td>\n",
       "      <td>Index</td>\n",
       "      <td>Benchmark</td>\n",
       "      <td>...</td>\n",
       "      <td>NaN</td>\n",
       "      <td>NaN</td>\n",
       "      <td>NaN</td>\n",
       "      <td>NaN</td>\n",
       "      <td>NaN</td>\n",
       "      <td>NaN</td>\n",
       "      <td>NaN</td>\n",
       "      <td>NaN</td>\n",
       "      <td>NaN</td>\n",
       "      <td>NaN</td>\n",
       "    </tr>\n",
       "    <tr>\n",
       "      <th>1</th>\n",
       "      <td>Al TRRE</td>\n",
       "      <td>Areas</td>\n",
       "      <td>3</td>\n",
       "      <td>.8</td>\n",
       "      <td>$1,2</td>\n",
       "      <td>4,900</td>\n",
       "      <td>17</td>\n",
       "      <td>9%</td>\n",
       "      <td>3</td>\n",
       "      <td>.6</td>\n",
       "      <td>...</td>\n",
       "      <td>$89</td>\n",
       "      <td>,100</td>\n",
       "      <td>20.0</td>\n",
       "      <td>9%</td>\n",
       "      <td>3.0</td>\n",
       "      <td>0.2</td>\n",
       "      <td>$77</td>\n",
       "      <td>,500</td>\n",
       "      <td>23.0</td>\n",
       "      <td>6%</td>\n",
       "    </tr>\n",
       "    <tr>\n",
       "      <th>2</th>\n",
       "      <td>Halton R</td>\n",
       "      <td>ion</td>\n",
       "      <td>3</td>\n",
       "      <td>.2</td>\n",
       "      <td>$1,2</td>\n",
       "      <td>8,000</td>\n",
       "      <td>11</td>\n",
       "      <td>6%</td>\n",
       "      <td>4</td>\n",
       "      <td>.1</td>\n",
       "      <td>...</td>\n",
       "      <td>$81</td>\n",
       "      <td>,000</td>\n",
       "      <td>10.0</td>\n",
       "      <td>0%</td>\n",
       "      <td>4.0</td>\n",
       "      <td>0.4</td>\n",
       "      <td>$70</td>\n",
       "      <td>,200</td>\n",
       "      <td>17.0</td>\n",
       "      <td>8%</td>\n",
       "    </tr>\n",
       "    <tr>\n",
       "      <th>3</th>\n",
       "      <td>Burlingto</td>\n",
       "      <td>NaN</td>\n",
       "      <td>3</td>\n",
       "      <td>.8</td>\n",
       "      <td>$1,0</td>\n",
       "      <td>4,800</td>\n",
       "      <td>9</td>\n",
       "      <td>%</td>\n",
       "      <td>4</td>\n",
       "      <td>.9</td>\n",
       "      <td>...</td>\n",
       "      <td>$77</td>\n",
       "      <td>,200</td>\n",
       "      <td>9.0</td>\n",
       "      <td>%</td>\n",
       "      <td>4.0</td>\n",
       "      <td>0.9</td>\n",
       "      <td>$67</td>\n",
       "      <td>,300</td>\n",
       "      <td>19.0</td>\n",
       "      <td>0%</td>\n",
       "    </tr>\n",
       "    <tr>\n",
       "      <th>4</th>\n",
       "      <td>Halton H</td>\n",
       "      <td>NaN</td>\n",
       "      <td>4</td>\n",
       "      <td>.1</td>\n",
       "      <td>$1,2</td>\n",
       "      <td>9,000</td>\n",
       "      <td>15</td>\n",
       "      <td>9%</td>\n",
       "      <td>4</td>\n",
       "      <td>.7</td>\n",
       "      <td>...</td>\n",
       "      <td>$70</td>\n",
       "      <td>,400</td>\n",
       "      <td>12.0</td>\n",
       "      <td>3%</td>\n",
       "      <td>4.0</td>\n",
       "      <td>0.7</td>\n",
       "      <td>$75</td>\n",
       "      <td>,700</td>\n",
       "      <td>16.0</td>\n",
       "      <td>1%</td>\n",
       "    </tr>\n",
       "  </tbody>\n",
       "</table>\n",
       "<p>5 rows × 32 columns</p>\n",
       "</div>"
      ],
      "text/plain": [
       "  Unnamed: 0 Unnamed: 1 Composite Single Family Detached  \\\n",
       "0        NaN        NaN     Index              Benchmark   \n",
       "1    Al TRRE      Areas         3                     .8   \n",
       "2   Halton R        ion         3                     .2   \n",
       "3  Burlingto        NaN         3                     .8   \n",
       "4   Halton H        NaN         4                     .1   \n",
       "\n",
       "  Single Family Atached Townhouse  Apartment     Unnamed: 2 Unnamed: 3  \\\n",
       "0         Yr./Yr. % Chg     Index  Benchmark  Yr./Yr. % Chg      Index   \n",
       "1                  $1,2     4,900         17             9%          3   \n",
       "2                  $1,2     8,000         11             6%          4   \n",
       "3                  $1,0     4,800          9              %          4   \n",
       "4                  $1,2     9,000         15             9%          4   \n",
       "\n",
       "  Unnamed: 4  ... Unnamed: 17 Unnamed: 18 Unnamed: 19 Unnamed: 20 Unnamed: 21  \\\n",
       "0  Benchmark  ...         NaN         NaN         NaN         NaN         NaN   \n",
       "1         .6  ...         $89        ,100        20.0          9%         3.0   \n",
       "2         .1  ...         $81        ,000        10.0          0%         4.0   \n",
       "3         .9  ...         $77        ,200         9.0           %         4.0   \n",
       "4         .7  ...         $70        ,400        12.0          3%         4.0   \n",
       "\n",
       "  Unnamed: 22 Unnamed: 23 Unnamed: 24  Unnamed: 25 Unnamed: 26  \n",
       "0         NaN         NaN         NaN          NaN         NaN  \n",
       "1         0.2         $77        ,500         23.0          6%  \n",
       "2         0.4         $70        ,200         17.0          8%  \n",
       "3         0.9         $67        ,300         19.0          0%  \n",
       "4         0.7         $75        ,700         16.0          1%  \n",
       "\n",
       "[5 rows x 32 columns]"
      ]
     },
     "execution_count": 168,
     "metadata": {},
     "output_type": "execute_result"
    }
   ],
   "source": [
    "#Take June 2022 for example\n",
    "\n",
    "url = generate_url(6,22) \n",
    "tables = read_pdf(url, pages = \"2\", lattice = \"True\", multiple_tables = \"False\", area = [10,0,97,100],relative_area = \"True\")\n",
    "tables[0].head()"
   ]
  },
  {
   "cell_type": "markdown",
   "id": "a0261f27",
   "metadata": {},
   "source": [
    "The column heading format is correct, but the value it reads is completely nonsense."
   ]
  },
  {
   "cell_type": "markdown",
   "id": "b2f1c391",
   "metadata": {},
   "source": [
    "Whatever... Let's move on to GTA data first"
   ]
  },
  {
   "cell_type": "markdown",
   "id": "aac91bd5",
   "metadata": {},
   "source": [
    "### 2) GVA Data"
   ]
  },
  {
   "cell_type": "markdown",
   "id": "433d942b",
   "metadata": {},
   "source": [
    "First of all, Jan. 2016 ~ July 2016 monthly report is missing..."
   ]
  },
  {
   "cell_type": "markdown",
   "id": "8c3991ac",
   "metadata": {},
   "source": [
    "Second, GVA report url has multiple formats over time:"
   ]
  },
  {
   "cell_type": "markdown",
   "id": "7b8050d6",
   "metadata": {},
   "source": [
    "https://www.gvrealtors.ca/content/dam/rebgv_org_content/pdfs/monthly-stats-packages/REBGV-Stats-Pkg-August-2016.pdf"
   ]
  },
  {
   "cell_type": "markdown",
   "id": "9a939c79",
   "metadata": {},
   "source": [
    "https://www.gvrealtors.ca/content/dam/rebgv_org_content/monthly-market-reports/2018-Dec-stats-pkg.pdf"
   ]
  },
  {
   "cell_type": "markdown",
   "id": "4ada2bca",
   "metadata": {},
   "source": [
    "https://www.gvrealtors.ca/content/dam/rebgv_org_content/pdfs/marketwatch/monthly_reports/REBGV-Stats-Pkg-November-2019-F.pdf"
   ]
  },
  {
   "cell_type": "markdown",
   "id": "bb207110",
   "metadata": {},
   "source": [
    "OK, let's try accessing the report using all 3 formats for all month-year combination and see how it goes"
   ]
  },
  {
   "cell_type": "code",
   "execution_count": 18,
   "id": "62ea6bcb",
   "metadata": {
    "scrolled": true
   },
   "outputs": [],
   "source": [
    "def generate_url_van(month, year):\n",
    "\n",
    "    # Define the base URLs for each format\n",
    "    base_urls = [\n",
    "        \"https://www.gvrealtors.ca/content/dam/rebgv_org_content/monthly-market-reports/{Year}-{Month}-stats-pkg.pdf\",\n",
    "        \"https://www.gvrealtors.ca/content/dam/rebgv_org_content/pdfs/marketwatch/monthly_reports/REBGV-Stats-Pkg-{Month}-{Year}-F.pdf\",\n",
    "        \"https://www.gvrealtors.ca/content/dam/rebgv_org_content/pdfs/monthly-stats-packages/REBGV-Stats-Pkg-{Month}-{Year}.pdf\",\n",
    "        \"https://www.gvrealtors.ca/content/dam/rebgv_org_content/pdfs/monthly-stats-packages/REBGV-Stats-Package-{Month}-{Year}.pdf\",\n",
    "        \"https://www.gvrealtors.ca/content/dam/rebgv_org_content/pdfs/monthly-stats-packages/REBGV-Stats-Pkg-{Month}-{Year}-Updated%20HPI.pdf\",\n",
    "        \"https://members.rebgv.org/news/REBGV-Stats-Pkg-{Month}-{Year}.pdf\",\n",
    "        \"https://www.gvrealtors.ca/content/dam/rebgv_org_content/pdfs/REBGV-Stats-Pkg-{Month}-{Year}.pdf\",\n",
    "        \"https://www.gvrealtors.ca/content/dam/rebgv_org_content/pdfs/monthly-stats-packages/{YearMonth}-REBGV-Stats-Pkg-{Month}-{Year}.pdf\",\n",
    "        \"https://www.gvrealtors.ca/content/dam/rebgv_org_content/pdfs/monthly-stats-packages/REBGV%20Stats%20Package%20{Month}%20{Year}.pdf\",\n",
    "        \"https://www.gvrealtors.ca/content/dam/rebgv_org_content/pdfs/monthly-stats-packages/{Year}-01-{Month}-Stats-Package.pdf\",\n",
    "        \"https://www.gvrealtors.ca/content/dam/rebgv_org_content/pdfs/monthly-stats-packages/{Year}-01-{Month}-Stats--Package.pdf\"\n",
    "    ]\n",
    "\n",
    "\n",
    "    # Get the month name and abbreviation\n",
    "    month_name = calendar.month_name[month]\n",
    "    month_abbr = calendar.month_abbr[month]\n",
    "    year_month = f\"{year}{month:02d}\"\n",
    "\n",
    "    # Iterate through each URL pattern\n",
    "    for base_url in base_urls:\n",
    "        # Replace placeholders in the URL pattern\n",
    "        url_1 = base_url.format(Year=str(year), Month=month_name, YearMonth=year_month)\n",
    "        url_2 = base_url.format(Year=str(year), Month=month_abbr, YearMonth=year_month)\n",
    "        url_3 = base_url.format(Year=str(year), Month=\"Sept\", YearMonth=year_month)\n",
    "\n",
    "        # Try fetching the first URL\n",
    "        if requests.get(url_1).status_code == 200:\n",
    "            available_urls_info.append({\"Year\": year, \"Month\": month, \"URL\": url_1})\n",
    "            return url_1\n",
    "\n",
    "        # Try fetching the second URL if the first one fails\n",
    "        elif requests.get(url_2).status_code == 200:\n",
    "            available_urls_info.append({\"Year\": year, \"Month\": month, \"URL\": url_2})\n",
    "            return url_2\n",
    "\n",
    "        # Special case for September URLs\n",
    "        if month == 9:\n",
    "            url_3 = base_url.format(Year=str(year), Month=\"Sept\", YearMonth=year_month)\n",
    "            if requests.get(url_3).status_code == 200:\n",
    "                return url_3\n",
    "    \n",
    "    return None\n",
    "    # If the function cannot find anything"
   ]
  },
  {
   "cell_type": "code",
   "execution_count": 19,
   "id": "3c893afe",
   "metadata": {},
   "outputs": [],
   "source": [
    "def extract_table_van(url, month, year):    \n",
    "    tables = read_pdf(url, pages = \"3\", multiple_tables = \"False\")\n",
    "    \n",
    "    if not tables or tables[0].empty:\n",
    "        return None\n",
    "    \n",
    "    else:\n",
    "        table = tables[0]\n",
    "        new_header = table.iloc[1] # Set new header with the second row of the table\n",
    "        new_header[0] = \"Property Type\"\n",
    "        new_header[1] = \"Location\"\n",
    "        table = table[2:]  # Take the data below the header row\n",
    "        table.columns = new_header\n",
    "\n",
    "        end_here_index = (table['Property Type'] == 'Single Family Detached').idxmax()\n",
    "        table = table.iloc[:end_here_index, 1:]\n",
    "\n",
    "        if month < 10:\n",
    "            table[\"Month_Year\"] = f'0{month}_{year}'\n",
    "        else:\n",
    "            table[\"Month_Year\"] = f'{month}_{year}'\n",
    "\n",
    "    return table"
   ]
  },
  {
   "cell_type": "code",
   "execution_count": 20,
   "id": "2f3bb9b0",
   "metadata": {},
   "outputs": [
    {
     "ename": "ValueError",
     "evalue": "No objects to concatenate",
     "output_type": "error",
     "traceback": [
      "\u001b[0;31m---------------------------------------------------------------------------\u001b[0m",
      "\u001b[0;31mValueError\u001b[0m                                Traceback (most recent call last)",
      "\u001b[0;32m/var/folders/hn/gfxxh51d76nbszjdcrp5pzy80000gn/T/ipykernel_45779/2049465451.py\u001b[0m in \u001b[0;36m<module>\u001b[0;34m\u001b[0m\n\u001b[1;32m     12\u001b[0m                 \u001b[0mdata_list\u001b[0m\u001b[0;34m.\u001b[0m\u001b[0mappend\u001b[0m\u001b[0;34m(\u001b[0m\u001b[0mextracted_data\u001b[0m\u001b[0;34m)\u001b[0m\u001b[0;34m\u001b[0m\u001b[0;34m\u001b[0m\u001b[0m\n\u001b[1;32m     13\u001b[0m \u001b[0;34m\u001b[0m\u001b[0m\n\u001b[0;32m---> 14\u001b[0;31m \u001b[0mHPI_GVA\u001b[0m \u001b[0;34m=\u001b[0m \u001b[0mpd\u001b[0m\u001b[0;34m.\u001b[0m\u001b[0mconcat\u001b[0m\u001b[0;34m(\u001b[0m\u001b[0mdata_list\u001b[0m\u001b[0;34m,\u001b[0m \u001b[0mignore_index\u001b[0m\u001b[0;34m=\u001b[0m\u001b[0;32mTrue\u001b[0m\u001b[0;34m)\u001b[0m\u001b[0;34m\u001b[0m\u001b[0;34m\u001b[0m\u001b[0m\n\u001b[0m\u001b[1;32m     15\u001b[0m \u001b[0;34m\u001b[0m\u001b[0m\n\u001b[1;32m     16\u001b[0m columns_name = [\"Location\", \"Price\", \"Index\", \"%1M_Change\", \"%3M_Change\", \"%6M_Change\", \n",
      "\u001b[0;32m~/opt/anaconda3/lib/python3.9/site-packages/pandas/util/_decorators.py\u001b[0m in \u001b[0;36mwrapper\u001b[0;34m(*args, **kwargs)\u001b[0m\n\u001b[1;32m    309\u001b[0m                     \u001b[0mstacklevel\u001b[0m\u001b[0;34m=\u001b[0m\u001b[0mstacklevel\u001b[0m\u001b[0;34m,\u001b[0m\u001b[0;34m\u001b[0m\u001b[0;34m\u001b[0m\u001b[0m\n\u001b[1;32m    310\u001b[0m                 )\n\u001b[0;32m--> 311\u001b[0;31m             \u001b[0;32mreturn\u001b[0m \u001b[0mfunc\u001b[0m\u001b[0;34m(\u001b[0m\u001b[0;34m*\u001b[0m\u001b[0margs\u001b[0m\u001b[0;34m,\u001b[0m \u001b[0;34m**\u001b[0m\u001b[0mkwargs\u001b[0m\u001b[0;34m)\u001b[0m\u001b[0;34m\u001b[0m\u001b[0;34m\u001b[0m\u001b[0m\n\u001b[0m\u001b[1;32m    312\u001b[0m \u001b[0;34m\u001b[0m\u001b[0m\n\u001b[1;32m    313\u001b[0m         \u001b[0;32mreturn\u001b[0m \u001b[0mwrapper\u001b[0m\u001b[0;34m\u001b[0m\u001b[0;34m\u001b[0m\u001b[0m\n",
      "\u001b[0;32m~/opt/anaconda3/lib/python3.9/site-packages/pandas/core/reshape/concat.py\u001b[0m in \u001b[0;36mconcat\u001b[0;34m(objs, axis, join, ignore_index, keys, levels, names, verify_integrity, sort, copy)\u001b[0m\n\u001b[1;32m    345\u001b[0m     \u001b[0mValueError\u001b[0m\u001b[0;34m:\u001b[0m \u001b[0mIndexes\u001b[0m \u001b[0mhave\u001b[0m \u001b[0moverlapping\u001b[0m \u001b[0mvalues\u001b[0m\u001b[0;34m:\u001b[0m \u001b[0;34m[\u001b[0m\u001b[0;34m'a'\u001b[0m\u001b[0;34m]\u001b[0m\u001b[0;34m\u001b[0m\u001b[0;34m\u001b[0m\u001b[0m\n\u001b[1;32m    346\u001b[0m     \"\"\"\n\u001b[0;32m--> 347\u001b[0;31m     op = _Concatenator(\n\u001b[0m\u001b[1;32m    348\u001b[0m         \u001b[0mobjs\u001b[0m\u001b[0;34m,\u001b[0m\u001b[0;34m\u001b[0m\u001b[0;34m\u001b[0m\u001b[0m\n\u001b[1;32m    349\u001b[0m         \u001b[0maxis\u001b[0m\u001b[0;34m=\u001b[0m\u001b[0maxis\u001b[0m\u001b[0;34m,\u001b[0m\u001b[0;34m\u001b[0m\u001b[0;34m\u001b[0m\u001b[0m\n",
      "\u001b[0;32m~/opt/anaconda3/lib/python3.9/site-packages/pandas/core/reshape/concat.py\u001b[0m in \u001b[0;36m__init__\u001b[0;34m(self, objs, axis, join, keys, levels, names, ignore_index, verify_integrity, copy, sort)\u001b[0m\n\u001b[1;32m    402\u001b[0m \u001b[0;34m\u001b[0m\u001b[0m\n\u001b[1;32m    403\u001b[0m         \u001b[0;32mif\u001b[0m \u001b[0mlen\u001b[0m\u001b[0;34m(\u001b[0m\u001b[0mobjs\u001b[0m\u001b[0;34m)\u001b[0m \u001b[0;34m==\u001b[0m \u001b[0;36m0\u001b[0m\u001b[0;34m:\u001b[0m\u001b[0;34m\u001b[0m\u001b[0;34m\u001b[0m\u001b[0m\n\u001b[0;32m--> 404\u001b[0;31m             \u001b[0;32mraise\u001b[0m \u001b[0mValueError\u001b[0m\u001b[0;34m(\u001b[0m\u001b[0;34m\"No objects to concatenate\"\u001b[0m\u001b[0;34m)\u001b[0m\u001b[0;34m\u001b[0m\u001b[0;34m\u001b[0m\u001b[0m\n\u001b[0m\u001b[1;32m    405\u001b[0m \u001b[0;34m\u001b[0m\u001b[0m\n\u001b[1;32m    406\u001b[0m         \u001b[0;32mif\u001b[0m \u001b[0mkeys\u001b[0m \u001b[0;32mis\u001b[0m \u001b[0;32mNone\u001b[0m\u001b[0;34m:\u001b[0m\u001b[0;34m\u001b[0m\u001b[0;34m\u001b[0m\u001b[0m\n",
      "\u001b[0;31mValueError\u001b[0m: No objects to concatenate"
     ]
    }
   ],
   "source": [
    "data_list = []\n",
    "\n",
    "for year in range(16, 24):\n",
    "    for month in range (1,13):\n",
    "        \n",
    "        url = generate_url_van(month, year)\n",
    "        if url is not None:\n",
    "            extracted_data = extract_table_van(url, month, year)\n",
    "\n",
    "            if extracted_data is not None:\n",
    "                extracted_data.reset_index(drop=True, inplace=True)\n",
    "                data_list.append(extracted_data)\n",
    "\n",
    "HPI_GVA = pd.concat(data_list, ignore_index=True)\n",
    "\n",
    "columns_name = [\"Location\", \"Price\", \"Index\", \"%1M_Change\", \"%3M_Change\", \"%6M_Change\", \n",
    "               \"%1Y_Change\", \"%3Y_Change\", \"%5Y_Change\", \"%10Y_Change\", \"Month_Year\"]\n",
    "\n",
    "HPI_GVA.columns = columns_name"
   ]
  },
  {
   "cell_type": "code",
   "execution_count": null,
   "id": "29cc31d9",
   "metadata": {},
   "outputs": [],
   "source": [
    "HPI_GVA.to_csv(\"/Users/changanlee/Desktop/University/Undergrad/4th-Year/Winter Semester/ECO475/Term Paper/Raw Data/HPI_GVA.csv\",\n",
    "               index = False)"
   ]
  },
  {
   "cell_type": "code",
   "execution_count": null,
   "id": "c3fb2b01",
   "metadata": {},
   "outputs": [],
   "source": []
  }
 ],
 "metadata": {
  "kernelspec": {
   "display_name": "Python 3 (ipykernel)",
   "language": "python",
   "name": "python3"
  },
  "language_info": {
   "codemirror_mode": {
    "name": "ipython",
    "version": 3
   },
   "file_extension": ".py",
   "mimetype": "text/x-python",
   "name": "python",
   "nbconvert_exporter": "python",
   "pygments_lexer": "ipython3",
   "version": "3.9.13"
  }
 },
 "nbformat": 4,
 "nbformat_minor": 5
}
