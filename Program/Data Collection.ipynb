{
 "cells": [
  {
   "cell_type": "markdown",
   "id": "ab5b3501",
   "metadata": {},
   "source": [
    "## ECO475 Group 2 Notebook Code"
   ]
  },
  {
   "cell_type": "markdown",
   "id": "5c635d2b",
   "metadata": {},
   "source": [
    "#### Author: Shih-Chieh Lee, Lingyun Ma, Yuwen Zhao"
   ]
  },
  {
   "cell_type": "markdown",
   "id": "f7e4f70c",
   "metadata": {},
   "source": [
    "#### Logistics"
   ]
  },
  {
   "cell_type": "code",
   "execution_count": null,
   "id": "7e9347cf",
   "metadata": {},
   "outputs": [],
   "source": []
  }
 ],
 "metadata": {
  "kernelspec": {
   "display_name": "Python 3 (ipykernel)",
   "language": "python",
   "name": "python3"
  },
  "language_info": {
   "codemirror_mode": {
    "name": "ipython",
    "version": 3
   },
   "file_extension": ".py",
   "mimetype": "text/x-python",
   "name": "python",
   "nbconvert_exporter": "python",
   "pygments_lexer": "ipython3",
   "version": "3.9.13"
  }
 },
 "nbformat": 4,
 "nbformat_minor": 5
}
