{
 "cells": [
  {
   "cell_type": "markdown",
   "id": "3c1e3b11",
   "metadata": {},
   "source": [
    "# ECO475 Group 2 Notebook Code"
   ]
  },
  {
   "cell_type": "markdown",
   "id": "f9423e14",
   "metadata": {},
   "source": [
    "### Author: Shih-Chieh Lee, Lingyun Ma, Yuwen Zhao"
   ]
  },
  {
   "cell_type": "markdown",
   "id": "0d1e39c6",
   "metadata": {},
   "source": [
    "# 1. Basic Setting"
   ]
  },
  {
   "cell_type": "markdown",
   "id": "9d997882",
   "metadata": {},
   "source": [
    "## a. Package Install"
   ]
  },
  {
   "cell_type": "code",
   "execution_count": 1,
   "id": "2d533b01",
   "metadata": {},
   "outputs": [],
   "source": [
    "#!pip install stats-can\n",
    "#!pip install pandas\n",
    "#!pip install numpy\n",
    "#!pip install matplotlib\n",
    "#!pip install statsmodels\n",
    "#!pip install linearmodels\n",
    "#!pip install tabula-py (Note: Pls install tabula-py, not tabula——血的教训)"
   ]
  },
  {
   "cell_type": "markdown",
   "id": "159c7ae7",
   "metadata": {},
   "source": [
    "## b. Package Import "
   ]
  },
  {
   "cell_type": "code",
   "execution_count": 2,
   "id": "f2793827",
   "metadata": {},
   "outputs": [],
   "source": [
    "# Data Collection Packages\n",
    "from stats_can import StatsCan #read StatsCan data \n",
    "\n",
    "\n",
    "sc = StatsCan(data_folder=\"/Users/changanlee/Documents/GitHub/Housing_Price_Immigration/Input\") \n",
    "#Create an instance of StatsCan class"
   ]
  },
  {
   "cell_type": "code",
   "execution_count": 3,
   "id": "f4281b46",
   "metadata": {},
   "outputs": [
    {
     "name": "stdout",
     "output_type": "stream",
     "text": [
      "java version \"1.8.0_401\"\r\n",
      "Java(TM) SE Runtime Environment (build 1.8.0_401-b10)\r\n",
      "Java HotSpot(TM) 64-Bit Server VM (build 25.401-b10, mixed mode)\r\n"
     ]
    }
   ],
   "source": [
    "# Import tabula and check java environment\n",
    "from tabula.io import read_pdf  #Scrape table from pdf files\n",
    "import requests \n",
    "from datetime import datetime\n",
    "!java -version"
   ]
  },
  {
   "cell_type": "code",
   "execution_count": 4,
   "id": "74954897",
   "metadata": {},
   "outputs": [],
   "source": [
    "# Data Processing Packages\n",
    "import pandas as pd #pandas\n",
    "import numpy as np \n",
    "import matplotlib.pyplot as plt #data visualization\n",
    "%matplotlib inline\n",
    "# activate plot theme\n",
    "import qeds"
   ]
  },
  {
   "cell_type": "code",
   "execution_count": 5,
   "id": "d9066ae7",
   "metadata": {},
   "outputs": [],
   "source": [
    "# Stats Model Packages\n",
    "import statsmodels.api as sm # statistical model\n",
    "from statsmodels.iolib.summary2 import summary_col # summary table for regression result\n",
    "from linearmodels.iv import IV2SLS # IV "
   ]
  },
  {
   "cell_type": "markdown",
   "id": "8c36ab2f",
   "metadata": {},
   "source": [
    "# 2. Data Collection"
   ]
  },
  {
   "cell_type": "markdown",
   "id": "e6f60218",
   "metadata": {},
   "source": [
    "## a. StatsCan Data "
   ]
  },
  {
   "cell_type": "markdown",
   "id": "7f689ff6",
   "metadata": {},
   "source": [
    "Let's start with datasets from Statistics Canada, as it's earier to collect directly using StatsCan library"
   ]
  },
  {
   "cell_type": "code",
   "execution_count": 6,
   "id": "74164688",
   "metadata": {},
   "outputs": [
    {
     "data": {
      "text/html": [
       "<div>\n",
       "<style scoped>\n",
       "    .dataframe tbody tr th:only-of-type {\n",
       "        vertical-align: middle;\n",
       "    }\n",
       "\n",
       "    .dataframe tbody tr th {\n",
       "        vertical-align: top;\n",
       "    }\n",
       "\n",
       "    .dataframe thead th {\n",
       "        text-align: right;\n",
       "    }\n",
       "</style>\n",
       "<table border=\"1\" class=\"dataframe\">\n",
       "  <thead>\n",
       "    <tr style=\"text-align: right;\">\n",
       "      <th></th>\n",
       "      <th>REF_DATE</th>\n",
       "      <th>GEO</th>\n",
       "      <th>DGUID</th>\n",
       "      <th>Sex</th>\n",
       "      <th>Age group</th>\n",
       "      <th>UOM</th>\n",
       "      <th>UOM_ID</th>\n",
       "      <th>SCALAR_FACTOR</th>\n",
       "      <th>SCALAR_ID</th>\n",
       "      <th>VECTOR</th>\n",
       "      <th>COORDINATE</th>\n",
       "      <th>VALUE</th>\n",
       "      <th>STATUS</th>\n",
       "      <th>SYMBOL</th>\n",
       "      <th>TERMINATED</th>\n",
       "      <th>DECIMALS</th>\n",
       "    </tr>\n",
       "  </thead>\n",
       "  <tbody>\n",
       "    <tr>\n",
       "      <th>0</th>\n",
       "      <td>2001-01-01</td>\n",
       "      <td>Canada</td>\n",
       "      <td>2016A00001124</td>\n",
       "      <td>Both sexes</td>\n",
       "      <td>All ages</td>\n",
       "      <td>Persons</td>\n",
       "      <td>249</td>\n",
       "      <td>units</td>\n",
       "      <td>0</td>\n",
       "      <td>v1462635598</td>\n",
       "      <td>178.1.1</td>\n",
       "      <td>31020902.0</td>\n",
       "      <td>NaN</td>\n",
       "      <td>NaN</td>\n",
       "      <td>NaN</td>\n",
       "      <td>0</td>\n",
       "    </tr>\n",
       "    <tr>\n",
       "      <th>1</th>\n",
       "      <td>2001-01-01</td>\n",
       "      <td>Canada</td>\n",
       "      <td>2016A00001124</td>\n",
       "      <td>Both sexes</td>\n",
       "      <td>0 to 4 years</td>\n",
       "      <td>Persons</td>\n",
       "      <td>249</td>\n",
       "      <td>units</td>\n",
       "      <td>0</td>\n",
       "      <td>v1462635576</td>\n",
       "      <td>178.1.2</td>\n",
       "      <td>1754354.0</td>\n",
       "      <td>NaN</td>\n",
       "      <td>NaN</td>\n",
       "      <td>NaN</td>\n",
       "      <td>0</td>\n",
       "    </tr>\n",
       "    <tr>\n",
       "      <th>2</th>\n",
       "      <td>2001-01-01</td>\n",
       "      <td>Canada</td>\n",
       "      <td>2016A00001124</td>\n",
       "      <td>Both sexes</td>\n",
       "      <td>0 years</td>\n",
       "      <td>Persons</td>\n",
       "      <td>249</td>\n",
       "      <td>units</td>\n",
       "      <td>0</td>\n",
       "      <td>v1462635484</td>\n",
       "      <td>178.1.3</td>\n",
       "      <td>328494.0</td>\n",
       "      <td>NaN</td>\n",
       "      <td>NaN</td>\n",
       "      <td>NaN</td>\n",
       "      <td>0</td>\n",
       "    </tr>\n",
       "    <tr>\n",
       "      <th>3</th>\n",
       "      <td>2001-01-01</td>\n",
       "      <td>Canada</td>\n",
       "      <td>2016A00001124</td>\n",
       "      <td>Both sexes</td>\n",
       "      <td>1 year</td>\n",
       "      <td>Persons</td>\n",
       "      <td>249</td>\n",
       "      <td>units</td>\n",
       "      <td>0</td>\n",
       "      <td>v1462635485</td>\n",
       "      <td>178.1.4</td>\n",
       "      <td>345259.0</td>\n",
       "      <td>NaN</td>\n",
       "      <td>NaN</td>\n",
       "      <td>NaN</td>\n",
       "      <td>0</td>\n",
       "    </tr>\n",
       "    <tr>\n",
       "      <th>4</th>\n",
       "      <td>2001-01-01</td>\n",
       "      <td>Canada</td>\n",
       "      <td>2016A00001124</td>\n",
       "      <td>Both sexes</td>\n",
       "      <td>2 years</td>\n",
       "      <td>Persons</td>\n",
       "      <td>249</td>\n",
       "      <td>units</td>\n",
       "      <td>0</td>\n",
       "      <td>v1462635486</td>\n",
       "      <td>178.1.5</td>\n",
       "      <td>349563.0</td>\n",
       "      <td>NaN</td>\n",
       "      <td>NaN</td>\n",
       "      <td>NaN</td>\n",
       "      <td>0</td>\n",
       "    </tr>\n",
       "  </tbody>\n",
       "</table>\n",
       "</div>"
      ],
      "text/plain": [
       "    REF_DATE     GEO          DGUID         Sex     Age group      UOM UOM_ID  \\\n",
       "0 2001-01-01  Canada  2016A00001124  Both sexes      All ages  Persons    249   \n",
       "1 2001-01-01  Canada  2016A00001124  Both sexes  0 to 4 years  Persons    249   \n",
       "2 2001-01-01  Canada  2016A00001124  Both sexes       0 years  Persons    249   \n",
       "3 2001-01-01  Canada  2016A00001124  Both sexes        1 year  Persons    249   \n",
       "4 2001-01-01  Canada  2016A00001124  Both sexes       2 years  Persons    249   \n",
       "\n",
       "  SCALAR_FACTOR SCALAR_ID       VECTOR COORDINATE       VALUE STATUS SYMBOL  \\\n",
       "0         units         0  v1462635598    178.1.1  31020902.0    NaN    NaN   \n",
       "1         units         0  v1462635576    178.1.2   1754354.0    NaN    NaN   \n",
       "2         units         0  v1462635484    178.1.3    328494.0    NaN    NaN   \n",
       "3         units         0  v1462635485    178.1.4    345259.0    NaN    NaN   \n",
       "4         units         0  v1462635486    178.1.5    349563.0    NaN    NaN   \n",
       "\n",
       "  TERMINATED DECIMALS  \n",
       "0        NaN        0  \n",
       "1        NaN        0  \n",
       "2        NaN        0  \n",
       "3        NaN        0  \n",
       "4        NaN        0  "
      ]
     },
     "execution_count": 6,
     "metadata": {},
     "output_type": "execute_result"
    }
   ],
   "source": [
    "CMA_pop = sc.table_to_df(\"17-10-0135-01\")\n",
    "CMA_pop.head()"
   ]
  },
  {
   "cell_type": "markdown",
   "id": "d6b5db2e",
   "metadata": {},
   "source": [
    "## b. CREA Monthly House Price Index Data"
   ]
  },
  {
   "cell_type": "markdown",
   "id": "f8396cff",
   "metadata": {},
   "source": [
    "### 1) GTA Data"
   ]
  },
  {
   "cell_type": "code",
   "execution_count": 7,
   "id": "92b18234",
   "metadata": {},
   "outputs": [],
   "source": [
    "# Define func to generate URLs based on months and years\n",
    "def generate_url(month, year):\n",
    "    if month < 10:\n",
    "        return f\"https://trreb.ca/files/market-stats/home-price-index/TREB_MLS_HPI_Public_Tables_0{month}{year}.pdf\"\n",
    "    else:\n",
    "        return f\"https://trreb.ca/files/market-stats/home-price-index/TREB_MLS_HPI_Public_Tables_{month}{year}.pdf\"\n",
    "    #return the corresponding GTA HPI monthly report pdf for scrapping"
   ]
  },
  {
   "cell_type": "markdown",
   "id": "059fccaa",
   "metadata": {},
   "source": [
    "Let's do one scrapping for example"
   ]
  },
  {
   "cell_type": "code",
   "execution_count": 15,
   "id": "b1547edb",
   "metadata": {},
   "outputs": [
    {
     "name": "stderr",
     "output_type": "stream",
     "text": [
      "Got stderr: Mar 03, 2024 11:59:48 AM org.apache.pdfbox.pdmodel.font.PDTrueTypeFont <init>\n",
      "WARNING: Using fallback font 'Helvetica-Bold' for 'ArialUnicodeMS,Bold'\n",
      "Mar 03, 2024 11:59:51 AM org.apache.pdfbox.pdmodel.PDDocument importPage\n",
      "WARNING: inherited resources of source document are not imported to destination page\n",
      "Mar 03, 2024 11:59:51 AM org.apache.pdfbox.pdmodel.PDDocument importPage\n",
      "WARNING: call importedPage.setResources(page.getResources()) to do this\n",
      "Mar 03, 2024 11:59:51 AM org.apache.pdfbox.pdmodel.font.PDTrueTypeFont <init>\n",
      "WARNING: Using fallback font 'Helvetica-Bold' for 'ArialUnicodeMS,Bold'\n",
      "\n"
     ]
    },
    {
     "data": {
      "text/plain": [
       "[                Unnamed: 0 Unnamed: 1   Composite      Unnamed: 2  \\\n",
       " 0                      NaN      Index   Benchmark  Yr./Yr. % Chg.   \n",
       " 1               TREB Total      231.0    $705,900          22.61%   \n",
       " 2            Halton Region      243.3    $833,600          22.69%   \n",
       " 3               Burlington      236.2    $718,100          21.19%   \n",
       " 4             Halton Hills      228.8    $708,300          22.29%   \n",
       " 5                   Milton      228.3    $685,200          20.67%   \n",
       " 6                 Oakville      259.3    $991,800          24.19%   \n",
       " 7              Peel Region      221.9    $629,500          23.21%   \n",
       " 8                 Brampton      220.2    $559,400          24.13%   \n",
       " 9                  Caledon      202.3    $722,200          24.72%   \n",
       " 10             Mississauga      224.9    $667,500          22.43%   \n",
       " 11         City of Toronto      221.7    $720,200          18.94%   \n",
       " 12             York Region      263.8    $902,200          25.80%   \n",
       " 13                  Aurora      261.5    $839,300          30.10%   \n",
       " 14        East Gwillimbury      228.1    $730,900          24.99%   \n",
       " 15                Georgina      230.6    $478,800          29.48%   \n",
       " 16                    King      233.4    $977,000          24.61%   \n",
       " 17                 Markham      275.4    $954,700          26.33%   \n",
       " 18               Newmarket      243.4    $717,700          25.66%   \n",
       " 19           Richmond Hill      286.4  $1,035,800          28.89%   \n",
       " 20                 Vaughan      248.6    $897,900          21.86%   \n",
       " 21  Whitchurch-Stouffville      265.0    $931,400          24.53%   \n",
       " 22           Durham Region      220.9    $517,100          26.95%   \n",
       " 23                    Ajax      230.4    $568,400          24.61%   \n",
       " 24                   Brock      170.7    $310,500          19.87%   \n",
       " 25              Clarington      212.1    $447,700          22.96%   \n",
       " 26                  Oshawa      222.5    $425,700          30.35%   \n",
       " 27               Pickering      225.9    $608,200          26.55%   \n",
       " 28                  Scugog      195.4    $510,200          21.82%   \n",
       " 29                Uxbridge      201.5    $615,900          21.39%   \n",
       " 30                  Whitby      224.3    $584,700          30.26%   \n",
       " 31         Dufferin County      220.8    $506,100          25.03%   \n",
       " 32             Orangeville      220.8    $506,100          25.03%   \n",
       " 33           Simcoe County      221.0    $473,400          27.38%   \n",
       " 34       Adjala-Tosorontio      180.7    $641,300          21.68%   \n",
       " 35           Bradford West      244.7    $604,800          23.15%   \n",
       " 36         GEswsiallimbury      215.0    $491,400          26.40%   \n",
       " 37                Innisfil      216.2    $397,500          31.67%   \n",
       " 38           New Tecumseth      202.1    $467,800          26.79%   \n",
       " \n",
       "             Single-Family Detached Unnamed: 3    Single-Family Attached  \\\n",
       " 0   Index Benchmark Yr./Yr. % Chg.      Index  Benchmark Yr./Yr. % Chg.   \n",
       " 1            242.6 $907,100 24.86%      245.1           $691,200 23.10%   \n",
       " 2            245.1 $934,500 22.86%      244.3           $649,600 23.38%   \n",
       " 3            236.6 $845,500 20.96%      234.0           $583,200 20.18%   \n",
       " 4            226.0 $757,700 22.29%      232.3           $581,900 22.65%   \n",
       " 5            226.9 $794,200 20.82%      236.1           $595,900 22.20%   \n",
       " 6          261.1 $1,107,000 24.10%      262.7           $733,800 26.24%   \n",
       " 7            226.6 $797,800 23.35%      230.2           $589,400 24.16%   \n",
       " 8            218.7 $637,900 23.70%      224.7           $527,100 24.83%   \n",
       " 9            202.8 $745,100 24.95%      230.8           $570,200 27.51%   \n",
       " 10           241.4 $964,200 23.10%      237.7           $655,600 23.54%   \n",
       " 11         245.4 $1,076,300 21.73%      246.0           $819,900 18.44%   \n",
       " 12         274.0 $1,067,600 28.52%      271.9           $787,000 26.11%   \n",
       " 13           264.5 $983,200 30.75%      268.3           $693,700 29.61%   \n",
       " 14           228.8 $752,800 25.37%      212.8           $489,300 25.40%   \n",
       " 15           241.2 $499,100 29.12%      247.4           $487,800 29.39%   \n",
       " 16           234.0 $973,400 24.20%      244.0           $571,400 22.12%   \n",
       " 17         299.8 $1,233,400 31.32%      280.2           $838,000 25.54%   \n",
       " 18           248.9 $839,000 29.37%      251.9           $593,300 25.95%   \n",
       " 19         314.9 $1,338,200 31.59%      293.1           $890,800 28.84%   \n",
       " 20         245.5 $1,020,500 24.12%      264.2           $800,300 24.68%   \n",
       " 21           265.1 $954,600 24.81%      231.6           $636,100 21.26%   \n",
       " 22           218.2 $567,300 26.64%      231.9           $463,200 26.44%   \n",
       " 23           227.8 $610,600 24.21%      242.0           $520,300 24.74%   \n",
       " 24           171.6 $313,200 19.92%          -                       - -   \n",
       " 25           206.4 $497,100 22.71%      217.0           $414,500 19.36%   \n",
       " 26           219.7 $468,100 29.69%      234.3           $393,500 30.17%   \n",
       " 27           224.5 $702,700 26.55%      233.8           $544,700 26.79%   \n",
       " 28           201.2 $521,200 22.24%      194.4           $406,800 22.88%   \n",
       " 29           200.2 $618,200 21.11%      197.1           $483,700 22.80%   \n",
       " 30           226.2 $650,600 30.60%      232.7           $512,600 30.58%   \n",
       " 31           230.6 $525,500 24.85%      214.8           $402,500 24.81%   \n",
       " 32           230.6 $525,500 24.85%      214.8           $402,500 24.81%   \n",
       " 33           212.7 $474,100 27.59%      231.1           $439,500 27.19%   \n",
       " 34           180.7 $641,300 21.68%          -                       - -   \n",
       " 35           222.6 $679,000 23.39%      247.9           $515,400 23.52%   \n",
       " 36           209.3 $514,500 25.33%      218.7           $372,600 28.42%   \n",
       " 37           216.2 $397,900 31.67%      240.9           $374,700 35.11%   \n",
       " 38           195.1 $502,900 25.63%      210.3           $401,600 26.53%   \n",
       " \n",
       "    Unnamed: 4                 Townhouse Unnamed: 5  Apartment      Unnamed: 6  \n",
       " 0       Index  Benchmark Yr./Yr. % Chg.      Index  Benchmark  Yr./Yr. % Chg.  \n",
       " 1       221.5           $496,500 22.85%      195.4   $392,400          18.21%  \n",
       " 2       236.6           $479,400 22.15%          -          -               -  \n",
       " 3       238.2           $489,400 23.29%          -          -               -  \n",
       " 4       242.1           $430,800 22.77%          -          -               -  \n",
       " 5       218.9           $384,000 21.68%          -          -               -  \n",
       " 6       237.8           $566,600 20.83%          -          -               -  \n",
       " 7       219.8           $472,400 23.83%      191.7   $331,400          21.18%  \n",
       " 8       217.3           $398,900 27.82%      165.8   $259,600          18.51%  \n",
       " 9           -                       - -          -          -               -  \n",
       " 10      220.6           $495,800 22.62%      196.1   $345,200          21.57%  \n",
       " 11      221.2           $542,700 20.74%      196.6   $405,100          18.01%  \n",
       " 12      222.6           $571,000 20.72%      190.4   $418,800          13.94%  \n",
       " 13      200.1           $508,200 23.44%      200.6   $415,400          18.63%  \n",
       " 14          -                       - -          -          -               -  \n",
       " 15          -                       - -          -          -               -  \n",
       " 16          -                       - -          -          -               -  \n",
       " 17      225.6           $573,500 19.62%      189.6   $459,200          14.35%  \n",
       " 18      225.9           $459,400 18.77%      204.1   $344,200          19.43%  \n",
       " 19      207.9           $575,400 18.46%      184.6   $383,300          15.09%  \n",
       " 20      244.9           $666,600 26.76%      194.8   $433,800          11.89%  \n",
       " 21          -                       - -          -          -               -  \n",
       " 22      213.6           $347,000 31.28%      199.4   $358,100          25.25%  \n",
       " 23      227.0           $414,900 29.79%      184.9   $313,600          22.37%  \n",
       " 24          -                       - -          -          -               -  \n",
       " 25      213.9           $334,800 24.36%      207.2   $293,200          30.31%  \n",
       " 26      199.4           $268,900 40.72%      190.4   $231,700          21.74%  \n",
       " 27      228.4           $407,800 27.53%      213.1   $420,300          27.68%  \n",
       " 28          -                       - -          -          -               -  \n",
       " 29          -                       - -          -          -               -  \n",
       " 30      203.8           $371,100 25.88%      189.6   $364,800          22.96%  \n",
       " 31          -                       - -          -          -               -  \n",
       " 32          -                       - -          -          -               -  \n",
       " 33          -                       - -          -          -               -  \n",
       " 34          -                       - -          -          -               -  \n",
       " 35          -                       - -          -          -               -  \n",
       " 36          -                       - -          -          -               -  \n",
       " 37          -                       - -          -          -               -  \n",
       " 38          -                       - -          -          -               -  ]"
      ]
     },
     "execution_count": 15,
     "metadata": {},
     "output_type": "execute_result"
    }
   ],
   "source": [
    "url = generate_url(1,17)\n",
    "table = read_pdf(url,pages = 2)\n",
    "table"
   ]
  },
  {
   "cell_type": "markdown",
   "id": "1ff1e485",
   "metadata": {},
   "source": [
    "End of the example"
   ]
  },
  {
   "cell_type": "markdown",
   "id": "55a798a2",
   "metadata": {},
   "source": [
    "### 2) Loop to Scrape Data"
   ]
  },
  {
   "cell_type": "code",
   "execution_count": null,
   "id": "121c7fd9",
   "metadata": {},
   "outputs": [],
   "source": []
  },
  {
   "cell_type": "code",
   "execution_count": null,
   "id": "6acc97d7",
   "metadata": {},
   "outputs": [],
   "source": [
    "HPI_GTA = []\n",
    "for year in range(2010, 2024):\n",
    "    for month in range(1, 13):\n",
    "        month_name = datetime(year, month, 1).strftime('%b')\n",
    "        url = generate_url(month_name, year)\n",
    "        extracted_data = extract_report_data(url)\n",
    "        \n",
    "        if extracted_data is not None:\n",
    "            extracted_date[\"Month\"] = month_name\n",
    "            HPI.append(extracted_data)"
   ]
  },
  {
   "cell_type": "code",
   "execution_count": null,
   "id": "3077dcbc",
   "metadata": {},
   "outputs": [],
   "source": [
    "HPI"
   ]
  }
 ],
 "metadata": {
  "kernelspec": {
   "display_name": "Python 3 (ipykernel)",
   "language": "python",
   "name": "python3"
  },
  "language_info": {
   "codemirror_mode": {
    "name": "ipython",
    "version": 3
   },
   "file_extension": ".py",
   "mimetype": "text/x-python",
   "name": "python",
   "nbconvert_exporter": "python",
   "pygments_lexer": "ipython3",
   "version": "3.9.13"
  }
 },
 "nbformat": 4,
 "nbformat_minor": 5
}
