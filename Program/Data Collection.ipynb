{
 "cells": [
  {
   "cell_type": "markdown",
   "id": "3c1e3b11",
   "metadata": {},
   "source": [
    "# ECO475 Group 2 Notebook Code"
   ]
  },
  {
   "cell_type": "markdown",
   "id": "f9423e14",
   "metadata": {},
   "source": [
    "### Author: Shih-Chieh Lee, Lingyun Ma, Yuwen Zhao"
   ]
  },
  {
   "cell_type": "markdown",
   "id": "0d1e39c6",
   "metadata": {},
   "source": [
    "# 1. Basic Setting"
   ]
  },
  {
   "cell_type": "markdown",
   "id": "9d997882",
   "metadata": {},
   "source": [
    "## a. Package Install"
   ]
  },
  {
   "cell_type": "code",
   "execution_count": null,
   "id": "2d533b01",
   "metadata": {},
   "outputs": [],
   "source": [
    "#!pip install stats-can\n",
    "#!pip install pandas\n",
    "#!pip install numpy\n",
    "#!pip install matplotlib\n",
    "#!pip install statsmodels\n",
    "#!pip install linearmodels\n",
    "#!pip install tabula-py #Note: Pls install tabula-py, not tabula——血的教训\n",
    "#!pip install warnings"
   ]
  },
  {
   "cell_type": "markdown",
   "id": "159c7ae7",
   "metadata": {},
   "source": [
    "## b. Package Import "
   ]
  },
  {
   "cell_type": "code",
   "execution_count": 1,
   "id": "f2793827",
   "metadata": {},
   "outputs": [],
   "source": [
    "# Data Collection Packages\n",
    "from stats_can import StatsCan #read StatsCan data \n",
    "\n",
    "\n",
    "sc = StatsCan(data_folder=\"/Users/changanlee/Documents/GitHub/Housing_Price_Immigration/Input\") \n",
    "#Create an instance of StatsCan class"
   ]
  },
  {
   "cell_type": "code",
   "execution_count": 2,
   "id": "de264bac",
   "metadata": {},
   "outputs": [],
   "source": [
    "# Import tabula and check java environment\n",
    "from tabula.io import read_pdf  #Scrape table from pdf files\n",
    "import requests \n",
    "from datetime import datetime\n",
    "import calendar\n",
    "import re"
   ]
  },
  {
   "cell_type": "code",
   "execution_count": 3,
   "id": "74954897",
   "metadata": {},
   "outputs": [],
   "source": [
    "# Data Processing Packages\n",
    "import pandas as pd #pandas\n",
    "import numpy as np \n",
    "import matplotlib.pyplot as plt #data visualization\n",
    "%matplotlib inline\n",
    "# activate plot theme\n",
    "import qeds"
   ]
  },
  {
   "cell_type": "code",
   "execution_count": 4,
   "id": "d9066ae7",
   "metadata": {},
   "outputs": [],
   "source": [
    "# Stats Model Packages\n",
    "import statsmodels.api as sm # statistical model\n",
    "from statsmodels.iolib.summary2 import summary_col # summary table for regression result\n",
    "from linearmodels.iv import IV2SLS # IV "
   ]
  },
  {
   "cell_type": "code",
   "execution_count": 5,
   "id": "63af4ca7",
   "metadata": {},
   "outputs": [],
   "source": [
    "# Silence all the warnings cuz they're absolutely annoying if you loop it multiple times\n",
    "import warnings\n",
    "#warnings.filterwarnings('ignore')"
   ]
  },
  {
   "cell_type": "markdown",
   "id": "8c36ab2f",
   "metadata": {},
   "source": [
    "# 2. Data Collection"
   ]
  },
  {
   "cell_type": "markdown",
   "id": "e6f60218",
   "metadata": {},
   "source": [
    "## A. StatsCan Data "
   ]
  },
  {
   "cell_type": "markdown",
   "id": "7f689ff6",
   "metadata": {},
   "source": [
    "Let's start with datasets from Statistics Canada, as it's earier to collect directly using StatsCan library"
   ]
  },
  {
   "cell_type": "code",
   "execution_count": 92,
   "id": "74164688",
   "metadata": {},
   "outputs": [
    {
     "data": {
      "text/html": [
       "<div>\n",
       "<style scoped>\n",
       "    .dataframe tbody tr th:only-of-type {\n",
       "        vertical-align: middle;\n",
       "    }\n",
       "\n",
       "    .dataframe tbody tr th {\n",
       "        vertical-align: top;\n",
       "    }\n",
       "\n",
       "    .dataframe thead th {\n",
       "        text-align: right;\n",
       "    }\n",
       "</style>\n",
       "<table border=\"1\" class=\"dataframe\">\n",
       "  <thead>\n",
       "    <tr style=\"text-align: right;\">\n",
       "      <th></th>\n",
       "      <th>Year</th>\n",
       "      <th>GEO</th>\n",
       "      <th>VALUE</th>\n",
       "      <th>Province</th>\n",
       "    </tr>\n",
       "  </thead>\n",
       "  <tbody>\n",
       "    <tr>\n",
       "      <th>78033</th>\n",
       "      <td>2016</td>\n",
       "      <td>St. John's</td>\n",
       "      <td>111467.0</td>\n",
       "      <td>Newfoundland and Labrador</td>\n",
       "    </tr>\n",
       "    <tr>\n",
       "      <th>78034</th>\n",
       "      <td>2016</td>\n",
       "      <td>Conception Bay South</td>\n",
       "      <td>26810.0</td>\n",
       "      <td>Newfoundland and Labrador</td>\n",
       "    </tr>\n",
       "    <tr>\n",
       "      <th>78035</th>\n",
       "      <td>2016</td>\n",
       "      <td>Mount Pearl</td>\n",
       "      <td>23596.0</td>\n",
       "      <td>Newfoundland and Labrador</td>\n",
       "    </tr>\n",
       "    <tr>\n",
       "      <th>78036</th>\n",
       "      <td>2016</td>\n",
       "      <td>Paradise</td>\n",
       "      <td>22023.0</td>\n",
       "      <td>Newfoundland and Labrador</td>\n",
       "    </tr>\n",
       "    <tr>\n",
       "      <th>78037</th>\n",
       "      <td>2016</td>\n",
       "      <td>Corner Brook</td>\n",
       "      <td>20155.0</td>\n",
       "      <td>Newfoundland and Labrador</td>\n",
       "    </tr>\n",
       "    <tr>\n",
       "      <th>...</th>\n",
       "      <td>...</td>\n",
       "      <td>...</td>\n",
       "      <td>...</td>\n",
       "      <td>...</td>\n",
       "    </tr>\n",
       "    <tr>\n",
       "      <th>114439</th>\n",
       "      <td>2022</td>\n",
       "      <td>Baffin</td>\n",
       "      <td>0.0</td>\n",
       "      <td>Unorganized (NO), Nunavut</td>\n",
       "    </tr>\n",
       "    <tr>\n",
       "      <th>114440</th>\n",
       "      <td>2022</td>\n",
       "      <td>Keewatin</td>\n",
       "      <td>0.0</td>\n",
       "      <td>Unorganized (NO), Nunavut</td>\n",
       "    </tr>\n",
       "    <tr>\n",
       "      <th>114441</th>\n",
       "      <td>2022</td>\n",
       "      <td>Bathurst Inlet</td>\n",
       "      <td>0.0</td>\n",
       "      <td>Nunavut</td>\n",
       "    </tr>\n",
       "    <tr>\n",
       "      <th>114442</th>\n",
       "      <td>2022</td>\n",
       "      <td>Umingmaktok</td>\n",
       "      <td>0.0</td>\n",
       "      <td>Nunavut</td>\n",
       "    </tr>\n",
       "    <tr>\n",
       "      <th>114443</th>\n",
       "      <td>2022</td>\n",
       "      <td>Kitikmeot</td>\n",
       "      <td>0.0</td>\n",
       "      <td>Unorganized (NO), Nunavut</td>\n",
       "    </tr>\n",
       "  </tbody>\n",
       "</table>\n",
       "<p>36134 rows × 4 columns</p>\n",
       "</div>"
      ],
      "text/plain": [
       "        Year                   GEO     VALUE                   Province\n",
       "78033   2016            St. John's  111467.0  Newfoundland and Labrador\n",
       "78034   2016  Conception Bay South   26810.0  Newfoundland and Labrador\n",
       "78035   2016           Mount Pearl   23596.0  Newfoundland and Labrador\n",
       "78036   2016              Paradise   22023.0  Newfoundland and Labrador\n",
       "78037   2016          Corner Brook   20155.0  Newfoundland and Labrador\n",
       "...      ...                   ...       ...                        ...\n",
       "114439  2022                Baffin       0.0  Unorganized (NO), Nunavut\n",
       "114440  2022              Keewatin       0.0  Unorganized (NO), Nunavut\n",
       "114441  2022        Bathurst Inlet       0.0                    Nunavut\n",
       "114442  2022           Umingmaktok       0.0                    Nunavut\n",
       "114443  2022             Kitikmeot       0.0  Unorganized (NO), Nunavut\n",
       "\n",
       "[36134 rows x 4 columns]"
      ]
     },
     "execution_count": 92,
     "metadata": {},
     "output_type": "execute_result"
    }
   ],
   "source": [
    "CMA_pop = sc.table_to_df(\"17-10-0142-01\")\n",
    "CMA_pop = CMA_pop[[\"REF_DATE\",\"GEO\",\"VALUE\"]]\n",
    "CMA_pop['REF_DATE'] = pd.to_datetime(CMA_pop['REF_DATE'])\n",
    "\n",
    "CMA_pop = CMA_pop[CMA_pop['GEO'].str.contains('\\\\(')]\n",
    "CMA_pop[['GEO', 'Province']] = CMA_pop['GEO'].str.split(',', expand=True, n=1)\n",
    "CMA_pop['GEO'] = CMA_pop['GEO'].str.strip()\n",
    "CMA_pop['Province'] = CMA_pop['Province'].str.strip()\n",
    "CMA_pop['GEO'] = CMA_pop['GEO'].str.replace(r'\\s*\\(.*\\)', '', regex=True)\n",
    "\n",
    "\n",
    "CMA_pop['REF_DATE']= CMA_pop['REF_DATE'].dt.year.astype(int)\n",
    "CMA_pop = CMA_pop[CMA_pop['REF_DATE'] >= 2016]\n",
    "CMA_pop = CMA_pop.rename(columns = {\"REF_DATE\":\"Year\"})\n",
    "CMA_pop"
   ]
  },
  {
   "cell_type": "code",
   "execution_count": 93,
   "id": "3fb044d8",
   "metadata": {
    "scrolled": true
   },
   "outputs": [
    {
     "data": {
      "text/html": [
       "<div>\n",
       "<style scoped>\n",
       "    .dataframe tbody tr th:only-of-type {\n",
       "        vertical-align: middle;\n",
       "    }\n",
       "\n",
       "    .dataframe tbody tr th {\n",
       "        vertical-align: top;\n",
       "    }\n",
       "\n",
       "    .dataframe thead th {\n",
       "        text-align: right;\n",
       "    }\n",
       "</style>\n",
       "<table border=\"1\" class=\"dataframe\">\n",
       "  <thead>\n",
       "    <tr style=\"text-align: right;\">\n",
       "      <th></th>\n",
       "      <th>Year</th>\n",
       "      <th>GEO</th>\n",
       "      <th>VALUE</th>\n",
       "      <th>Province</th>\n",
       "    </tr>\n",
       "  </thead>\n",
       "  <tbody>\n",
       "    <tr>\n",
       "      <th>0</th>\n",
       "      <td>2016</td>\n",
       "      <td>Toronto</td>\n",
       "      <td>2819399.0</td>\n",
       "      <td>Ontario</td>\n",
       "    </tr>\n",
       "    <tr>\n",
       "      <th>1</th>\n",
       "      <td>2016</td>\n",
       "      <td>Ottawa</td>\n",
       "      <td>964341.0</td>\n",
       "      <td>Ontario</td>\n",
       "    </tr>\n",
       "    <tr>\n",
       "      <th>2</th>\n",
       "      <td>2016</td>\n",
       "      <td>Mississauga</td>\n",
       "      <td>746352.0</td>\n",
       "      <td>Ontario</td>\n",
       "    </tr>\n",
       "    <tr>\n",
       "      <th>3</th>\n",
       "      <td>2016</td>\n",
       "      <td>Brampton</td>\n",
       "      <td>617571.0</td>\n",
       "      <td>Ontario</td>\n",
       "    </tr>\n",
       "    <tr>\n",
       "      <th>4</th>\n",
       "      <td>2016</td>\n",
       "      <td>Hamilton</td>\n",
       "      <td>552272.0</td>\n",
       "      <td>Ontario</td>\n",
       "    </tr>\n",
       "    <tr>\n",
       "      <th>...</th>\n",
       "      <td>...</td>\n",
       "      <td>...</td>\n",
       "      <td>...</td>\n",
       "      <td>...</td>\n",
       "    </tr>\n",
       "    <tr>\n",
       "      <th>9039</th>\n",
       "      <td>2022</td>\n",
       "      <td>Nedoats 11</td>\n",
       "      <td>0.0</td>\n",
       "      <td>British Columbia</td>\n",
       "    </tr>\n",
       "    <tr>\n",
       "      <th>9040</th>\n",
       "      <td>2022</td>\n",
       "      <td>Babine Lake 21B</td>\n",
       "      <td>0.0</td>\n",
       "      <td>British Columbia</td>\n",
       "    </tr>\n",
       "    <tr>\n",
       "      <th>9041</th>\n",
       "      <td>2022</td>\n",
       "      <td>Mission Lands 17</td>\n",
       "      <td>0.0</td>\n",
       "      <td>British Columbia</td>\n",
       "    </tr>\n",
       "    <tr>\n",
       "      <th>9042</th>\n",
       "      <td>2022</td>\n",
       "      <td>Good Hope Lake</td>\n",
       "      <td>0.0</td>\n",
       "      <td>British Columbia</td>\n",
       "    </tr>\n",
       "    <tr>\n",
       "      <th>9043</th>\n",
       "      <td>2022</td>\n",
       "      <td>Kahntah 3</td>\n",
       "      <td>0.0</td>\n",
       "      <td>British Columbia</td>\n",
       "    </tr>\n",
       "  </tbody>\n",
       "</table>\n",
       "<p>9044 rows × 4 columns</p>\n",
       "</div>"
      ],
      "text/plain": [
       "      Year               GEO      VALUE          Province\n",
       "0     2016           Toronto  2819399.0           Ontario\n",
       "1     2016            Ottawa   964341.0           Ontario\n",
       "2     2016       Mississauga   746352.0           Ontario\n",
       "3     2016          Brampton   617571.0           Ontario\n",
       "4     2016          Hamilton   552272.0           Ontario\n",
       "...    ...               ...        ...               ...\n",
       "9039  2022        Nedoats 11        0.0  British Columbia\n",
       "9040  2022   Babine Lake 21B        0.0  British Columbia\n",
       "9041  2022  Mission Lands 17        0.0  British Columbia\n",
       "9042  2022    Good Hope Lake        0.0  British Columbia\n",
       "9043  2022         Kahntah 3        0.0  British Columbia\n",
       "\n",
       "[9044 rows x 4 columns]"
      ]
     },
     "execution_count": 93,
     "metadata": {},
     "output_type": "execute_result"
    }
   ],
   "source": [
    "CMA_ON_BC = CMA_pop[CMA_pop[\"Province\"].isin([\"British Columbia\", \"Ontario\"])]\n",
    "CMA_ON_BC.reset_index(drop = True)"
   ]
  },
  {
   "cell_type": "code",
   "execution_count": 94,
   "id": "0d6066e4",
   "metadata": {},
   "outputs": [],
   "source": [
    "CMA_ON = CMA_ON_BC[CMA_ON_BC[\"Province\"] == \"Ontario\"]"
   ]
  },
  {
   "cell_type": "markdown",
   "id": "d6b5db2e",
   "metadata": {},
   "source": [
    "## B. CREA Monthly House Price Index Data"
   ]
  },
  {
   "cell_type": "markdown",
   "id": "d2bb565e",
   "metadata": {},
   "source": [
    "### 1) Define Functions"
   ]
  },
  {
   "cell_type": "code",
   "execution_count": 36,
   "id": "6051a15e",
   "metadata": {},
   "outputs": [],
   "source": [
    "# Define func to generate URLs based on months and years\n",
    "def generate_url(month, year, cma):\n",
    "    if cma == \"Toronto\":\n",
    "        if month < 10:\n",
    "            return f\"https://trreb.ca/files/market-stats/home-price-index/TREB_MLS_HPI_Public_Tables_0{month}{year}.pdf\"\n",
    "        else:\n",
    "            return f\"https://trreb.ca/files/market-stats/home-price-index/TREB_MLS_HPI_Public_Tables_{month}{year}.pdf\"\n",
    "            #return the corresponding GTA HPI monthly report pdf for scrapping\n",
    "    elif cma == \"Vancouver\":\n",
    "        url = generate_url_van(month, year)\n",
    "        return url"
   ]
  },
  {
   "cell_type": "markdown",
   "id": "f8396cff",
   "metadata": {},
   "source": [
    "### 1) GTA Data"
   ]
  },
  {
   "cell_type": "markdown",
   "id": "2636edef",
   "metadata": {},
   "source": [
    "#### a) Define Functions"
   ]
  },
  {
   "cell_type": "code",
   "execution_count": 8,
   "id": "fb0be6e2",
   "metadata": {},
   "outputs": [],
   "source": [
    "# Define func to extract table from pdf monthly report & data cleaning\n",
    "def extract_table(url, month, year):\n",
    "\n",
    "    # Extract table from pdf\n",
    "    tables = read_pdf(url, pages=\"2\", lattice = \"True\", multiple_tables = \"False\", \n",
    "                      area = [10,0,97,100],relative_area = \"True\", silent = \"True\") \n",
    "        # Note: lattice should be set as True for our case \n",
    "            #to read everything on page 2 as one table\n",
    "            \n",
    "    table = tables[0]\n",
    "    \n",
    "    # Clean the data table\n",
    "    new_header = table.iloc[0] # Set new header with the first row of the table\n",
    "    table = table[1:]  # Take the data below the header row\n",
    "    table.columns = new_header  # Set the new header\n",
    "    \n",
    "    # We only want data about composite / residential property, which is the first four columns\n",
    "    table = table.iloc[:, :4]\n",
    "    \n",
    "    # Rename the first column to \"Location\" \n",
    "    table = table.rename(columns={table.columns[0]: \"Location\"})\n",
    "\n",
    "    # New Column for Month-Year\n",
    "    if month < 10:\n",
    "        table[\"Month_Year\"] = f'0{month}_20{year}'\n",
    "    else:\n",
    "        table[\"Month_Year\"] = f'{month}_20{year}'\n",
    "        \n",
    "    table.reset_index(drop=True, inplace=True)\n",
    "    \n",
    "    return table"
   ]
  },
  {
   "cell_type": "markdown",
   "id": "55a798a2",
   "metadata": {},
   "source": [
    "#### b) Loop to Scrape Data"
   ]
  },
  {
   "cell_type": "code",
   "execution_count": null,
   "id": "6acc97d7",
   "metadata": {},
   "outputs": [],
   "source": [
    "data_list = []\n",
    "cma = \"Toronto\"\n",
    "\n",
    "for year in range(16, 23):\n",
    "    if year != 22:\n",
    "        for month in range(1, 13):\n",
    "            url = generate_url(month, year, cma)\n",
    "            extracted_data = extract_table(url, month, year)\n",
    "        \n",
    "            if extracted_data is not None:\n",
    "                extracted_data.reset_index(drop = True, inplace = True)\n",
    "                data_list.append(extracted_data)\n",
    "\n",
    "    else:\n",
    "        for month in range(1, 6):\n",
    "            url = generate_url(month, year)\n",
    "            extracted_data = extract_table(url, month, year)\n",
    "        \n",
    "            if extracted_data is not None:\n",
    "                extracted_data.reset_index(drop = True, inplace = True)\n",
    "                data_list.append(extracted_data)\n",
    "            \n",
    "HPI_GTA = pd.concat(data_list, ignore_index = True)"
   ]
  },
  {
   "cell_type": "code",
   "execution_count": null,
   "id": "eaafa1d3",
   "metadata": {},
   "outputs": [],
   "source": [
    "HPI_GTA.to_csv(\"/Users/changanlee/Desktop/University/Undergrad/4th-Year/Winter Semester/ECO475/Term Paper/Raw Data/HPI_GTA.csv\",\n",
    "               index = False)"
   ]
  },
  {
   "cell_type": "markdown",
   "id": "ce949554",
   "metadata": {},
   "source": [
    "For some pdf formatting reasons that I cannot solve right now, the last monthly report that can be extracted using read_pdf is May 2022. May need to mannually extract the rest of the data. See example below:"
   ]
  },
  {
   "cell_type": "code",
   "execution_count": null,
   "id": "38ff42a3",
   "metadata": {},
   "outputs": [],
   "source": [
    "#Take June 2022 for example\n",
    "\n",
    "url = generate_url(6,22) \n",
    "tables = read_pdf(url, pages = \"2\", lattice = \"True\", multiple_tables = \"False\", area = [10,0,97,100],relative_area = \"True\")\n",
    "tables[0].head()"
   ]
  },
  {
   "cell_type": "markdown",
   "id": "a0261f27",
   "metadata": {},
   "source": [
    "The column heading format is correct, but the value it reads is completely nonsense."
   ]
  },
  {
   "cell_type": "markdown",
   "id": "b2f1c391",
   "metadata": {},
   "source": [
    "Whatever... Let's move on to GTA data first"
   ]
  },
  {
   "cell_type": "markdown",
   "id": "aac91bd5",
   "metadata": {},
   "source": [
    "### 2) GVA Data"
   ]
  },
  {
   "cell_type": "markdown",
   "id": "433d942b",
   "metadata": {},
   "source": [
    "First of all, Jan. 2016 ~ July 2016 monthly report is missing..."
   ]
  },
  {
   "cell_type": "markdown",
   "id": "8c3991ac",
   "metadata": {},
   "source": [
    "Second, GVA report url has multiple formats over time:"
   ]
  },
  {
   "cell_type": "markdown",
   "id": "7b8050d6",
   "metadata": {},
   "source": [
    "https://www.gvrealtors.ca/content/dam/rebgv_org_content/pdfs/monthly-stats-packages/REBGV-Stats-Pkg-August-2016.pdf"
   ]
  },
  {
   "cell_type": "markdown",
   "id": "9a939c79",
   "metadata": {},
   "source": [
    "https://www.gvrealtors.ca/content/dam/rebgv_org_content/monthly-market-reports/2018-Dec-stats-pkg.pdf"
   ]
  },
  {
   "cell_type": "markdown",
   "id": "4ada2bca",
   "metadata": {},
   "source": [
    "https://www.gvrealtors.ca/content/dam/rebgv_org_content/pdfs/marketwatch/monthly_reports/REBGV-Stats-Pkg-November-2019-F.pdf"
   ]
  },
  {
   "cell_type": "markdown",
   "id": "bb207110",
   "metadata": {},
   "source": [
    "OK, let's try accessing the report using all 3 formats for all month-year combination and see how it goes"
   ]
  },
  {
   "cell_type": "code",
   "execution_count": 39,
   "id": "62ea6bcb",
   "metadata": {
    "scrolled": true
   },
   "outputs": [],
   "source": [
    "def generate_url_van(month, year):\n",
    "\n",
    "    # Define the base URLs for each format\n",
    "    base_urls = [\n",
    "        \"https://www.gvrealtors.ca/content/dam/rebgv_org_content/monthly-market-reports/{Year}-{Month}-stats-pkg.pdf\",\n",
    "        \"https://www.gvrealtors.ca/content/dam/rebgv_org_content/pdfs/marketwatch/monthly_reports/REBGV-Stats-Pkg-{Month}-{Year}-F.pdf\",\n",
    "        \"https://www.gvrealtors.ca/content/dam/rebgv_org_content/pdfs/monthly-stats-packages/REBGV-Stats-Pkg-{Month}-{Year}.pdf\",\n",
    "        \"https://www.gvrealtors.ca/content/dam/rebgv_org_content/pdfs/monthly-stats-packages/REBGV-Stats-Package-{Month}-{Year}.pdf\",\n",
    "        \"https://www.gvrealtors.ca/content/dam/rebgv_org_content/pdfs/monthly-stats-packages/REBGV-Stats-Pkg-{Month}-{Year}-Updated%20HPI.pdf\",\n",
    "        \"https://members.rebgv.org/news/REBGV-Stats-Pkg-{Month}-{Year}.pdf\",\n",
    "        \"https://www.gvrealtors.ca/content/dam/rebgv_org_content/pdfs/REBGV-Stats-Pkg-{Month}-{Year}.pdf\",\n",
    "        \"https://www.gvrealtors.ca/content/dam/rebgv_org_content/pdfs/monthly-stats-packages/{YearMonth}-REBGV-Stats-Pkg-{Month}-{Year}.pdf\",\n",
    "        \"https://www.gvrealtors.ca/content/dam/rebgv_org_content/pdfs/monthly-stats-packages/REBGV%20Stats%20Package%20{Month}%20{Year}.pdf\",\n",
    "        \"https://www.gvrealtors.ca/content/dam/rebgv_org_content/pdfs/monthly-stats-packages/{Year}-01-{Month}-Stats-Package.pdf\",\n",
    "        \"https://www.gvrealtors.ca/content/dam/rebgv_org_content/pdfs/monthly-stats-packages/{Year}-01-{Month}-Stats--Package.pdf\"\n",
    "    ]\n",
    "\n",
    "\n",
    "    # Get the month name and abbreviation\n",
    "    year = 2000 + year\n",
    "    month_name = calendar.month_name[month]\n",
    "    month_abbr = calendar.month_abbr[month]\n",
    "    year_month = f\"{year}{month:02d}\"\n",
    "\n",
    "    # Iterate through each URL pattern\n",
    "    for base_url in base_urls:\n",
    "        # Replace placeholders in the URL pattern\n",
    "        url_1 = base_url.format(Year=str(year), Month=month_name, YearMonth=year_month)\n",
    "        url_2 = base_url.format(Year=str(year), Month=month_abbr, YearMonth=year_month)\n",
    "\n",
    "        # Try fetching the first URL\n",
    "        if requests.get(url_1).status_code == 200:\n",
    "            return url_1\n",
    "\n",
    "        # Try fetching the second URL if the first one fails\n",
    "        elif requests.get(url_2).status_code == 200:\n",
    "            return url_2\n",
    "\n",
    "        # Special case for September URLs\n",
    "        if month == 9:\n",
    "            url_3 = base_url.format(Year=str(year), Month=\"Sept\", YearMonth=year_month)\n",
    "            if requests.get(url_3).status_code == 200:\n",
    "                return url_3"
   ]
  },
  {
   "cell_type": "code",
   "execution_count": 42,
   "id": "3c893afe",
   "metadata": {},
   "outputs": [],
   "source": [
    "def extract_table_van(url, month, year):    \n",
    "    tables = read_pdf(url, pages = \"3\", multiple_tables = \"False\")\n",
    "    \n",
    "    if not tables or tables[0].empty:\n",
    "        return None\n",
    "    \n",
    "    else:\n",
    "        table = tables[0]\n",
    "        new_header = table.iloc[1] # Set new header with the second row of the table\n",
    "        new_header[0] = \"Property Type\"\n",
    "        new_header[1] = \"Location\"\n",
    "        table = table[2:]  # Take the data below the header row\n",
    "        table.columns = new_header\n",
    "\n",
    "        end_here_index = (table['Property Type'] == 'Single Family Detached').idxmax()\n",
    "        table = table.iloc[:end_here_index, 1:]\n",
    "\n",
    "        if month < 10:\n",
    "            table[\"Month_Year\"] = f'0{month}_{year}'\n",
    "        else:\n",
    "            table[\"Month_Year\"] = f'{month}_{year}'\n",
    "\n",
    "    return table"
   ]
  },
  {
   "cell_type": "code",
   "execution_count": 38,
   "id": "2f3bb9b0",
   "metadata": {
    "scrolled": true
   },
   "outputs": [
    {
     "name": "stderr",
     "output_type": "stream",
     "text": [
      "Error importing jpype dependencies. Fallback to subprocess.\n",
      "No module named 'jpype'\n",
      "/var/folders/hn/gfxxh51d76nbszjdcrp5pzy80000gn/T/ipykernel_47560/3038214230.py:10: SettingWithCopyWarning: \n",
      "A value is trying to be set on a copy of a slice from a DataFrame\n",
      "\n",
      "See the caveats in the documentation: https://pandas.pydata.org/pandas-docs/stable/user_guide/indexing.html#returning-a-view-versus-a-copy\n",
      "  new_header[0] = \"Property Type\"\n",
      "/var/folders/hn/gfxxh51d76nbszjdcrp5pzy80000gn/T/ipykernel_47560/3038214230.py:11: SettingWithCopyWarning: \n",
      "A value is trying to be set on a copy of a slice from a DataFrame\n",
      "\n",
      "See the caveats in the documentation: https://pandas.pydata.org/pandas-docs/stable/user_guide/indexing.html#returning-a-view-versus-a-copy\n",
      "  new_header[1] = \"Location\"\n"
     ]
    },
    {
     "name": "stdout",
     "output_type": "stream",
     "text": [
      "Collected 3 - 16  data.\n"
     ]
    },
    {
     "name": "stderr",
     "output_type": "stream",
     "text": [
      "/var/folders/hn/gfxxh51d76nbszjdcrp5pzy80000gn/T/ipykernel_47560/3038214230.py:10: SettingWithCopyWarning: \n",
      "A value is trying to be set on a copy of a slice from a DataFrame\n",
      "\n",
      "See the caveats in the documentation: https://pandas.pydata.org/pandas-docs/stable/user_guide/indexing.html#returning-a-view-versus-a-copy\n",
      "  new_header[0] = \"Property Type\"\n",
      "/var/folders/hn/gfxxh51d76nbszjdcrp5pzy80000gn/T/ipykernel_47560/3038214230.py:11: SettingWithCopyWarning: \n",
      "A value is trying to be set on a copy of a slice from a DataFrame\n",
      "\n",
      "See the caveats in the documentation: https://pandas.pydata.org/pandas-docs/stable/user_guide/indexing.html#returning-a-view-versus-a-copy\n",
      "  new_header[1] = \"Location\"\n"
     ]
    },
    {
     "name": "stdout",
     "output_type": "stream",
     "text": [
      "Collected 4 - 16  data.\n"
     ]
    },
    {
     "name": "stderr",
     "output_type": "stream",
     "text": [
      "/var/folders/hn/gfxxh51d76nbszjdcrp5pzy80000gn/T/ipykernel_47560/3038214230.py:10: SettingWithCopyWarning: \n",
      "A value is trying to be set on a copy of a slice from a DataFrame\n",
      "\n",
      "See the caveats in the documentation: https://pandas.pydata.org/pandas-docs/stable/user_guide/indexing.html#returning-a-view-versus-a-copy\n",
      "  new_header[0] = \"Property Type\"\n",
      "/var/folders/hn/gfxxh51d76nbszjdcrp5pzy80000gn/T/ipykernel_47560/3038214230.py:11: SettingWithCopyWarning: \n",
      "A value is trying to be set on a copy of a slice from a DataFrame\n",
      "\n",
      "See the caveats in the documentation: https://pandas.pydata.org/pandas-docs/stable/user_guide/indexing.html#returning-a-view-versus-a-copy\n",
      "  new_header[1] = \"Location\"\n"
     ]
    },
    {
     "name": "stdout",
     "output_type": "stream",
     "text": [
      "Collected 5 - 16  data.\n"
     ]
    },
    {
     "name": "stderr",
     "output_type": "stream",
     "text": [
      "/var/folders/hn/gfxxh51d76nbszjdcrp5pzy80000gn/T/ipykernel_47560/3038214230.py:10: SettingWithCopyWarning: \n",
      "A value is trying to be set on a copy of a slice from a DataFrame\n",
      "\n",
      "See the caveats in the documentation: https://pandas.pydata.org/pandas-docs/stable/user_guide/indexing.html#returning-a-view-versus-a-copy\n",
      "  new_header[0] = \"Property Type\"\n",
      "/var/folders/hn/gfxxh51d76nbszjdcrp5pzy80000gn/T/ipykernel_47560/3038214230.py:11: SettingWithCopyWarning: \n",
      "A value is trying to be set on a copy of a slice from a DataFrame\n",
      "\n",
      "See the caveats in the documentation: https://pandas.pydata.org/pandas-docs/stable/user_guide/indexing.html#returning-a-view-versus-a-copy\n",
      "  new_header[1] = \"Location\"\n"
     ]
    },
    {
     "name": "stdout",
     "output_type": "stream",
     "text": [
      "Collected 6 - 16  data.\n"
     ]
    },
    {
     "name": "stderr",
     "output_type": "stream",
     "text": [
      "/var/folders/hn/gfxxh51d76nbszjdcrp5pzy80000gn/T/ipykernel_47560/3038214230.py:10: SettingWithCopyWarning: \n",
      "A value is trying to be set on a copy of a slice from a DataFrame\n",
      "\n",
      "See the caveats in the documentation: https://pandas.pydata.org/pandas-docs/stable/user_guide/indexing.html#returning-a-view-versus-a-copy\n",
      "  new_header[0] = \"Property Type\"\n",
      "/var/folders/hn/gfxxh51d76nbszjdcrp5pzy80000gn/T/ipykernel_47560/3038214230.py:11: SettingWithCopyWarning: \n",
      "A value is trying to be set on a copy of a slice from a DataFrame\n",
      "\n",
      "See the caveats in the documentation: https://pandas.pydata.org/pandas-docs/stable/user_guide/indexing.html#returning-a-view-versus-a-copy\n",
      "  new_header[1] = \"Location\"\n"
     ]
    },
    {
     "name": "stdout",
     "output_type": "stream",
     "text": [
      "Collected 8 - 16  data.\n"
     ]
    },
    {
     "name": "stderr",
     "output_type": "stream",
     "text": [
      "/var/folders/hn/gfxxh51d76nbszjdcrp5pzy80000gn/T/ipykernel_47560/3038214230.py:10: SettingWithCopyWarning: \n",
      "A value is trying to be set on a copy of a slice from a DataFrame\n",
      "\n",
      "See the caveats in the documentation: https://pandas.pydata.org/pandas-docs/stable/user_guide/indexing.html#returning-a-view-versus-a-copy\n",
      "  new_header[0] = \"Property Type\"\n",
      "/var/folders/hn/gfxxh51d76nbszjdcrp5pzy80000gn/T/ipykernel_47560/3038214230.py:11: SettingWithCopyWarning: \n",
      "A value is trying to be set on a copy of a slice from a DataFrame\n",
      "\n",
      "See the caveats in the documentation: https://pandas.pydata.org/pandas-docs/stable/user_guide/indexing.html#returning-a-view-versus-a-copy\n",
      "  new_header[1] = \"Location\"\n"
     ]
    },
    {
     "name": "stdout",
     "output_type": "stream",
     "text": [
      "Collected 9 - 16  data.\n"
     ]
    },
    {
     "name": "stderr",
     "output_type": "stream",
     "text": [
      "/var/folders/hn/gfxxh51d76nbszjdcrp5pzy80000gn/T/ipykernel_47560/3038214230.py:10: SettingWithCopyWarning: \n",
      "A value is trying to be set on a copy of a slice from a DataFrame\n",
      "\n",
      "See the caveats in the documentation: https://pandas.pydata.org/pandas-docs/stable/user_guide/indexing.html#returning-a-view-versus-a-copy\n",
      "  new_header[0] = \"Property Type\"\n",
      "/var/folders/hn/gfxxh51d76nbszjdcrp5pzy80000gn/T/ipykernel_47560/3038214230.py:11: SettingWithCopyWarning: \n",
      "A value is trying to be set on a copy of a slice from a DataFrame\n",
      "\n",
      "See the caveats in the documentation: https://pandas.pydata.org/pandas-docs/stable/user_guide/indexing.html#returning-a-view-versus-a-copy\n",
      "  new_header[1] = \"Location\"\n"
     ]
    },
    {
     "name": "stdout",
     "output_type": "stream",
     "text": [
      "Collected 10 - 16  data.\n"
     ]
    },
    {
     "name": "stderr",
     "output_type": "stream",
     "text": [
      "/var/folders/hn/gfxxh51d76nbszjdcrp5pzy80000gn/T/ipykernel_47560/3038214230.py:10: SettingWithCopyWarning: \n",
      "A value is trying to be set on a copy of a slice from a DataFrame\n",
      "\n",
      "See the caveats in the documentation: https://pandas.pydata.org/pandas-docs/stable/user_guide/indexing.html#returning-a-view-versus-a-copy\n",
      "  new_header[0] = \"Property Type\"\n",
      "/var/folders/hn/gfxxh51d76nbszjdcrp5pzy80000gn/T/ipykernel_47560/3038214230.py:11: SettingWithCopyWarning: \n",
      "A value is trying to be set on a copy of a slice from a DataFrame\n",
      "\n",
      "See the caveats in the documentation: https://pandas.pydata.org/pandas-docs/stable/user_guide/indexing.html#returning-a-view-versus-a-copy\n",
      "  new_header[1] = \"Location\"\n"
     ]
    },
    {
     "name": "stdout",
     "output_type": "stream",
     "text": [
      "Collected 11 - 16  data.\n"
     ]
    },
    {
     "name": "stderr",
     "output_type": "stream",
     "text": [
      "/var/folders/hn/gfxxh51d76nbszjdcrp5pzy80000gn/T/ipykernel_47560/3038214230.py:10: SettingWithCopyWarning: \n",
      "A value is trying to be set on a copy of a slice from a DataFrame\n",
      "\n",
      "See the caveats in the documentation: https://pandas.pydata.org/pandas-docs/stable/user_guide/indexing.html#returning-a-view-versus-a-copy\n",
      "  new_header[0] = \"Property Type\"\n",
      "/var/folders/hn/gfxxh51d76nbszjdcrp5pzy80000gn/T/ipykernel_47560/3038214230.py:11: SettingWithCopyWarning: \n",
      "A value is trying to be set on a copy of a slice from a DataFrame\n",
      "\n",
      "See the caveats in the documentation: https://pandas.pydata.org/pandas-docs/stable/user_guide/indexing.html#returning-a-view-versus-a-copy\n",
      "  new_header[1] = \"Location\"\n"
     ]
    },
    {
     "name": "stdout",
     "output_type": "stream",
     "text": [
      "Collected 12 - 16  data.\n"
     ]
    },
    {
     "name": "stderr",
     "output_type": "stream",
     "text": [
      "/var/folders/hn/gfxxh51d76nbszjdcrp5pzy80000gn/T/ipykernel_47560/3038214230.py:10: SettingWithCopyWarning: \n",
      "A value is trying to be set on a copy of a slice from a DataFrame\n",
      "\n",
      "See the caveats in the documentation: https://pandas.pydata.org/pandas-docs/stable/user_guide/indexing.html#returning-a-view-versus-a-copy\n",
      "  new_header[0] = \"Property Type\"\n",
      "/var/folders/hn/gfxxh51d76nbszjdcrp5pzy80000gn/T/ipykernel_47560/3038214230.py:11: SettingWithCopyWarning: \n",
      "A value is trying to be set on a copy of a slice from a DataFrame\n",
      "\n",
      "See the caveats in the documentation: https://pandas.pydata.org/pandas-docs/stable/user_guide/indexing.html#returning-a-view-versus-a-copy\n",
      "  new_header[1] = \"Location\"\n"
     ]
    },
    {
     "name": "stdout",
     "output_type": "stream",
     "text": [
      "Collected 1 - 17  data.\n"
     ]
    },
    {
     "name": "stderr",
     "output_type": "stream",
     "text": [
      "/var/folders/hn/gfxxh51d76nbszjdcrp5pzy80000gn/T/ipykernel_47560/3038214230.py:10: SettingWithCopyWarning: \n",
      "A value is trying to be set on a copy of a slice from a DataFrame\n",
      "\n",
      "See the caveats in the documentation: https://pandas.pydata.org/pandas-docs/stable/user_guide/indexing.html#returning-a-view-versus-a-copy\n",
      "  new_header[0] = \"Property Type\"\n",
      "/var/folders/hn/gfxxh51d76nbszjdcrp5pzy80000gn/T/ipykernel_47560/3038214230.py:11: SettingWithCopyWarning: \n",
      "A value is trying to be set on a copy of a slice from a DataFrame\n",
      "\n",
      "See the caveats in the documentation: https://pandas.pydata.org/pandas-docs/stable/user_guide/indexing.html#returning-a-view-versus-a-copy\n",
      "  new_header[1] = \"Location\"\n"
     ]
    },
    {
     "name": "stdout",
     "output_type": "stream",
     "text": [
      "Collected 2 - 17  data.\n"
     ]
    },
    {
     "name": "stderr",
     "output_type": "stream",
     "text": [
      "/var/folders/hn/gfxxh51d76nbszjdcrp5pzy80000gn/T/ipykernel_47560/3038214230.py:10: SettingWithCopyWarning: \n",
      "A value is trying to be set on a copy of a slice from a DataFrame\n",
      "\n",
      "See the caveats in the documentation: https://pandas.pydata.org/pandas-docs/stable/user_guide/indexing.html#returning-a-view-versus-a-copy\n",
      "  new_header[0] = \"Property Type\"\n",
      "/var/folders/hn/gfxxh51d76nbszjdcrp5pzy80000gn/T/ipykernel_47560/3038214230.py:11: SettingWithCopyWarning: \n",
      "A value is trying to be set on a copy of a slice from a DataFrame\n",
      "\n",
      "See the caveats in the documentation: https://pandas.pydata.org/pandas-docs/stable/user_guide/indexing.html#returning-a-view-versus-a-copy\n",
      "  new_header[1] = \"Location\"\n"
     ]
    },
    {
     "name": "stdout",
     "output_type": "stream",
     "text": [
      "Collected 3 - 17  data.\n"
     ]
    },
    {
     "name": "stderr",
     "output_type": "stream",
     "text": [
      "/var/folders/hn/gfxxh51d76nbszjdcrp5pzy80000gn/T/ipykernel_47560/3038214230.py:10: SettingWithCopyWarning: \n",
      "A value is trying to be set on a copy of a slice from a DataFrame\n",
      "\n",
      "See the caveats in the documentation: https://pandas.pydata.org/pandas-docs/stable/user_guide/indexing.html#returning-a-view-versus-a-copy\n",
      "  new_header[0] = \"Property Type\"\n",
      "/var/folders/hn/gfxxh51d76nbszjdcrp5pzy80000gn/T/ipykernel_47560/3038214230.py:11: SettingWithCopyWarning: \n",
      "A value is trying to be set on a copy of a slice from a DataFrame\n",
      "\n",
      "See the caveats in the documentation: https://pandas.pydata.org/pandas-docs/stable/user_guide/indexing.html#returning-a-view-versus-a-copy\n",
      "  new_header[1] = \"Location\"\n"
     ]
    },
    {
     "name": "stdout",
     "output_type": "stream",
     "text": [
      "Collected 4 - 17  data.\n"
     ]
    },
    {
     "name": "stderr",
     "output_type": "stream",
     "text": [
      "/var/folders/hn/gfxxh51d76nbszjdcrp5pzy80000gn/T/ipykernel_47560/3038214230.py:10: SettingWithCopyWarning: \n",
      "A value is trying to be set on a copy of a slice from a DataFrame\n",
      "\n",
      "See the caveats in the documentation: https://pandas.pydata.org/pandas-docs/stable/user_guide/indexing.html#returning-a-view-versus-a-copy\n",
      "  new_header[0] = \"Property Type\"\n",
      "/var/folders/hn/gfxxh51d76nbszjdcrp5pzy80000gn/T/ipykernel_47560/3038214230.py:11: SettingWithCopyWarning: \n",
      "A value is trying to be set on a copy of a slice from a DataFrame\n",
      "\n",
      "See the caveats in the documentation: https://pandas.pydata.org/pandas-docs/stable/user_guide/indexing.html#returning-a-view-versus-a-copy\n",
      "  new_header[1] = \"Location\"\n"
     ]
    },
    {
     "name": "stdout",
     "output_type": "stream",
     "text": [
      "Collected 5 - 17  data.\n"
     ]
    },
    {
     "name": "stderr",
     "output_type": "stream",
     "text": [
      "/var/folders/hn/gfxxh51d76nbszjdcrp5pzy80000gn/T/ipykernel_47560/3038214230.py:10: SettingWithCopyWarning: \n",
      "A value is trying to be set on a copy of a slice from a DataFrame\n",
      "\n",
      "See the caveats in the documentation: https://pandas.pydata.org/pandas-docs/stable/user_guide/indexing.html#returning-a-view-versus-a-copy\n",
      "  new_header[0] = \"Property Type\"\n",
      "/var/folders/hn/gfxxh51d76nbszjdcrp5pzy80000gn/T/ipykernel_47560/3038214230.py:11: SettingWithCopyWarning: \n",
      "A value is trying to be set on a copy of a slice from a DataFrame\n",
      "\n",
      "See the caveats in the documentation: https://pandas.pydata.org/pandas-docs/stable/user_guide/indexing.html#returning-a-view-versus-a-copy\n",
      "  new_header[1] = \"Location\"\n"
     ]
    },
    {
     "name": "stdout",
     "output_type": "stream",
     "text": [
      "Collected 6 - 17  data.\n"
     ]
    },
    {
     "name": "stderr",
     "output_type": "stream",
     "text": [
      "/var/folders/hn/gfxxh51d76nbszjdcrp5pzy80000gn/T/ipykernel_47560/3038214230.py:10: SettingWithCopyWarning: \n",
      "A value is trying to be set on a copy of a slice from a DataFrame\n",
      "\n",
      "See the caveats in the documentation: https://pandas.pydata.org/pandas-docs/stable/user_guide/indexing.html#returning-a-view-versus-a-copy\n",
      "  new_header[0] = \"Property Type\"\n",
      "/var/folders/hn/gfxxh51d76nbszjdcrp5pzy80000gn/T/ipykernel_47560/3038214230.py:11: SettingWithCopyWarning: \n",
      "A value is trying to be set on a copy of a slice from a DataFrame\n",
      "\n",
      "See the caveats in the documentation: https://pandas.pydata.org/pandas-docs/stable/user_guide/indexing.html#returning-a-view-versus-a-copy\n",
      "  new_header[1] = \"Location\"\n"
     ]
    },
    {
     "name": "stdout",
     "output_type": "stream",
     "text": [
      "Collected 7 - 17  data.\n"
     ]
    },
    {
     "name": "stderr",
     "output_type": "stream",
     "text": [
      "/var/folders/hn/gfxxh51d76nbszjdcrp5pzy80000gn/T/ipykernel_47560/3038214230.py:10: SettingWithCopyWarning: \n",
      "A value is trying to be set on a copy of a slice from a DataFrame\n",
      "\n",
      "See the caveats in the documentation: https://pandas.pydata.org/pandas-docs/stable/user_guide/indexing.html#returning-a-view-versus-a-copy\n",
      "  new_header[0] = \"Property Type\"\n",
      "/var/folders/hn/gfxxh51d76nbszjdcrp5pzy80000gn/T/ipykernel_47560/3038214230.py:11: SettingWithCopyWarning: \n",
      "A value is trying to be set on a copy of a slice from a DataFrame\n",
      "\n",
      "See the caveats in the documentation: https://pandas.pydata.org/pandas-docs/stable/user_guide/indexing.html#returning-a-view-versus-a-copy\n",
      "  new_header[1] = \"Location\"\n"
     ]
    },
    {
     "name": "stdout",
     "output_type": "stream",
     "text": [
      "Collected 8 - 17  data.\n"
     ]
    },
    {
     "name": "stderr",
     "output_type": "stream",
     "text": [
      "/var/folders/hn/gfxxh51d76nbszjdcrp5pzy80000gn/T/ipykernel_47560/3038214230.py:10: SettingWithCopyWarning: \n",
      "A value is trying to be set on a copy of a slice from a DataFrame\n",
      "\n",
      "See the caveats in the documentation: https://pandas.pydata.org/pandas-docs/stable/user_guide/indexing.html#returning-a-view-versus-a-copy\n",
      "  new_header[0] = \"Property Type\"\n",
      "/var/folders/hn/gfxxh51d76nbszjdcrp5pzy80000gn/T/ipykernel_47560/3038214230.py:11: SettingWithCopyWarning: \n",
      "A value is trying to be set on a copy of a slice from a DataFrame\n",
      "\n",
      "See the caveats in the documentation: https://pandas.pydata.org/pandas-docs/stable/user_guide/indexing.html#returning-a-view-versus-a-copy\n",
      "  new_header[1] = \"Location\"\n"
     ]
    },
    {
     "name": "stdout",
     "output_type": "stream",
     "text": [
      "Collected 9 - 17  data.\n"
     ]
    },
    {
     "name": "stderr",
     "output_type": "stream",
     "text": [
      "/var/folders/hn/gfxxh51d76nbszjdcrp5pzy80000gn/T/ipykernel_47560/3038214230.py:10: SettingWithCopyWarning: \n",
      "A value is trying to be set on a copy of a slice from a DataFrame\n",
      "\n",
      "See the caveats in the documentation: https://pandas.pydata.org/pandas-docs/stable/user_guide/indexing.html#returning-a-view-versus-a-copy\n",
      "  new_header[0] = \"Property Type\"\n",
      "/var/folders/hn/gfxxh51d76nbszjdcrp5pzy80000gn/T/ipykernel_47560/3038214230.py:11: SettingWithCopyWarning: \n",
      "A value is trying to be set on a copy of a slice from a DataFrame\n",
      "\n",
      "See the caveats in the documentation: https://pandas.pydata.org/pandas-docs/stable/user_guide/indexing.html#returning-a-view-versus-a-copy\n",
      "  new_header[1] = \"Location\"\n"
     ]
    },
    {
     "name": "stdout",
     "output_type": "stream",
     "text": [
      "Collected 10 - 17  data.\n"
     ]
    },
    {
     "name": "stderr",
     "output_type": "stream",
     "text": [
      "/var/folders/hn/gfxxh51d76nbszjdcrp5pzy80000gn/T/ipykernel_47560/3038214230.py:10: SettingWithCopyWarning: \n",
      "A value is trying to be set on a copy of a slice from a DataFrame\n",
      "\n",
      "See the caveats in the documentation: https://pandas.pydata.org/pandas-docs/stable/user_guide/indexing.html#returning-a-view-versus-a-copy\n",
      "  new_header[0] = \"Property Type\"\n",
      "/var/folders/hn/gfxxh51d76nbszjdcrp5pzy80000gn/T/ipykernel_47560/3038214230.py:11: SettingWithCopyWarning: \n",
      "A value is trying to be set on a copy of a slice from a DataFrame\n",
      "\n",
      "See the caveats in the documentation: https://pandas.pydata.org/pandas-docs/stable/user_guide/indexing.html#returning-a-view-versus-a-copy\n",
      "  new_header[1] = \"Location\"\n"
     ]
    },
    {
     "name": "stdout",
     "output_type": "stream",
     "text": [
      "Collected 11 - 17  data.\n"
     ]
    },
    {
     "name": "stderr",
     "output_type": "stream",
     "text": [
      "/var/folders/hn/gfxxh51d76nbszjdcrp5pzy80000gn/T/ipykernel_47560/3038214230.py:10: SettingWithCopyWarning: \n",
      "A value is trying to be set on a copy of a slice from a DataFrame\n",
      "\n",
      "See the caveats in the documentation: https://pandas.pydata.org/pandas-docs/stable/user_guide/indexing.html#returning-a-view-versus-a-copy\n",
      "  new_header[0] = \"Property Type\"\n",
      "/var/folders/hn/gfxxh51d76nbszjdcrp5pzy80000gn/T/ipykernel_47560/3038214230.py:11: SettingWithCopyWarning: \n",
      "A value is trying to be set on a copy of a slice from a DataFrame\n",
      "\n",
      "See the caveats in the documentation: https://pandas.pydata.org/pandas-docs/stable/user_guide/indexing.html#returning-a-view-versus-a-copy\n",
      "  new_header[1] = \"Location\"\n"
     ]
    },
    {
     "name": "stdout",
     "output_type": "stream",
     "text": [
      "Collected 1 - 18  data.\n"
     ]
    },
    {
     "name": "stderr",
     "output_type": "stream",
     "text": [
      "/var/folders/hn/gfxxh51d76nbszjdcrp5pzy80000gn/T/ipykernel_47560/3038214230.py:10: SettingWithCopyWarning: \n",
      "A value is trying to be set on a copy of a slice from a DataFrame\n",
      "\n",
      "See the caveats in the documentation: https://pandas.pydata.org/pandas-docs/stable/user_guide/indexing.html#returning-a-view-versus-a-copy\n",
      "  new_header[0] = \"Property Type\"\n",
      "/var/folders/hn/gfxxh51d76nbszjdcrp5pzy80000gn/T/ipykernel_47560/3038214230.py:11: SettingWithCopyWarning: \n",
      "A value is trying to be set on a copy of a slice from a DataFrame\n",
      "\n",
      "See the caveats in the documentation: https://pandas.pydata.org/pandas-docs/stable/user_guide/indexing.html#returning-a-view-versus-a-copy\n",
      "  new_header[1] = \"Location\"\n"
     ]
    },
    {
     "name": "stdout",
     "output_type": "stream",
     "text": [
      "Collected 2 - 18  data.\n"
     ]
    },
    {
     "name": "stderr",
     "output_type": "stream",
     "text": [
      "/var/folders/hn/gfxxh51d76nbszjdcrp5pzy80000gn/T/ipykernel_47560/3038214230.py:10: SettingWithCopyWarning: \n",
      "A value is trying to be set on a copy of a slice from a DataFrame\n",
      "\n",
      "See the caveats in the documentation: https://pandas.pydata.org/pandas-docs/stable/user_guide/indexing.html#returning-a-view-versus-a-copy\n",
      "  new_header[0] = \"Property Type\"\n",
      "/var/folders/hn/gfxxh51d76nbszjdcrp5pzy80000gn/T/ipykernel_47560/3038214230.py:11: SettingWithCopyWarning: \n",
      "A value is trying to be set on a copy of a slice from a DataFrame\n",
      "\n",
      "See the caveats in the documentation: https://pandas.pydata.org/pandas-docs/stable/user_guide/indexing.html#returning-a-view-versus-a-copy\n",
      "  new_header[1] = \"Location\"\n"
     ]
    },
    {
     "name": "stdout",
     "output_type": "stream",
     "text": [
      "Collected 3 - 18  data.\n"
     ]
    },
    {
     "name": "stderr",
     "output_type": "stream",
     "text": [
      "/var/folders/hn/gfxxh51d76nbszjdcrp5pzy80000gn/T/ipykernel_47560/3038214230.py:10: SettingWithCopyWarning: \n",
      "A value is trying to be set on a copy of a slice from a DataFrame\n",
      "\n",
      "See the caveats in the documentation: https://pandas.pydata.org/pandas-docs/stable/user_guide/indexing.html#returning-a-view-versus-a-copy\n",
      "  new_header[0] = \"Property Type\"\n",
      "/var/folders/hn/gfxxh51d76nbszjdcrp5pzy80000gn/T/ipykernel_47560/3038214230.py:11: SettingWithCopyWarning: \n",
      "A value is trying to be set on a copy of a slice from a DataFrame\n",
      "\n",
      "See the caveats in the documentation: https://pandas.pydata.org/pandas-docs/stable/user_guide/indexing.html#returning-a-view-versus-a-copy\n",
      "  new_header[1] = \"Location\"\n"
     ]
    },
    {
     "name": "stdout",
     "output_type": "stream",
     "text": [
      "Collected 4 - 18  data.\n"
     ]
    },
    {
     "name": "stderr",
     "output_type": "stream",
     "text": [
      "/var/folders/hn/gfxxh51d76nbszjdcrp5pzy80000gn/T/ipykernel_47560/3038214230.py:10: SettingWithCopyWarning: \n",
      "A value is trying to be set on a copy of a slice from a DataFrame\n",
      "\n",
      "See the caveats in the documentation: https://pandas.pydata.org/pandas-docs/stable/user_guide/indexing.html#returning-a-view-versus-a-copy\n",
      "  new_header[0] = \"Property Type\"\n",
      "/var/folders/hn/gfxxh51d76nbszjdcrp5pzy80000gn/T/ipykernel_47560/3038214230.py:11: SettingWithCopyWarning: \n",
      "A value is trying to be set on a copy of a slice from a DataFrame\n",
      "\n",
      "See the caveats in the documentation: https://pandas.pydata.org/pandas-docs/stable/user_guide/indexing.html#returning-a-view-versus-a-copy\n",
      "  new_header[1] = \"Location\"\n"
     ]
    },
    {
     "name": "stdout",
     "output_type": "stream",
     "text": [
      "Collected 5 - 18  data.\n"
     ]
    },
    {
     "name": "stderr",
     "output_type": "stream",
     "text": [
      "/var/folders/hn/gfxxh51d76nbszjdcrp5pzy80000gn/T/ipykernel_47560/3038214230.py:10: SettingWithCopyWarning: \n",
      "A value is trying to be set on a copy of a slice from a DataFrame\n",
      "\n",
      "See the caveats in the documentation: https://pandas.pydata.org/pandas-docs/stable/user_guide/indexing.html#returning-a-view-versus-a-copy\n",
      "  new_header[0] = \"Property Type\"\n",
      "/var/folders/hn/gfxxh51d76nbszjdcrp5pzy80000gn/T/ipykernel_47560/3038214230.py:11: SettingWithCopyWarning: \n",
      "A value is trying to be set on a copy of a slice from a DataFrame\n",
      "\n",
      "See the caveats in the documentation: https://pandas.pydata.org/pandas-docs/stable/user_guide/indexing.html#returning-a-view-versus-a-copy\n",
      "  new_header[1] = \"Location\"\n"
     ]
    },
    {
     "name": "stdout",
     "output_type": "stream",
     "text": [
      "Collected 6 - 18  data.\n"
     ]
    },
    {
     "name": "stderr",
     "output_type": "stream",
     "text": [
      "/var/folders/hn/gfxxh51d76nbszjdcrp5pzy80000gn/T/ipykernel_47560/3038214230.py:10: SettingWithCopyWarning: \n",
      "A value is trying to be set on a copy of a slice from a DataFrame\n",
      "\n",
      "See the caveats in the documentation: https://pandas.pydata.org/pandas-docs/stable/user_guide/indexing.html#returning-a-view-versus-a-copy\n",
      "  new_header[0] = \"Property Type\"\n",
      "/var/folders/hn/gfxxh51d76nbszjdcrp5pzy80000gn/T/ipykernel_47560/3038214230.py:11: SettingWithCopyWarning: \n",
      "A value is trying to be set on a copy of a slice from a DataFrame\n",
      "\n",
      "See the caveats in the documentation: https://pandas.pydata.org/pandas-docs/stable/user_guide/indexing.html#returning-a-view-versus-a-copy\n",
      "  new_header[1] = \"Location\"\n"
     ]
    },
    {
     "name": "stdout",
     "output_type": "stream",
     "text": [
      "Collected 7 - 18  data.\n"
     ]
    },
    {
     "name": "stderr",
     "output_type": "stream",
     "text": [
      "/var/folders/hn/gfxxh51d76nbszjdcrp5pzy80000gn/T/ipykernel_47560/3038214230.py:10: SettingWithCopyWarning: \n",
      "A value is trying to be set on a copy of a slice from a DataFrame\n",
      "\n",
      "See the caveats in the documentation: https://pandas.pydata.org/pandas-docs/stable/user_guide/indexing.html#returning-a-view-versus-a-copy\n",
      "  new_header[0] = \"Property Type\"\n",
      "/var/folders/hn/gfxxh51d76nbszjdcrp5pzy80000gn/T/ipykernel_47560/3038214230.py:11: SettingWithCopyWarning: \n",
      "A value is trying to be set on a copy of a slice from a DataFrame\n",
      "\n",
      "See the caveats in the documentation: https://pandas.pydata.org/pandas-docs/stable/user_guide/indexing.html#returning-a-view-versus-a-copy\n",
      "  new_header[1] = \"Location\"\n"
     ]
    },
    {
     "name": "stdout",
     "output_type": "stream",
     "text": [
      "Collected 8 - 18  data.\n"
     ]
    },
    {
     "name": "stderr",
     "output_type": "stream",
     "text": [
      "/var/folders/hn/gfxxh51d76nbszjdcrp5pzy80000gn/T/ipykernel_47560/3038214230.py:10: SettingWithCopyWarning: \n",
      "A value is trying to be set on a copy of a slice from a DataFrame\n",
      "\n",
      "See the caveats in the documentation: https://pandas.pydata.org/pandas-docs/stable/user_guide/indexing.html#returning-a-view-versus-a-copy\n",
      "  new_header[0] = \"Property Type\"\n",
      "/var/folders/hn/gfxxh51d76nbszjdcrp5pzy80000gn/T/ipykernel_47560/3038214230.py:11: SettingWithCopyWarning: \n",
      "A value is trying to be set on a copy of a slice from a DataFrame\n",
      "\n",
      "See the caveats in the documentation: https://pandas.pydata.org/pandas-docs/stable/user_guide/indexing.html#returning-a-view-versus-a-copy\n",
      "  new_header[1] = \"Location\"\n"
     ]
    },
    {
     "name": "stdout",
     "output_type": "stream",
     "text": [
      "Collected 9 - 18  data.\n"
     ]
    },
    {
     "name": "stderr",
     "output_type": "stream",
     "text": [
      "/var/folders/hn/gfxxh51d76nbszjdcrp5pzy80000gn/T/ipykernel_47560/3038214230.py:10: SettingWithCopyWarning: \n",
      "A value is trying to be set on a copy of a slice from a DataFrame\n",
      "\n",
      "See the caveats in the documentation: https://pandas.pydata.org/pandas-docs/stable/user_guide/indexing.html#returning-a-view-versus-a-copy\n",
      "  new_header[0] = \"Property Type\"\n",
      "/var/folders/hn/gfxxh51d76nbszjdcrp5pzy80000gn/T/ipykernel_47560/3038214230.py:11: SettingWithCopyWarning: \n",
      "A value is trying to be set on a copy of a slice from a DataFrame\n",
      "\n",
      "See the caveats in the documentation: https://pandas.pydata.org/pandas-docs/stable/user_guide/indexing.html#returning-a-view-versus-a-copy\n",
      "  new_header[1] = \"Location\"\n"
     ]
    },
    {
     "name": "stdout",
     "output_type": "stream",
     "text": [
      "Collected 10 - 18  data.\n"
     ]
    },
    {
     "name": "stderr",
     "output_type": "stream",
     "text": [
      "/var/folders/hn/gfxxh51d76nbszjdcrp5pzy80000gn/T/ipykernel_47560/3038214230.py:10: SettingWithCopyWarning: \n",
      "A value is trying to be set on a copy of a slice from a DataFrame\n",
      "\n",
      "See the caveats in the documentation: https://pandas.pydata.org/pandas-docs/stable/user_guide/indexing.html#returning-a-view-versus-a-copy\n",
      "  new_header[0] = \"Property Type\"\n",
      "/var/folders/hn/gfxxh51d76nbszjdcrp5pzy80000gn/T/ipykernel_47560/3038214230.py:11: SettingWithCopyWarning: \n",
      "A value is trying to be set on a copy of a slice from a DataFrame\n",
      "\n",
      "See the caveats in the documentation: https://pandas.pydata.org/pandas-docs/stable/user_guide/indexing.html#returning-a-view-versus-a-copy\n",
      "  new_header[1] = \"Location\"\n"
     ]
    },
    {
     "name": "stdout",
     "output_type": "stream",
     "text": [
      "Collected 11 - 18  data.\n"
     ]
    },
    {
     "name": "stderr",
     "output_type": "stream",
     "text": [
      "/var/folders/hn/gfxxh51d76nbszjdcrp5pzy80000gn/T/ipykernel_47560/3038214230.py:10: SettingWithCopyWarning: \n",
      "A value is trying to be set on a copy of a slice from a DataFrame\n",
      "\n",
      "See the caveats in the documentation: https://pandas.pydata.org/pandas-docs/stable/user_guide/indexing.html#returning-a-view-versus-a-copy\n",
      "  new_header[0] = \"Property Type\"\n",
      "/var/folders/hn/gfxxh51d76nbszjdcrp5pzy80000gn/T/ipykernel_47560/3038214230.py:11: SettingWithCopyWarning: \n",
      "A value is trying to be set on a copy of a slice from a DataFrame\n",
      "\n",
      "See the caveats in the documentation: https://pandas.pydata.org/pandas-docs/stable/user_guide/indexing.html#returning-a-view-versus-a-copy\n",
      "  new_header[1] = \"Location\"\n"
     ]
    },
    {
     "name": "stdout",
     "output_type": "stream",
     "text": [
      "Collected 1 - 19  data.\n"
     ]
    },
    {
     "name": "stderr",
     "output_type": "stream",
     "text": [
      "/var/folders/hn/gfxxh51d76nbszjdcrp5pzy80000gn/T/ipykernel_47560/3038214230.py:10: SettingWithCopyWarning: \n",
      "A value is trying to be set on a copy of a slice from a DataFrame\n",
      "\n",
      "See the caveats in the documentation: https://pandas.pydata.org/pandas-docs/stable/user_guide/indexing.html#returning-a-view-versus-a-copy\n",
      "  new_header[0] = \"Property Type\"\n",
      "/var/folders/hn/gfxxh51d76nbszjdcrp5pzy80000gn/T/ipykernel_47560/3038214230.py:11: SettingWithCopyWarning: \n",
      "A value is trying to be set on a copy of a slice from a DataFrame\n",
      "\n",
      "See the caveats in the documentation: https://pandas.pydata.org/pandas-docs/stable/user_guide/indexing.html#returning-a-view-versus-a-copy\n",
      "  new_header[1] = \"Location\"\n"
     ]
    },
    {
     "name": "stdout",
     "output_type": "stream",
     "text": [
      "Collected 2 - 19  data.\n"
     ]
    },
    {
     "name": "stderr",
     "output_type": "stream",
     "text": [
      "/var/folders/hn/gfxxh51d76nbszjdcrp5pzy80000gn/T/ipykernel_47560/3038214230.py:10: SettingWithCopyWarning: \n",
      "A value is trying to be set on a copy of a slice from a DataFrame\n",
      "\n",
      "See the caveats in the documentation: https://pandas.pydata.org/pandas-docs/stable/user_guide/indexing.html#returning-a-view-versus-a-copy\n",
      "  new_header[0] = \"Property Type\"\n",
      "/var/folders/hn/gfxxh51d76nbszjdcrp5pzy80000gn/T/ipykernel_47560/3038214230.py:11: SettingWithCopyWarning: \n",
      "A value is trying to be set on a copy of a slice from a DataFrame\n",
      "\n",
      "See the caveats in the documentation: https://pandas.pydata.org/pandas-docs/stable/user_guide/indexing.html#returning-a-view-versus-a-copy\n",
      "  new_header[1] = \"Location\"\n"
     ]
    },
    {
     "name": "stdout",
     "output_type": "stream",
     "text": [
      "Collected 3 - 19  data.\n"
     ]
    },
    {
     "name": "stderr",
     "output_type": "stream",
     "text": [
      "/var/folders/hn/gfxxh51d76nbszjdcrp5pzy80000gn/T/ipykernel_47560/3038214230.py:10: SettingWithCopyWarning: \n",
      "A value is trying to be set on a copy of a slice from a DataFrame\n",
      "\n",
      "See the caveats in the documentation: https://pandas.pydata.org/pandas-docs/stable/user_guide/indexing.html#returning-a-view-versus-a-copy\n",
      "  new_header[0] = \"Property Type\"\n",
      "/var/folders/hn/gfxxh51d76nbszjdcrp5pzy80000gn/T/ipykernel_47560/3038214230.py:11: SettingWithCopyWarning: \n",
      "A value is trying to be set on a copy of a slice from a DataFrame\n",
      "\n",
      "See the caveats in the documentation: https://pandas.pydata.org/pandas-docs/stable/user_guide/indexing.html#returning-a-view-versus-a-copy\n",
      "  new_header[1] = \"Location\"\n"
     ]
    },
    {
     "name": "stdout",
     "output_type": "stream",
     "text": [
      "Collected 4 - 19  data.\n"
     ]
    },
    {
     "name": "stderr",
     "output_type": "stream",
     "text": [
      "/var/folders/hn/gfxxh51d76nbszjdcrp5pzy80000gn/T/ipykernel_47560/3038214230.py:10: SettingWithCopyWarning: \n",
      "A value is trying to be set on a copy of a slice from a DataFrame\n",
      "\n",
      "See the caveats in the documentation: https://pandas.pydata.org/pandas-docs/stable/user_guide/indexing.html#returning-a-view-versus-a-copy\n",
      "  new_header[0] = \"Property Type\"\n",
      "/var/folders/hn/gfxxh51d76nbszjdcrp5pzy80000gn/T/ipykernel_47560/3038214230.py:11: SettingWithCopyWarning: \n",
      "A value is trying to be set on a copy of a slice from a DataFrame\n",
      "\n",
      "See the caveats in the documentation: https://pandas.pydata.org/pandas-docs/stable/user_guide/indexing.html#returning-a-view-versus-a-copy\n",
      "  new_header[1] = \"Location\"\n"
     ]
    },
    {
     "name": "stdout",
     "output_type": "stream",
     "text": [
      "Collected 6 - 19  data.\n"
     ]
    },
    {
     "name": "stderr",
     "output_type": "stream",
     "text": [
      "/var/folders/hn/gfxxh51d76nbszjdcrp5pzy80000gn/T/ipykernel_47560/3038214230.py:10: SettingWithCopyWarning: \n",
      "A value is trying to be set on a copy of a slice from a DataFrame\n",
      "\n",
      "See the caveats in the documentation: https://pandas.pydata.org/pandas-docs/stable/user_guide/indexing.html#returning-a-view-versus-a-copy\n",
      "  new_header[0] = \"Property Type\"\n",
      "/var/folders/hn/gfxxh51d76nbszjdcrp5pzy80000gn/T/ipykernel_47560/3038214230.py:11: SettingWithCopyWarning: \n",
      "A value is trying to be set on a copy of a slice from a DataFrame\n",
      "\n",
      "See the caveats in the documentation: https://pandas.pydata.org/pandas-docs/stable/user_guide/indexing.html#returning-a-view-versus-a-copy\n",
      "  new_header[1] = \"Location\"\n"
     ]
    },
    {
     "name": "stdout",
     "output_type": "stream",
     "text": [
      "Collected 7 - 19  data.\n"
     ]
    },
    {
     "name": "stderr",
     "output_type": "stream",
     "text": [
      "/var/folders/hn/gfxxh51d76nbszjdcrp5pzy80000gn/T/ipykernel_47560/3038214230.py:10: SettingWithCopyWarning: \n",
      "A value is trying to be set on a copy of a slice from a DataFrame\n",
      "\n",
      "See the caveats in the documentation: https://pandas.pydata.org/pandas-docs/stable/user_guide/indexing.html#returning-a-view-versus-a-copy\n",
      "  new_header[0] = \"Property Type\"\n",
      "/var/folders/hn/gfxxh51d76nbszjdcrp5pzy80000gn/T/ipykernel_47560/3038214230.py:11: SettingWithCopyWarning: \n",
      "A value is trying to be set on a copy of a slice from a DataFrame\n",
      "\n",
      "See the caveats in the documentation: https://pandas.pydata.org/pandas-docs/stable/user_guide/indexing.html#returning-a-view-versus-a-copy\n",
      "  new_header[1] = \"Location\"\n"
     ]
    },
    {
     "name": "stdout",
     "output_type": "stream",
     "text": [
      "Collected 8 - 19  data.\n"
     ]
    },
    {
     "name": "stderr",
     "output_type": "stream",
     "text": [
      "/var/folders/hn/gfxxh51d76nbszjdcrp5pzy80000gn/T/ipykernel_47560/3038214230.py:10: SettingWithCopyWarning: \n",
      "A value is trying to be set on a copy of a slice from a DataFrame\n",
      "\n",
      "See the caveats in the documentation: https://pandas.pydata.org/pandas-docs/stable/user_guide/indexing.html#returning-a-view-versus-a-copy\n",
      "  new_header[0] = \"Property Type\"\n",
      "/var/folders/hn/gfxxh51d76nbszjdcrp5pzy80000gn/T/ipykernel_47560/3038214230.py:11: SettingWithCopyWarning: \n",
      "A value is trying to be set on a copy of a slice from a DataFrame\n",
      "\n",
      "See the caveats in the documentation: https://pandas.pydata.org/pandas-docs/stable/user_guide/indexing.html#returning-a-view-versus-a-copy\n",
      "  new_header[1] = \"Location\"\n"
     ]
    },
    {
     "name": "stdout",
     "output_type": "stream",
     "text": [
      "Collected 9 - 19  data.\n"
     ]
    },
    {
     "name": "stderr",
     "output_type": "stream",
     "text": [
      "/var/folders/hn/gfxxh51d76nbszjdcrp5pzy80000gn/T/ipykernel_47560/3038214230.py:10: SettingWithCopyWarning: \n",
      "A value is trying to be set on a copy of a slice from a DataFrame\n",
      "\n",
      "See the caveats in the documentation: https://pandas.pydata.org/pandas-docs/stable/user_guide/indexing.html#returning-a-view-versus-a-copy\n",
      "  new_header[0] = \"Property Type\"\n",
      "/var/folders/hn/gfxxh51d76nbszjdcrp5pzy80000gn/T/ipykernel_47560/3038214230.py:11: SettingWithCopyWarning: \n",
      "A value is trying to be set on a copy of a slice from a DataFrame\n",
      "\n",
      "See the caveats in the documentation: https://pandas.pydata.org/pandas-docs/stable/user_guide/indexing.html#returning-a-view-versus-a-copy\n",
      "  new_header[1] = \"Location\"\n"
     ]
    },
    {
     "name": "stdout",
     "output_type": "stream",
     "text": [
      "Collected 10 - 19  data.\n"
     ]
    },
    {
     "name": "stderr",
     "output_type": "stream",
     "text": [
      "/var/folders/hn/gfxxh51d76nbszjdcrp5pzy80000gn/T/ipykernel_47560/3038214230.py:10: SettingWithCopyWarning: \n",
      "A value is trying to be set on a copy of a slice from a DataFrame\n",
      "\n",
      "See the caveats in the documentation: https://pandas.pydata.org/pandas-docs/stable/user_guide/indexing.html#returning-a-view-versus-a-copy\n",
      "  new_header[0] = \"Property Type\"\n",
      "/var/folders/hn/gfxxh51d76nbszjdcrp5pzy80000gn/T/ipykernel_47560/3038214230.py:11: SettingWithCopyWarning: \n",
      "A value is trying to be set on a copy of a slice from a DataFrame\n",
      "\n",
      "See the caveats in the documentation: https://pandas.pydata.org/pandas-docs/stable/user_guide/indexing.html#returning-a-view-versus-a-copy\n",
      "  new_header[1] = \"Location\"\n"
     ]
    },
    {
     "name": "stdout",
     "output_type": "stream",
     "text": [
      "Collected 11 - 19  data.\n"
     ]
    },
    {
     "name": "stderr",
     "output_type": "stream",
     "text": [
      "/var/folders/hn/gfxxh51d76nbszjdcrp5pzy80000gn/T/ipykernel_47560/3038214230.py:10: SettingWithCopyWarning: \n",
      "A value is trying to be set on a copy of a slice from a DataFrame\n",
      "\n",
      "See the caveats in the documentation: https://pandas.pydata.org/pandas-docs/stable/user_guide/indexing.html#returning-a-view-versus-a-copy\n",
      "  new_header[0] = \"Property Type\"\n",
      "/var/folders/hn/gfxxh51d76nbszjdcrp5pzy80000gn/T/ipykernel_47560/3038214230.py:11: SettingWithCopyWarning: \n",
      "A value is trying to be set on a copy of a slice from a DataFrame\n",
      "\n",
      "See the caveats in the documentation: https://pandas.pydata.org/pandas-docs/stable/user_guide/indexing.html#returning-a-view-versus-a-copy\n",
      "  new_header[1] = \"Location\"\n"
     ]
    },
    {
     "name": "stdout",
     "output_type": "stream",
     "text": [
      "Collected 1 - 20  data.\n"
     ]
    },
    {
     "name": "stderr",
     "output_type": "stream",
     "text": [
      "/var/folders/hn/gfxxh51d76nbszjdcrp5pzy80000gn/T/ipykernel_47560/3038214230.py:10: SettingWithCopyWarning: \n",
      "A value is trying to be set on a copy of a slice from a DataFrame\n",
      "\n",
      "See the caveats in the documentation: https://pandas.pydata.org/pandas-docs/stable/user_guide/indexing.html#returning-a-view-versus-a-copy\n",
      "  new_header[0] = \"Property Type\"\n",
      "/var/folders/hn/gfxxh51d76nbszjdcrp5pzy80000gn/T/ipykernel_47560/3038214230.py:11: SettingWithCopyWarning: \n",
      "A value is trying to be set on a copy of a slice from a DataFrame\n",
      "\n",
      "See the caveats in the documentation: https://pandas.pydata.org/pandas-docs/stable/user_guide/indexing.html#returning-a-view-versus-a-copy\n",
      "  new_header[1] = \"Location\"\n"
     ]
    },
    {
     "name": "stdout",
     "output_type": "stream",
     "text": [
      "Collected 2 - 20  data.\n"
     ]
    },
    {
     "name": "stderr",
     "output_type": "stream",
     "text": [
      "/var/folders/hn/gfxxh51d76nbszjdcrp5pzy80000gn/T/ipykernel_47560/3038214230.py:10: SettingWithCopyWarning: \n",
      "A value is trying to be set on a copy of a slice from a DataFrame\n",
      "\n",
      "See the caveats in the documentation: https://pandas.pydata.org/pandas-docs/stable/user_guide/indexing.html#returning-a-view-versus-a-copy\n",
      "  new_header[0] = \"Property Type\"\n",
      "/var/folders/hn/gfxxh51d76nbszjdcrp5pzy80000gn/T/ipykernel_47560/3038214230.py:11: SettingWithCopyWarning: \n",
      "A value is trying to be set on a copy of a slice from a DataFrame\n",
      "\n",
      "See the caveats in the documentation: https://pandas.pydata.org/pandas-docs/stable/user_guide/indexing.html#returning-a-view-versus-a-copy\n",
      "  new_header[1] = \"Location\"\n"
     ]
    },
    {
     "name": "stdout",
     "output_type": "stream",
     "text": [
      "Collected 3 - 20  data.\n"
     ]
    },
    {
     "name": "stderr",
     "output_type": "stream",
     "text": [
      "/var/folders/hn/gfxxh51d76nbszjdcrp5pzy80000gn/T/ipykernel_47560/3038214230.py:10: SettingWithCopyWarning: \n",
      "A value is trying to be set on a copy of a slice from a DataFrame\n",
      "\n",
      "See the caveats in the documentation: https://pandas.pydata.org/pandas-docs/stable/user_guide/indexing.html#returning-a-view-versus-a-copy\n",
      "  new_header[0] = \"Property Type\"\n",
      "/var/folders/hn/gfxxh51d76nbszjdcrp5pzy80000gn/T/ipykernel_47560/3038214230.py:11: SettingWithCopyWarning: \n",
      "A value is trying to be set on a copy of a slice from a DataFrame\n",
      "\n",
      "See the caveats in the documentation: https://pandas.pydata.org/pandas-docs/stable/user_guide/indexing.html#returning-a-view-versus-a-copy\n",
      "  new_header[1] = \"Location\"\n"
     ]
    },
    {
     "name": "stdout",
     "output_type": "stream",
     "text": [
      "Collected 4 - 20  data.\n"
     ]
    },
    {
     "name": "stderr",
     "output_type": "stream",
     "text": [
      "/var/folders/hn/gfxxh51d76nbszjdcrp5pzy80000gn/T/ipykernel_47560/3038214230.py:10: SettingWithCopyWarning: \n",
      "A value is trying to be set on a copy of a slice from a DataFrame\n",
      "\n",
      "See the caveats in the documentation: https://pandas.pydata.org/pandas-docs/stable/user_guide/indexing.html#returning-a-view-versus-a-copy\n",
      "  new_header[0] = \"Property Type\"\n",
      "/var/folders/hn/gfxxh51d76nbszjdcrp5pzy80000gn/T/ipykernel_47560/3038214230.py:11: SettingWithCopyWarning: \n",
      "A value is trying to be set on a copy of a slice from a DataFrame\n",
      "\n",
      "See the caveats in the documentation: https://pandas.pydata.org/pandas-docs/stable/user_guide/indexing.html#returning-a-view-versus-a-copy\n",
      "  new_header[1] = \"Location\"\n"
     ]
    },
    {
     "name": "stdout",
     "output_type": "stream",
     "text": [
      "Collected 6 - 20  data.\n"
     ]
    },
    {
     "name": "stderr",
     "output_type": "stream",
     "text": [
      "/var/folders/hn/gfxxh51d76nbszjdcrp5pzy80000gn/T/ipykernel_47560/3038214230.py:10: SettingWithCopyWarning: \n",
      "A value is trying to be set on a copy of a slice from a DataFrame\n",
      "\n",
      "See the caveats in the documentation: https://pandas.pydata.org/pandas-docs/stable/user_guide/indexing.html#returning-a-view-versus-a-copy\n",
      "  new_header[0] = \"Property Type\"\n",
      "/var/folders/hn/gfxxh51d76nbszjdcrp5pzy80000gn/T/ipykernel_47560/3038214230.py:11: SettingWithCopyWarning: \n",
      "A value is trying to be set on a copy of a slice from a DataFrame\n",
      "\n",
      "See the caveats in the documentation: https://pandas.pydata.org/pandas-docs/stable/user_guide/indexing.html#returning-a-view-versus-a-copy\n",
      "  new_header[1] = \"Location\"\n"
     ]
    },
    {
     "name": "stdout",
     "output_type": "stream",
     "text": [
      "Collected 7 - 20  data.\n"
     ]
    },
    {
     "name": "stderr",
     "output_type": "stream",
     "text": [
      "/var/folders/hn/gfxxh51d76nbszjdcrp5pzy80000gn/T/ipykernel_47560/3038214230.py:10: SettingWithCopyWarning: \n",
      "A value is trying to be set on a copy of a slice from a DataFrame\n",
      "\n",
      "See the caveats in the documentation: https://pandas.pydata.org/pandas-docs/stable/user_guide/indexing.html#returning-a-view-versus-a-copy\n",
      "  new_header[0] = \"Property Type\"\n",
      "/var/folders/hn/gfxxh51d76nbszjdcrp5pzy80000gn/T/ipykernel_47560/3038214230.py:11: SettingWithCopyWarning: \n",
      "A value is trying to be set on a copy of a slice from a DataFrame\n",
      "\n",
      "See the caveats in the documentation: https://pandas.pydata.org/pandas-docs/stable/user_guide/indexing.html#returning-a-view-versus-a-copy\n",
      "  new_header[1] = \"Location\"\n"
     ]
    },
    {
     "name": "stdout",
     "output_type": "stream",
     "text": [
      "Collected 8 - 20  data.\n"
     ]
    },
    {
     "name": "stderr",
     "output_type": "stream",
     "text": [
      "/var/folders/hn/gfxxh51d76nbszjdcrp5pzy80000gn/T/ipykernel_47560/3038214230.py:10: SettingWithCopyWarning: \n",
      "A value is trying to be set on a copy of a slice from a DataFrame\n",
      "\n",
      "See the caveats in the documentation: https://pandas.pydata.org/pandas-docs/stable/user_guide/indexing.html#returning-a-view-versus-a-copy\n",
      "  new_header[0] = \"Property Type\"\n",
      "/var/folders/hn/gfxxh51d76nbszjdcrp5pzy80000gn/T/ipykernel_47560/3038214230.py:11: SettingWithCopyWarning: \n",
      "A value is trying to be set on a copy of a slice from a DataFrame\n",
      "\n",
      "See the caveats in the documentation: https://pandas.pydata.org/pandas-docs/stable/user_guide/indexing.html#returning-a-view-versus-a-copy\n",
      "  new_header[1] = \"Location\"\n"
     ]
    },
    {
     "name": "stdout",
     "output_type": "stream",
     "text": [
      "Collected 9 - 20  data.\n"
     ]
    },
    {
     "name": "stderr",
     "output_type": "stream",
     "text": [
      "/var/folders/hn/gfxxh51d76nbszjdcrp5pzy80000gn/T/ipykernel_47560/3038214230.py:10: SettingWithCopyWarning: \n",
      "A value is trying to be set on a copy of a slice from a DataFrame\n",
      "\n",
      "See the caveats in the documentation: https://pandas.pydata.org/pandas-docs/stable/user_guide/indexing.html#returning-a-view-versus-a-copy\n",
      "  new_header[0] = \"Property Type\"\n",
      "/var/folders/hn/gfxxh51d76nbszjdcrp5pzy80000gn/T/ipykernel_47560/3038214230.py:11: SettingWithCopyWarning: \n",
      "A value is trying to be set on a copy of a slice from a DataFrame\n",
      "\n",
      "See the caveats in the documentation: https://pandas.pydata.org/pandas-docs/stable/user_guide/indexing.html#returning-a-view-versus-a-copy\n",
      "  new_header[1] = \"Location\"\n"
     ]
    },
    {
     "name": "stdout",
     "output_type": "stream",
     "text": [
      "Collected 10 - 20  data.\n"
     ]
    },
    {
     "name": "stderr",
     "output_type": "stream",
     "text": [
      "/var/folders/hn/gfxxh51d76nbszjdcrp5pzy80000gn/T/ipykernel_47560/3038214230.py:10: SettingWithCopyWarning: \n",
      "A value is trying to be set on a copy of a slice from a DataFrame\n",
      "\n",
      "See the caveats in the documentation: https://pandas.pydata.org/pandas-docs/stable/user_guide/indexing.html#returning-a-view-versus-a-copy\n",
      "  new_header[0] = \"Property Type\"\n",
      "/var/folders/hn/gfxxh51d76nbszjdcrp5pzy80000gn/T/ipykernel_47560/3038214230.py:11: SettingWithCopyWarning: \n",
      "A value is trying to be set on a copy of a slice from a DataFrame\n",
      "\n",
      "See the caveats in the documentation: https://pandas.pydata.org/pandas-docs/stable/user_guide/indexing.html#returning-a-view-versus-a-copy\n",
      "  new_header[1] = \"Location\"\n"
     ]
    },
    {
     "name": "stdout",
     "output_type": "stream",
     "text": [
      "Collected 11 - 20  data.\n"
     ]
    },
    {
     "name": "stderr",
     "output_type": "stream",
     "text": [
      "/var/folders/hn/gfxxh51d76nbszjdcrp5pzy80000gn/T/ipykernel_47560/3038214230.py:10: SettingWithCopyWarning: \n",
      "A value is trying to be set on a copy of a slice from a DataFrame\n",
      "\n",
      "See the caveats in the documentation: https://pandas.pydata.org/pandas-docs/stable/user_guide/indexing.html#returning-a-view-versus-a-copy\n",
      "  new_header[0] = \"Property Type\"\n",
      "/var/folders/hn/gfxxh51d76nbszjdcrp5pzy80000gn/T/ipykernel_47560/3038214230.py:11: SettingWithCopyWarning: \n",
      "A value is trying to be set on a copy of a slice from a DataFrame\n",
      "\n",
      "See the caveats in the documentation: https://pandas.pydata.org/pandas-docs/stable/user_guide/indexing.html#returning-a-view-versus-a-copy\n",
      "  new_header[1] = \"Location\"\n"
     ]
    },
    {
     "name": "stdout",
     "output_type": "stream",
     "text": [
      "Collected 1 - 21  data.\n"
     ]
    },
    {
     "name": "stderr",
     "output_type": "stream",
     "text": [
      "/var/folders/hn/gfxxh51d76nbszjdcrp5pzy80000gn/T/ipykernel_47560/3038214230.py:10: SettingWithCopyWarning: \n",
      "A value is trying to be set on a copy of a slice from a DataFrame\n",
      "\n",
      "See the caveats in the documentation: https://pandas.pydata.org/pandas-docs/stable/user_guide/indexing.html#returning-a-view-versus-a-copy\n",
      "  new_header[0] = \"Property Type\"\n",
      "/var/folders/hn/gfxxh51d76nbszjdcrp5pzy80000gn/T/ipykernel_47560/3038214230.py:11: SettingWithCopyWarning: \n",
      "A value is trying to be set on a copy of a slice from a DataFrame\n",
      "\n",
      "See the caveats in the documentation: https://pandas.pydata.org/pandas-docs/stable/user_guide/indexing.html#returning-a-view-versus-a-copy\n",
      "  new_header[1] = \"Location\"\n"
     ]
    },
    {
     "name": "stdout",
     "output_type": "stream",
     "text": [
      "Collected 2 - 21  data.\n"
     ]
    },
    {
     "name": "stderr",
     "output_type": "stream",
     "text": [
      "/var/folders/hn/gfxxh51d76nbszjdcrp5pzy80000gn/T/ipykernel_47560/3038214230.py:10: SettingWithCopyWarning: \n",
      "A value is trying to be set on a copy of a slice from a DataFrame\n",
      "\n",
      "See the caveats in the documentation: https://pandas.pydata.org/pandas-docs/stable/user_guide/indexing.html#returning-a-view-versus-a-copy\n",
      "  new_header[0] = \"Property Type\"\n",
      "/var/folders/hn/gfxxh51d76nbszjdcrp5pzy80000gn/T/ipykernel_47560/3038214230.py:11: SettingWithCopyWarning: \n",
      "A value is trying to be set on a copy of a slice from a DataFrame\n",
      "\n",
      "See the caveats in the documentation: https://pandas.pydata.org/pandas-docs/stable/user_guide/indexing.html#returning-a-view-versus-a-copy\n",
      "  new_header[1] = \"Location\"\n"
     ]
    },
    {
     "name": "stdout",
     "output_type": "stream",
     "text": [
      "Collected 3 - 21  data.\n"
     ]
    },
    {
     "name": "stderr",
     "output_type": "stream",
     "text": [
      "/var/folders/hn/gfxxh51d76nbszjdcrp5pzy80000gn/T/ipykernel_47560/3038214230.py:10: SettingWithCopyWarning: \n",
      "A value is trying to be set on a copy of a slice from a DataFrame\n",
      "\n",
      "See the caveats in the documentation: https://pandas.pydata.org/pandas-docs/stable/user_guide/indexing.html#returning-a-view-versus-a-copy\n",
      "  new_header[0] = \"Property Type\"\n",
      "/var/folders/hn/gfxxh51d76nbszjdcrp5pzy80000gn/T/ipykernel_47560/3038214230.py:11: SettingWithCopyWarning: \n",
      "A value is trying to be set on a copy of a slice from a DataFrame\n",
      "\n",
      "See the caveats in the documentation: https://pandas.pydata.org/pandas-docs/stable/user_guide/indexing.html#returning-a-view-versus-a-copy\n",
      "  new_header[1] = \"Location\"\n"
     ]
    },
    {
     "name": "stdout",
     "output_type": "stream",
     "text": [
      "Collected 6 - 21  data.\n"
     ]
    },
    {
     "name": "stderr",
     "output_type": "stream",
     "text": [
      "/var/folders/hn/gfxxh51d76nbszjdcrp5pzy80000gn/T/ipykernel_47560/3038214230.py:10: SettingWithCopyWarning: \n",
      "A value is trying to be set on a copy of a slice from a DataFrame\n",
      "\n",
      "See the caveats in the documentation: https://pandas.pydata.org/pandas-docs/stable/user_guide/indexing.html#returning-a-view-versus-a-copy\n",
      "  new_header[0] = \"Property Type\"\n",
      "/var/folders/hn/gfxxh51d76nbszjdcrp5pzy80000gn/T/ipykernel_47560/3038214230.py:11: SettingWithCopyWarning: \n",
      "A value is trying to be set on a copy of a slice from a DataFrame\n",
      "\n",
      "See the caveats in the documentation: https://pandas.pydata.org/pandas-docs/stable/user_guide/indexing.html#returning-a-view-versus-a-copy\n",
      "  new_header[1] = \"Location\"\n"
     ]
    },
    {
     "name": "stdout",
     "output_type": "stream",
     "text": [
      "Collected 7 - 21  data.\n"
     ]
    },
    {
     "name": "stderr",
     "output_type": "stream",
     "text": [
      "/var/folders/hn/gfxxh51d76nbszjdcrp5pzy80000gn/T/ipykernel_47560/3038214230.py:10: SettingWithCopyWarning: \n",
      "A value is trying to be set on a copy of a slice from a DataFrame\n",
      "\n",
      "See the caveats in the documentation: https://pandas.pydata.org/pandas-docs/stable/user_guide/indexing.html#returning-a-view-versus-a-copy\n",
      "  new_header[0] = \"Property Type\"\n",
      "/var/folders/hn/gfxxh51d76nbszjdcrp5pzy80000gn/T/ipykernel_47560/3038214230.py:11: SettingWithCopyWarning: \n",
      "A value is trying to be set on a copy of a slice from a DataFrame\n",
      "\n",
      "See the caveats in the documentation: https://pandas.pydata.org/pandas-docs/stable/user_guide/indexing.html#returning-a-view-versus-a-copy\n",
      "  new_header[1] = \"Location\"\n"
     ]
    },
    {
     "name": "stdout",
     "output_type": "stream",
     "text": [
      "Collected 8 - 21  data.\n"
     ]
    },
    {
     "name": "stderr",
     "output_type": "stream",
     "text": [
      "/var/folders/hn/gfxxh51d76nbszjdcrp5pzy80000gn/T/ipykernel_47560/3038214230.py:10: SettingWithCopyWarning: \n",
      "A value is trying to be set on a copy of a slice from a DataFrame\n",
      "\n",
      "See the caveats in the documentation: https://pandas.pydata.org/pandas-docs/stable/user_guide/indexing.html#returning-a-view-versus-a-copy\n",
      "  new_header[0] = \"Property Type\"\n",
      "/var/folders/hn/gfxxh51d76nbszjdcrp5pzy80000gn/T/ipykernel_47560/3038214230.py:11: SettingWithCopyWarning: \n",
      "A value is trying to be set on a copy of a slice from a DataFrame\n",
      "\n",
      "See the caveats in the documentation: https://pandas.pydata.org/pandas-docs/stable/user_guide/indexing.html#returning-a-view-versus-a-copy\n",
      "  new_header[1] = \"Location\"\n"
     ]
    },
    {
     "name": "stdout",
     "output_type": "stream",
     "text": [
      "Collected 9 - 21  data.\n"
     ]
    },
    {
     "name": "stderr",
     "output_type": "stream",
     "text": [
      "/var/folders/hn/gfxxh51d76nbszjdcrp5pzy80000gn/T/ipykernel_47560/3038214230.py:10: SettingWithCopyWarning: \n",
      "A value is trying to be set on a copy of a slice from a DataFrame\n",
      "\n",
      "See the caveats in the documentation: https://pandas.pydata.org/pandas-docs/stable/user_guide/indexing.html#returning-a-view-versus-a-copy\n",
      "  new_header[0] = \"Property Type\"\n",
      "/var/folders/hn/gfxxh51d76nbszjdcrp5pzy80000gn/T/ipykernel_47560/3038214230.py:11: SettingWithCopyWarning: \n",
      "A value is trying to be set on a copy of a slice from a DataFrame\n",
      "\n",
      "See the caveats in the documentation: https://pandas.pydata.org/pandas-docs/stable/user_guide/indexing.html#returning-a-view-versus-a-copy\n",
      "  new_header[1] = \"Location\"\n"
     ]
    },
    {
     "name": "stdout",
     "output_type": "stream",
     "text": [
      "Collected 10 - 21  data.\n"
     ]
    },
    {
     "name": "stderr",
     "output_type": "stream",
     "text": [
      "/var/folders/hn/gfxxh51d76nbszjdcrp5pzy80000gn/T/ipykernel_47560/3038214230.py:10: SettingWithCopyWarning: \n",
      "A value is trying to be set on a copy of a slice from a DataFrame\n",
      "\n",
      "See the caveats in the documentation: https://pandas.pydata.org/pandas-docs/stable/user_guide/indexing.html#returning-a-view-versus-a-copy\n",
      "  new_header[0] = \"Property Type\"\n",
      "/var/folders/hn/gfxxh51d76nbszjdcrp5pzy80000gn/T/ipykernel_47560/3038214230.py:11: SettingWithCopyWarning: \n",
      "A value is trying to be set on a copy of a slice from a DataFrame\n",
      "\n",
      "See the caveats in the documentation: https://pandas.pydata.org/pandas-docs/stable/user_guide/indexing.html#returning-a-view-versus-a-copy\n",
      "  new_header[1] = \"Location\"\n"
     ]
    },
    {
     "name": "stdout",
     "output_type": "stream",
     "text": [
      "Collected 11 - 21  data.\n"
     ]
    },
    {
     "name": "stderr",
     "output_type": "stream",
     "text": [
      "/var/folders/hn/gfxxh51d76nbszjdcrp5pzy80000gn/T/ipykernel_47560/3038214230.py:10: SettingWithCopyWarning: \n",
      "A value is trying to be set on a copy of a slice from a DataFrame\n",
      "\n",
      "See the caveats in the documentation: https://pandas.pydata.org/pandas-docs/stable/user_guide/indexing.html#returning-a-view-versus-a-copy\n",
      "  new_header[0] = \"Property Type\"\n",
      "/var/folders/hn/gfxxh51d76nbszjdcrp5pzy80000gn/T/ipykernel_47560/3038214230.py:11: SettingWithCopyWarning: \n",
      "A value is trying to be set on a copy of a slice from a DataFrame\n",
      "\n",
      "See the caveats in the documentation: https://pandas.pydata.org/pandas-docs/stable/user_guide/indexing.html#returning-a-view-versus-a-copy\n",
      "  new_header[1] = \"Location\"\n"
     ]
    },
    {
     "name": "stdout",
     "output_type": "stream",
     "text": [
      "Collected 1 - 22  data.\n"
     ]
    },
    {
     "name": "stderr",
     "output_type": "stream",
     "text": [
      "/var/folders/hn/gfxxh51d76nbszjdcrp5pzy80000gn/T/ipykernel_47560/3038214230.py:10: SettingWithCopyWarning: \n",
      "A value is trying to be set on a copy of a slice from a DataFrame\n",
      "\n",
      "See the caveats in the documentation: https://pandas.pydata.org/pandas-docs/stable/user_guide/indexing.html#returning-a-view-versus-a-copy\n",
      "  new_header[0] = \"Property Type\"\n",
      "/var/folders/hn/gfxxh51d76nbszjdcrp5pzy80000gn/T/ipykernel_47560/3038214230.py:11: SettingWithCopyWarning: \n",
      "A value is trying to be set on a copy of a slice from a DataFrame\n",
      "\n",
      "See the caveats in the documentation: https://pandas.pydata.org/pandas-docs/stable/user_guide/indexing.html#returning-a-view-versus-a-copy\n",
      "  new_header[1] = \"Location\"\n"
     ]
    },
    {
     "name": "stdout",
     "output_type": "stream",
     "text": [
      "Collected 2 - 22  data.\n"
     ]
    },
    {
     "name": "stderr",
     "output_type": "stream",
     "text": [
      "/var/folders/hn/gfxxh51d76nbszjdcrp5pzy80000gn/T/ipykernel_47560/3038214230.py:10: SettingWithCopyWarning: \n",
      "A value is trying to be set on a copy of a slice from a DataFrame\n",
      "\n",
      "See the caveats in the documentation: https://pandas.pydata.org/pandas-docs/stable/user_guide/indexing.html#returning-a-view-versus-a-copy\n",
      "  new_header[0] = \"Property Type\"\n",
      "/var/folders/hn/gfxxh51d76nbszjdcrp5pzy80000gn/T/ipykernel_47560/3038214230.py:11: SettingWithCopyWarning: \n",
      "A value is trying to be set on a copy of a slice from a DataFrame\n",
      "\n",
      "See the caveats in the documentation: https://pandas.pydata.org/pandas-docs/stable/user_guide/indexing.html#returning-a-view-versus-a-copy\n",
      "  new_header[1] = \"Location\"\n"
     ]
    },
    {
     "name": "stdout",
     "output_type": "stream",
     "text": [
      "Collected 3 - 22  data.\n"
     ]
    },
    {
     "name": "stderr",
     "output_type": "stream",
     "text": [
      "/var/folders/hn/gfxxh51d76nbszjdcrp5pzy80000gn/T/ipykernel_47560/3038214230.py:10: SettingWithCopyWarning: \n",
      "A value is trying to be set on a copy of a slice from a DataFrame\n",
      "\n",
      "See the caveats in the documentation: https://pandas.pydata.org/pandas-docs/stable/user_guide/indexing.html#returning-a-view-versus-a-copy\n",
      "  new_header[0] = \"Property Type\"\n",
      "/var/folders/hn/gfxxh51d76nbszjdcrp5pzy80000gn/T/ipykernel_47560/3038214230.py:11: SettingWithCopyWarning: \n",
      "A value is trying to be set on a copy of a slice from a DataFrame\n",
      "\n",
      "See the caveats in the documentation: https://pandas.pydata.org/pandas-docs/stable/user_guide/indexing.html#returning-a-view-versus-a-copy\n",
      "  new_header[1] = \"Location\"\n"
     ]
    },
    {
     "name": "stdout",
     "output_type": "stream",
     "text": [
      "Collected 4 - 22  data.\n"
     ]
    },
    {
     "name": "stderr",
     "output_type": "stream",
     "text": [
      "/var/folders/hn/gfxxh51d76nbszjdcrp5pzy80000gn/T/ipykernel_47560/3038214230.py:10: SettingWithCopyWarning: \n",
      "A value is trying to be set on a copy of a slice from a DataFrame\n",
      "\n",
      "See the caveats in the documentation: https://pandas.pydata.org/pandas-docs/stable/user_guide/indexing.html#returning-a-view-versus-a-copy\n",
      "  new_header[0] = \"Property Type\"\n",
      "/var/folders/hn/gfxxh51d76nbszjdcrp5pzy80000gn/T/ipykernel_47560/3038214230.py:11: SettingWithCopyWarning: \n",
      "A value is trying to be set on a copy of a slice from a DataFrame\n",
      "\n",
      "See the caveats in the documentation: https://pandas.pydata.org/pandas-docs/stable/user_guide/indexing.html#returning-a-view-versus-a-copy\n",
      "  new_header[1] = \"Location\"\n"
     ]
    },
    {
     "name": "stdout",
     "output_type": "stream",
     "text": [
      "Collected 6 - 22  data.\n"
     ]
    },
    {
     "name": "stderr",
     "output_type": "stream",
     "text": [
      "/var/folders/hn/gfxxh51d76nbszjdcrp5pzy80000gn/T/ipykernel_47560/3038214230.py:10: SettingWithCopyWarning: \n",
      "A value is trying to be set on a copy of a slice from a DataFrame\n",
      "\n",
      "See the caveats in the documentation: https://pandas.pydata.org/pandas-docs/stable/user_guide/indexing.html#returning-a-view-versus-a-copy\n",
      "  new_header[0] = \"Property Type\"\n",
      "/var/folders/hn/gfxxh51d76nbszjdcrp5pzy80000gn/T/ipykernel_47560/3038214230.py:11: SettingWithCopyWarning: \n",
      "A value is trying to be set on a copy of a slice from a DataFrame\n",
      "\n",
      "See the caveats in the documentation: https://pandas.pydata.org/pandas-docs/stable/user_guide/indexing.html#returning-a-view-versus-a-copy\n",
      "  new_header[1] = \"Location\"\n"
     ]
    },
    {
     "name": "stdout",
     "output_type": "stream",
     "text": [
      "Collected 7 - 22  data.\n"
     ]
    },
    {
     "name": "stderr",
     "output_type": "stream",
     "text": [
      "/var/folders/hn/gfxxh51d76nbszjdcrp5pzy80000gn/T/ipykernel_47560/3038214230.py:10: SettingWithCopyWarning: \n",
      "A value is trying to be set on a copy of a slice from a DataFrame\n",
      "\n",
      "See the caveats in the documentation: https://pandas.pydata.org/pandas-docs/stable/user_guide/indexing.html#returning-a-view-versus-a-copy\n",
      "  new_header[0] = \"Property Type\"\n",
      "/var/folders/hn/gfxxh51d76nbszjdcrp5pzy80000gn/T/ipykernel_47560/3038214230.py:11: SettingWithCopyWarning: \n",
      "A value is trying to be set on a copy of a slice from a DataFrame\n",
      "\n",
      "See the caveats in the documentation: https://pandas.pydata.org/pandas-docs/stable/user_guide/indexing.html#returning-a-view-versus-a-copy\n",
      "  new_header[1] = \"Location\"\n"
     ]
    },
    {
     "name": "stdout",
     "output_type": "stream",
     "text": [
      "Collected 8 - 22  data.\n"
     ]
    },
    {
     "name": "stderr",
     "output_type": "stream",
     "text": [
      "/var/folders/hn/gfxxh51d76nbszjdcrp5pzy80000gn/T/ipykernel_47560/3038214230.py:10: SettingWithCopyWarning: \n",
      "A value is trying to be set on a copy of a slice from a DataFrame\n",
      "\n",
      "See the caveats in the documentation: https://pandas.pydata.org/pandas-docs/stable/user_guide/indexing.html#returning-a-view-versus-a-copy\n",
      "  new_header[0] = \"Property Type\"\n",
      "/var/folders/hn/gfxxh51d76nbszjdcrp5pzy80000gn/T/ipykernel_47560/3038214230.py:11: SettingWithCopyWarning: \n",
      "A value is trying to be set on a copy of a slice from a DataFrame\n",
      "\n",
      "See the caveats in the documentation: https://pandas.pydata.org/pandas-docs/stable/user_guide/indexing.html#returning-a-view-versus-a-copy\n",
      "  new_header[1] = \"Location\"\n"
     ]
    },
    {
     "name": "stdout",
     "output_type": "stream",
     "text": [
      "Collected 9 - 22  data.\n"
     ]
    },
    {
     "name": "stderr",
     "output_type": "stream",
     "text": [
      "/var/folders/hn/gfxxh51d76nbszjdcrp5pzy80000gn/T/ipykernel_47560/3038214230.py:10: SettingWithCopyWarning: \n",
      "A value is trying to be set on a copy of a slice from a DataFrame\n",
      "\n",
      "See the caveats in the documentation: https://pandas.pydata.org/pandas-docs/stable/user_guide/indexing.html#returning-a-view-versus-a-copy\n",
      "  new_header[0] = \"Property Type\"\n",
      "/var/folders/hn/gfxxh51d76nbszjdcrp5pzy80000gn/T/ipykernel_47560/3038214230.py:11: SettingWithCopyWarning: \n",
      "A value is trying to be set on a copy of a slice from a DataFrame\n",
      "\n",
      "See the caveats in the documentation: https://pandas.pydata.org/pandas-docs/stable/user_guide/indexing.html#returning-a-view-versus-a-copy\n",
      "  new_header[1] = \"Location\"\n"
     ]
    },
    {
     "name": "stdout",
     "output_type": "stream",
     "text": [
      "Collected 10 - 22  data.\n"
     ]
    },
    {
     "name": "stderr",
     "output_type": "stream",
     "text": [
      "/var/folders/hn/gfxxh51d76nbszjdcrp5pzy80000gn/T/ipykernel_47560/3038214230.py:10: SettingWithCopyWarning: \n",
      "A value is trying to be set on a copy of a slice from a DataFrame\n",
      "\n",
      "See the caveats in the documentation: https://pandas.pydata.org/pandas-docs/stable/user_guide/indexing.html#returning-a-view-versus-a-copy\n",
      "  new_header[0] = \"Property Type\"\n",
      "/var/folders/hn/gfxxh51d76nbszjdcrp5pzy80000gn/T/ipykernel_47560/3038214230.py:11: SettingWithCopyWarning: \n",
      "A value is trying to be set on a copy of a slice from a DataFrame\n",
      "\n",
      "See the caveats in the documentation: https://pandas.pydata.org/pandas-docs/stable/user_guide/indexing.html#returning-a-view-versus-a-copy\n",
      "  new_header[1] = \"Location\"\n"
     ]
    },
    {
     "name": "stdout",
     "output_type": "stream",
     "text": [
      "Collected 1 - 23  data.\n"
     ]
    },
    {
     "name": "stderr",
     "output_type": "stream",
     "text": [
      "/var/folders/hn/gfxxh51d76nbszjdcrp5pzy80000gn/T/ipykernel_47560/3038214230.py:10: SettingWithCopyWarning: \n",
      "A value is trying to be set on a copy of a slice from a DataFrame\n",
      "\n",
      "See the caveats in the documentation: https://pandas.pydata.org/pandas-docs/stable/user_guide/indexing.html#returning-a-view-versus-a-copy\n",
      "  new_header[0] = \"Property Type\"\n",
      "/var/folders/hn/gfxxh51d76nbszjdcrp5pzy80000gn/T/ipykernel_47560/3038214230.py:11: SettingWithCopyWarning: \n",
      "A value is trying to be set on a copy of a slice from a DataFrame\n",
      "\n",
      "See the caveats in the documentation: https://pandas.pydata.org/pandas-docs/stable/user_guide/indexing.html#returning-a-view-versus-a-copy\n",
      "  new_header[1] = \"Location\"\n"
     ]
    },
    {
     "name": "stdout",
     "output_type": "stream",
     "text": [
      "Collected 2 - 23  data.\n"
     ]
    },
    {
     "name": "stderr",
     "output_type": "stream",
     "text": [
      "/var/folders/hn/gfxxh51d76nbszjdcrp5pzy80000gn/T/ipykernel_47560/3038214230.py:10: SettingWithCopyWarning: \n",
      "A value is trying to be set on a copy of a slice from a DataFrame\n",
      "\n",
      "See the caveats in the documentation: https://pandas.pydata.org/pandas-docs/stable/user_guide/indexing.html#returning-a-view-versus-a-copy\n",
      "  new_header[0] = \"Property Type\"\n",
      "/var/folders/hn/gfxxh51d76nbszjdcrp5pzy80000gn/T/ipykernel_47560/3038214230.py:11: SettingWithCopyWarning: \n",
      "A value is trying to be set on a copy of a slice from a DataFrame\n",
      "\n",
      "See the caveats in the documentation: https://pandas.pydata.org/pandas-docs/stable/user_guide/indexing.html#returning-a-view-versus-a-copy\n",
      "  new_header[1] = \"Location\"\n"
     ]
    },
    {
     "name": "stdout",
     "output_type": "stream",
     "text": [
      "Collected 3 - 23  data.\n"
     ]
    },
    {
     "name": "stderr",
     "output_type": "stream",
     "text": [
      "/var/folders/hn/gfxxh51d76nbszjdcrp5pzy80000gn/T/ipykernel_47560/3038214230.py:10: SettingWithCopyWarning: \n",
      "A value is trying to be set on a copy of a slice from a DataFrame\n",
      "\n",
      "See the caveats in the documentation: https://pandas.pydata.org/pandas-docs/stable/user_guide/indexing.html#returning-a-view-versus-a-copy\n",
      "  new_header[0] = \"Property Type\"\n",
      "/var/folders/hn/gfxxh51d76nbszjdcrp5pzy80000gn/T/ipykernel_47560/3038214230.py:11: SettingWithCopyWarning: \n",
      "A value is trying to be set on a copy of a slice from a DataFrame\n",
      "\n",
      "See the caveats in the documentation: https://pandas.pydata.org/pandas-docs/stable/user_guide/indexing.html#returning-a-view-versus-a-copy\n",
      "  new_header[1] = \"Location\"\n"
     ]
    },
    {
     "name": "stdout",
     "output_type": "stream",
     "text": [
      "Collected 4 - 23  data.\n"
     ]
    },
    {
     "name": "stderr",
     "output_type": "stream",
     "text": [
      "/var/folders/hn/gfxxh51d76nbszjdcrp5pzy80000gn/T/ipykernel_47560/3038214230.py:10: SettingWithCopyWarning: \n",
      "A value is trying to be set on a copy of a slice from a DataFrame\n",
      "\n",
      "See the caveats in the documentation: https://pandas.pydata.org/pandas-docs/stable/user_guide/indexing.html#returning-a-view-versus-a-copy\n",
      "  new_header[0] = \"Property Type\"\n",
      "/var/folders/hn/gfxxh51d76nbszjdcrp5pzy80000gn/T/ipykernel_47560/3038214230.py:11: SettingWithCopyWarning: \n",
      "A value is trying to be set on a copy of a slice from a DataFrame\n",
      "\n",
      "See the caveats in the documentation: https://pandas.pydata.org/pandas-docs/stable/user_guide/indexing.html#returning-a-view-versus-a-copy\n",
      "  new_header[1] = \"Location\"\n"
     ]
    },
    {
     "name": "stdout",
     "output_type": "stream",
     "text": [
      "Collected 5 - 23  data.\n"
     ]
    },
    {
     "name": "stderr",
     "output_type": "stream",
     "text": [
      "/var/folders/hn/gfxxh51d76nbszjdcrp5pzy80000gn/T/ipykernel_47560/3038214230.py:10: SettingWithCopyWarning: \n",
      "A value is trying to be set on a copy of a slice from a DataFrame\n",
      "\n",
      "See the caveats in the documentation: https://pandas.pydata.org/pandas-docs/stable/user_guide/indexing.html#returning-a-view-versus-a-copy\n",
      "  new_header[0] = \"Property Type\"\n",
      "/var/folders/hn/gfxxh51d76nbszjdcrp5pzy80000gn/T/ipykernel_47560/3038214230.py:11: SettingWithCopyWarning: \n",
      "A value is trying to be set on a copy of a slice from a DataFrame\n",
      "\n",
      "See the caveats in the documentation: https://pandas.pydata.org/pandas-docs/stable/user_guide/indexing.html#returning-a-view-versus-a-copy\n",
      "  new_header[1] = \"Location\"\n"
     ]
    },
    {
     "name": "stdout",
     "output_type": "stream",
     "text": [
      "Collected 6 - 23  data.\n"
     ]
    },
    {
     "name": "stderr",
     "output_type": "stream",
     "text": [
      "/var/folders/hn/gfxxh51d76nbszjdcrp5pzy80000gn/T/ipykernel_47560/3038214230.py:10: SettingWithCopyWarning: \n",
      "A value is trying to be set on a copy of a slice from a DataFrame\n",
      "\n",
      "See the caveats in the documentation: https://pandas.pydata.org/pandas-docs/stable/user_guide/indexing.html#returning-a-view-versus-a-copy\n",
      "  new_header[0] = \"Property Type\"\n",
      "/var/folders/hn/gfxxh51d76nbszjdcrp5pzy80000gn/T/ipykernel_47560/3038214230.py:11: SettingWithCopyWarning: \n",
      "A value is trying to be set on a copy of a slice from a DataFrame\n",
      "\n",
      "See the caveats in the documentation: https://pandas.pydata.org/pandas-docs/stable/user_guide/indexing.html#returning-a-view-versus-a-copy\n",
      "  new_header[1] = \"Location\"\n"
     ]
    },
    {
     "name": "stdout",
     "output_type": "stream",
     "text": [
      "Collected 7 - 23  data.\n"
     ]
    },
    {
     "name": "stderr",
     "output_type": "stream",
     "text": [
      "/var/folders/hn/gfxxh51d76nbszjdcrp5pzy80000gn/T/ipykernel_47560/3038214230.py:10: SettingWithCopyWarning: \n",
      "A value is trying to be set on a copy of a slice from a DataFrame\n",
      "\n",
      "See the caveats in the documentation: https://pandas.pydata.org/pandas-docs/stable/user_guide/indexing.html#returning-a-view-versus-a-copy\n",
      "  new_header[0] = \"Property Type\"\n",
      "/var/folders/hn/gfxxh51d76nbszjdcrp5pzy80000gn/T/ipykernel_47560/3038214230.py:11: SettingWithCopyWarning: \n",
      "A value is trying to be set on a copy of a slice from a DataFrame\n",
      "\n",
      "See the caveats in the documentation: https://pandas.pydata.org/pandas-docs/stable/user_guide/indexing.html#returning-a-view-versus-a-copy\n",
      "  new_header[1] = \"Location\"\n"
     ]
    },
    {
     "name": "stdout",
     "output_type": "stream",
     "text": [
      "Collected 8 - 23  data.\n"
     ]
    },
    {
     "name": "stderr",
     "output_type": "stream",
     "text": [
      "/var/folders/hn/gfxxh51d76nbszjdcrp5pzy80000gn/T/ipykernel_47560/3038214230.py:10: SettingWithCopyWarning: \n",
      "A value is trying to be set on a copy of a slice from a DataFrame\n",
      "\n",
      "See the caveats in the documentation: https://pandas.pydata.org/pandas-docs/stable/user_guide/indexing.html#returning-a-view-versus-a-copy\n",
      "  new_header[0] = \"Property Type\"\n",
      "/var/folders/hn/gfxxh51d76nbszjdcrp5pzy80000gn/T/ipykernel_47560/3038214230.py:11: SettingWithCopyWarning: \n",
      "A value is trying to be set on a copy of a slice from a DataFrame\n",
      "\n",
      "See the caveats in the documentation: https://pandas.pydata.org/pandas-docs/stable/user_guide/indexing.html#returning-a-view-versus-a-copy\n",
      "  new_header[1] = \"Location\"\n"
     ]
    },
    {
     "name": "stdout",
     "output_type": "stream",
     "text": [
      "Collected 9 - 23  data.\n"
     ]
    },
    {
     "name": "stderr",
     "output_type": "stream",
     "text": [
      "/var/folders/hn/gfxxh51d76nbszjdcrp5pzy80000gn/T/ipykernel_47560/3038214230.py:10: SettingWithCopyWarning: \n",
      "A value is trying to be set on a copy of a slice from a DataFrame\n",
      "\n",
      "See the caveats in the documentation: https://pandas.pydata.org/pandas-docs/stable/user_guide/indexing.html#returning-a-view-versus-a-copy\n",
      "  new_header[0] = \"Property Type\"\n",
      "/var/folders/hn/gfxxh51d76nbszjdcrp5pzy80000gn/T/ipykernel_47560/3038214230.py:11: SettingWithCopyWarning: \n",
      "A value is trying to be set on a copy of a slice from a DataFrame\n",
      "\n",
      "See the caveats in the documentation: https://pandas.pydata.org/pandas-docs/stable/user_guide/indexing.html#returning-a-view-versus-a-copy\n",
      "  new_header[1] = \"Location\"\n"
     ]
    },
    {
     "name": "stdout",
     "output_type": "stream",
     "text": [
      "Collected 10 - 23  data.\n"
     ]
    },
    {
     "name": "stderr",
     "output_type": "stream",
     "text": [
      "/var/folders/hn/gfxxh51d76nbszjdcrp5pzy80000gn/T/ipykernel_47560/3038214230.py:10: SettingWithCopyWarning: \n",
      "A value is trying to be set on a copy of a slice from a DataFrame\n",
      "\n",
      "See the caveats in the documentation: https://pandas.pydata.org/pandas-docs/stable/user_guide/indexing.html#returning-a-view-versus-a-copy\n",
      "  new_header[0] = \"Property Type\"\n",
      "/var/folders/hn/gfxxh51d76nbszjdcrp5pzy80000gn/T/ipykernel_47560/3038214230.py:11: SettingWithCopyWarning: \n",
      "A value is trying to be set on a copy of a slice from a DataFrame\n",
      "\n",
      "See the caveats in the documentation: https://pandas.pydata.org/pandas-docs/stable/user_guide/indexing.html#returning-a-view-versus-a-copy\n",
      "  new_header[1] = \"Location\"\n"
     ]
    },
    {
     "name": "stdout",
     "output_type": "stream",
     "text": [
      "Collected 11 - 23  data.\n"
     ]
    }
   ],
   "source": [
    "data_list = []\n",
    "cma = \"Vancouver\"\n",
    "\n",
    "for year in range(16, 24):\n",
    "    for month in range (1,13):\n",
    "        \n",
    "        url = generate_url(month, year, \"Vancouver\")\n",
    "        if url is not None:\n",
    "            extracted_data = extract_table_van(url, month, year)\n",
    "\n",
    "            if extracted_data is not None:\n",
    "                extracted_data.reset_index(drop=True, inplace=True)\n",
    "                data_list.append(extracted_data)\n",
    "                print(\"Collected\", month,\"-\",year, \" data.\")\n",
    "\n",
    "HPI_GVA = pd.concat(data_list, ignore_index=True)\n",
    "\n",
    "columns_name = [\"Location\", \"Price\", \"Index\", \"%1M_Change\", \"%3M_Change\", \"%6M_Change\", \n",
    "               \"%1Y_Change\", \"%3Y_Change\", \"%5Y_Change\", \"%10Y_Change\", \"Month_Year\"]\n",
    "\n",
    "HPI_GVA.columns = columns_name"
   ]
  },
  {
   "cell_type": "code",
   "execution_count": null,
   "id": "29cc31d9",
   "metadata": {},
   "outputs": [],
   "source": [
    "HPI_GVA.to_csv(\"/Users/changanlee/Desktop/University/Undergrad/4th-Year/Winter Semester/ECO475/Term Paper/Raw Data/HPI_GVA.csv\",\n",
    "               index = False)"
   ]
  },
  {
   "cell_type": "markdown",
   "id": "4551d284",
   "metadata": {},
   "source": [
    "### 3) Append Dataset"
   ]
  },
  {
   "cell_type": "code",
   "execution_count": 160,
   "id": "f5ec377f",
   "metadata": {},
   "outputs": [],
   "source": [
    "HPI_GTA = pd.read_csv(\"/Users/changanlee/Desktop/University/Undergrad/4th-Year/Winter Semester/ECO475/Term Paper/Raw Data/HPI_GTA_complete.csv\")\n",
    "HPI_GTA = HPI_GTA.iloc[:,:5].drop(columns=[\"Yr./Yr. % Chg.\"])\n",
    "HPI_GTA[\"Region\"] = \"Greater Toronto Area\""
   ]
  },
  {
   "cell_type": "code",
   "execution_count": 29,
   "id": "f99008b8",
   "metadata": {
    "scrolled": true
   },
   "outputs": [
    {
     "data": {
      "text/html": [
       "<div>\n",
       "<style scoped>\n",
       "    .dataframe tbody tr th:only-of-type {\n",
       "        vertical-align: middle;\n",
       "    }\n",
       "\n",
       "    .dataframe tbody tr th {\n",
       "        vertical-align: top;\n",
       "    }\n",
       "\n",
       "    .dataframe thead th {\n",
       "        text-align: right;\n",
       "    }\n",
       "</style>\n",
       "<table border=\"1\" class=\"dataframe\">\n",
       "  <thead>\n",
       "    <tr style=\"text-align: right;\">\n",
       "      <th></th>\n",
       "      <th>Location</th>\n",
       "      <th>Benchmark</th>\n",
       "      <th>Index</th>\n",
       "      <th>Month_Year</th>\n",
       "      <th>Region</th>\n",
       "    </tr>\n",
       "  </thead>\n",
       "  <tbody>\n",
       "    <tr>\n",
       "      <th>0</th>\n",
       "      <td>Lower Mainland</td>\n",
       "      <td>$719,500</td>\n",
       "      <td>202.9</td>\n",
       "      <td>03_2016</td>\n",
       "      <td>Greater Vancouver Area</td>\n",
       "    </tr>\n",
       "    <tr>\n",
       "      <th>1</th>\n",
       "      <td>Greater Vancouver</td>\n",
       "      <td>$815,000</td>\n",
       "      <td>213.3</td>\n",
       "      <td>03_2016</td>\n",
       "      <td>Greater Vancouver Area</td>\n",
       "    </tr>\n",
       "    <tr>\n",
       "      <th>2</th>\n",
       "      <td>Bowen Island</td>\n",
       "      <td>$653,500</td>\n",
       "      <td>141.7</td>\n",
       "      <td>03_2016</td>\n",
       "      <td>Greater Vancouver Area</td>\n",
       "    </tr>\n",
       "    <tr>\n",
       "      <th>3</th>\n",
       "      <td>Burnaby East</td>\n",
       "      <td>$759,000</td>\n",
       "      <td>209.5</td>\n",
       "      <td>03_2016</td>\n",
       "      <td>Greater Vancouver Area</td>\n",
       "    </tr>\n",
       "    <tr>\n",
       "      <th>4</th>\n",
       "      <td>Burnaby North</td>\n",
       "      <td>$675,000</td>\n",
       "      <td>202.9</td>\n",
       "      <td>03_2016</td>\n",
       "      <td>Greater Vancouver Area</td>\n",
       "    </tr>\n",
       "    <tr>\n",
       "      <th>...</th>\n",
       "      <td>...</td>\n",
       "      <td>...</td>\n",
       "      <td>...</td>\n",
       "      <td>...</td>\n",
       "      <td>...</td>\n",
       "    </tr>\n",
       "    <tr>\n",
       "      <th>1915</th>\n",
       "      <td>Vancouver West</td>\n",
       "      <td>$1,325,900</td>\n",
       "      <td>311.7</td>\n",
       "      <td>11_2023</td>\n",
       "      <td>Greater Vancouver Area</td>\n",
       "    </tr>\n",
       "    <tr>\n",
       "      <th>1916</th>\n",
       "      <td>West Vancouver</td>\n",
       "      <td>$2,560,500</td>\n",
       "      <td>276.0</td>\n",
       "      <td>11_2023</td>\n",
       "      <td>Greater Vancouver Area</td>\n",
       "    </tr>\n",
       "    <tr>\n",
       "      <th>1917</th>\n",
       "      <td>Whistler</td>\n",
       "      <td>$1,388,200</td>\n",
       "      <td>311.9</td>\n",
       "      <td>11_2023</td>\n",
       "      <td>Greater Vancouver Area</td>\n",
       "    </tr>\n",
       "    <tr>\n",
       "      <th>1918</th>\n",
       "      <td>Lower Mainland</td>\n",
       "      <td>$1,764,500</td>\n",
       "      <td>386.4</td>\n",
       "      <td>11_2023</td>\n",
       "      <td>Greater Vancouver Area</td>\n",
       "    </tr>\n",
       "    <tr>\n",
       "      <th>1919</th>\n",
       "      <td>Greater Vancouver</td>\n",
       "      <td>$1,982,600</td>\n",
       "      <td>368.7</td>\n",
       "      <td>11_2023</td>\n",
       "      <td>Greater Vancouver Area</td>\n",
       "    </tr>\n",
       "  </tbody>\n",
       "</table>\n",
       "<p>1920 rows × 5 columns</p>\n",
       "</div>"
      ],
      "text/plain": [
       "               Location   Benchmark  Index Month_Year                  Region\n",
       "0        Lower Mainland    $719,500  202.9    03_2016  Greater Vancouver Area\n",
       "1     Greater Vancouver    $815,000  213.3    03_2016  Greater Vancouver Area\n",
       "2          Bowen Island    $653,500  141.7    03_2016  Greater Vancouver Area\n",
       "3          Burnaby East    $759,000  209.5    03_2016  Greater Vancouver Area\n",
       "4         Burnaby North    $675,000  202.9    03_2016  Greater Vancouver Area\n",
       "...                 ...         ...    ...        ...                     ...\n",
       "1915     Vancouver West  $1,325,900  311.7    11_2023  Greater Vancouver Area\n",
       "1916     West Vancouver  $2,560,500  276.0    11_2023  Greater Vancouver Area\n",
       "1917           Whistler  $1,388,200  311.9    11_2023  Greater Vancouver Area\n",
       "1918     Lower Mainland  $1,764,500  386.4    11_2023  Greater Vancouver Area\n",
       "1919  Greater Vancouver  $1,982,600  368.7    11_2023  Greater Vancouver Area\n",
       "\n",
       "[1920 rows x 5 columns]"
      ]
     },
     "execution_count": 29,
     "metadata": {},
     "output_type": "execute_result"
    }
   ],
   "source": [
    "HPI_GVA = pd.read_csv(\"/Users/changanlee/Desktop/University/Undergrad/4th-Year/Winter Semester/ECO475/Term Paper/Raw Data/HPI_GVA.csv\")\n",
    "HPI_GVA = HPI_GVA.drop(columns=[\"%1M_Change\",\"%3M_Change\",\"%6M_Change\",\"%1Y_Change\", \"%3Y_Change\", \"%5Y_Change\", \"%10Y_Change\"])\n",
    "HPI_GVA = HPI_GVA.rename(columns={\"Price\":\"Benchmark\"})\n",
    "HPI_GVA[\"Region\"] = \"Greater Vancouver Area\"\n",
    "HPI_GVA"
   ]
  },
  {
   "cell_type": "code",
   "execution_count": 34,
   "id": "eb20d094",
   "metadata": {
    "scrolled": false
   },
   "outputs": [
    {
     "data": {
      "text/html": [
       "<div>\n",
       "<style scoped>\n",
       "    .dataframe tbody tr th:only-of-type {\n",
       "        vertical-align: middle;\n",
       "    }\n",
       "\n",
       "    .dataframe tbody tr th {\n",
       "        vertical-align: top;\n",
       "    }\n",
       "\n",
       "    .dataframe thead th {\n",
       "        text-align: right;\n",
       "    }\n",
       "</style>\n",
       "<table border=\"1\" class=\"dataframe\">\n",
       "  <thead>\n",
       "    <tr style=\"text-align: right;\">\n",
       "      <th></th>\n",
       "      <th>Location</th>\n",
       "      <th>Index</th>\n",
       "      <th>Benchmark</th>\n",
       "      <th>Month_Year</th>\n",
       "      <th>Region</th>\n",
       "    </tr>\n",
       "  </thead>\n",
       "  <tbody>\n",
       "    <tr>\n",
       "      <th>0</th>\n",
       "      <td>TREB Total</td>\n",
       "      <td>190.4</td>\n",
       "      <td>$581,100</td>\n",
       "      <td>01_2016</td>\n",
       "      <td>Greater Toronto Area</td>\n",
       "    </tr>\n",
       "    <tr>\n",
       "      <th>1</th>\n",
       "      <td>Halton Region</td>\n",
       "      <td>206.6</td>\n",
       "      <td>$675,800</td>\n",
       "      <td>01_2016</td>\n",
       "      <td>Greater Toronto Area</td>\n",
       "    </tr>\n",
       "    <tr>\n",
       "      <th>2</th>\n",
       "      <td>Burlington</td>\n",
       "      <td>202.9</td>\n",
       "      <td>$601,200</td>\n",
       "      <td>01_2016</td>\n",
       "      <td>Greater Toronto Area</td>\n",
       "    </tr>\n",
       "    <tr>\n",
       "      <th>3</th>\n",
       "      <td>Halton Hills</td>\n",
       "      <td>184.5</td>\n",
       "      <td>$537,300</td>\n",
       "      <td>01_2016</td>\n",
       "      <td>Greater Toronto Area</td>\n",
       "    </tr>\n",
       "    <tr>\n",
       "      <th>4</th>\n",
       "      <td>Milton</td>\n",
       "      <td>210.4</td>\n",
       "      <td>$580,500</td>\n",
       "      <td>01_2016</td>\n",
       "      <td>Greater Toronto Area</td>\n",
       "    </tr>\n",
       "    <tr>\n",
       "      <th>...</th>\n",
       "      <td>...</td>\n",
       "      <td>...</td>\n",
       "      <td>...</td>\n",
       "      <td>...</td>\n",
       "      <td>...</td>\n",
       "    </tr>\n",
       "    <tr>\n",
       "      <th>5563</th>\n",
       "      <td>Vancouver West</td>\n",
       "      <td>311.7</td>\n",
       "      <td>$1,325,900</td>\n",
       "      <td>11_2023</td>\n",
       "      <td>Greater Vancouver Area</td>\n",
       "    </tr>\n",
       "    <tr>\n",
       "      <th>5564</th>\n",
       "      <td>West Vancouver</td>\n",
       "      <td>276.0</td>\n",
       "      <td>$2,560,500</td>\n",
       "      <td>11_2023</td>\n",
       "      <td>Greater Vancouver Area</td>\n",
       "    </tr>\n",
       "    <tr>\n",
       "      <th>5565</th>\n",
       "      <td>Whistler</td>\n",
       "      <td>311.9</td>\n",
       "      <td>$1,388,200</td>\n",
       "      <td>11_2023</td>\n",
       "      <td>Greater Vancouver Area</td>\n",
       "    </tr>\n",
       "    <tr>\n",
       "      <th>5566</th>\n",
       "      <td>Lower Mainland</td>\n",
       "      <td>386.4</td>\n",
       "      <td>$1,764,500</td>\n",
       "      <td>11_2023</td>\n",
       "      <td>Greater Vancouver Area</td>\n",
       "    </tr>\n",
       "    <tr>\n",
       "      <th>5567</th>\n",
       "      <td>Greater Vancouver</td>\n",
       "      <td>368.7</td>\n",
       "      <td>$1,982,600</td>\n",
       "      <td>11_2023</td>\n",
       "      <td>Greater Vancouver Area</td>\n",
       "    </tr>\n",
       "  </tbody>\n",
       "</table>\n",
       "<p>5568 rows × 5 columns</p>\n",
       "</div>"
      ],
      "text/plain": [
       "               Location  Index   Benchmark Month_Year                  Region\n",
       "0            TREB Total  190.4   $581,100     01_2016    Greater Toronto Area\n",
       "1         Halton Region  206.6   $675,800     01_2016    Greater Toronto Area\n",
       "2            Burlington  202.9   $601,200     01_2016    Greater Toronto Area\n",
       "3          Halton Hills  184.5   $537,300     01_2016    Greater Toronto Area\n",
       "4                Milton  210.4   $580,500     01_2016    Greater Toronto Area\n",
       "...                 ...    ...         ...        ...                     ...\n",
       "5563     Vancouver West  311.7  $1,325,900    11_2023  Greater Vancouver Area\n",
       "5564     West Vancouver  276.0  $2,560,500    11_2023  Greater Vancouver Area\n",
       "5565           Whistler  311.9  $1,388,200    11_2023  Greater Vancouver Area\n",
       "5566     Lower Mainland  386.4  $1,764,500    11_2023  Greater Vancouver Area\n",
       "5567  Greater Vancouver  368.7  $1,982,600    11_2023  Greater Vancouver Area\n",
       "\n",
       "[5568 rows x 5 columns]"
      ]
     },
     "execution_count": 34,
     "metadata": {},
     "output_type": "execute_result"
    }
   ],
   "source": [
    "HPI_Overall = pd.concat([HPI_GTA, HPI_GVA],ignore_index = True)\n",
    "HPI_Overall"
   ]
  },
  {
   "cell_type": "markdown",
   "id": "4802ebd1",
   "metadata": {},
   "source": [
    "# 3. Merge Dataset"
   ]
  },
  {
   "cell_type": "markdown",
   "id": "2515a26a",
   "metadata": {},
   "source": [
    "## A. Test"
   ]
  },
  {
   "cell_type": "code",
   "execution_count": 162,
   "id": "f800eb9e",
   "metadata": {
    "scrolled": true
   },
   "outputs": [
    {
     "data": {
      "text/html": [
       "<div>\n",
       "<style scoped>\n",
       "    .dataframe tbody tr th:only-of-type {\n",
       "        vertical-align: middle;\n",
       "    }\n",
       "\n",
       "    .dataframe tbody tr th {\n",
       "        vertical-align: top;\n",
       "    }\n",
       "\n",
       "    .dataframe thead th {\n",
       "        text-align: right;\n",
       "    }\n",
       "</style>\n",
       "<table border=\"1\" class=\"dataframe\">\n",
       "  <thead>\n",
       "    <tr style=\"text-align: right;\">\n",
       "      <th></th>\n",
       "      <th>Location</th>\n",
       "      <th>Index</th>\n",
       "      <th>Benchmark</th>\n",
       "      <th>Month_Year</th>\n",
       "      <th>Region</th>\n",
       "      <th>Month</th>\n",
       "      <th>Year</th>\n",
       "    </tr>\n",
       "  </thead>\n",
       "  <tbody>\n",
       "    <tr>\n",
       "      <th>0</th>\n",
       "      <td>TREB Total</td>\n",
       "      <td>190.4</td>\n",
       "      <td>$581,100</td>\n",
       "      <td>01_2016</td>\n",
       "      <td>Greater Toronto Area</td>\n",
       "      <td>01</td>\n",
       "      <td>2016</td>\n",
       "    </tr>\n",
       "    <tr>\n",
       "      <th>1</th>\n",
       "      <td>Halton Region</td>\n",
       "      <td>206.6</td>\n",
       "      <td>$675,800</td>\n",
       "      <td>01_2016</td>\n",
       "      <td>Greater Toronto Area</td>\n",
       "      <td>01</td>\n",
       "      <td>2016</td>\n",
       "    </tr>\n",
       "    <tr>\n",
       "      <th>2</th>\n",
       "      <td>Burlington</td>\n",
       "      <td>202.9</td>\n",
       "      <td>$601,200</td>\n",
       "      <td>01_2016</td>\n",
       "      <td>Greater Toronto Area</td>\n",
       "      <td>01</td>\n",
       "      <td>2016</td>\n",
       "    </tr>\n",
       "    <tr>\n",
       "      <th>3</th>\n",
       "      <td>Halton Hills</td>\n",
       "      <td>184.5</td>\n",
       "      <td>$537,300</td>\n",
       "      <td>01_2016</td>\n",
       "      <td>Greater Toronto Area</td>\n",
       "      <td>01</td>\n",
       "      <td>2016</td>\n",
       "    </tr>\n",
       "    <tr>\n",
       "      <th>4</th>\n",
       "      <td>Milton</td>\n",
       "      <td>210.4</td>\n",
       "      <td>$580,500</td>\n",
       "      <td>01_2016</td>\n",
       "      <td>Greater Toronto Area</td>\n",
       "      <td>01</td>\n",
       "      <td>2016</td>\n",
       "    </tr>\n",
       "    <tr>\n",
       "      <th>...</th>\n",
       "      <td>...</td>\n",
       "      <td>...</td>\n",
       "      <td>...</td>\n",
       "      <td>...</td>\n",
       "      <td>...</td>\n",
       "      <td>...</td>\n",
       "      <td>...</td>\n",
       "    </tr>\n",
       "    <tr>\n",
       "      <th>3643</th>\n",
       "      <td>Adjala-Tosorontio</td>\n",
       "      <td>381.2</td>\n",
       "      <td>$1,062,300</td>\n",
       "      <td>12_2023</td>\n",
       "      <td>Greater Toronto Area</td>\n",
       "      <td>12</td>\n",
       "      <td>2023</td>\n",
       "    </tr>\n",
       "    <tr>\n",
       "      <th>3644</th>\n",
       "      <td>Bradford West</td>\n",
       "      <td>402.4</td>\n",
       "      <td>$1,094,900</td>\n",
       "      <td>12_2023</td>\n",
       "      <td>Greater Toronto Area</td>\n",
       "      <td>12</td>\n",
       "      <td>2023</td>\n",
       "    </tr>\n",
       "    <tr>\n",
       "      <th>3645</th>\n",
       "      <td>EGswsiallimbury</td>\n",
       "      <td>378.3</td>\n",
       "      <td>$769,500</td>\n",
       "      <td>12_2023</td>\n",
       "      <td>Greater Toronto Area</td>\n",
       "      <td>12</td>\n",
       "      <td>2023</td>\n",
       "    </tr>\n",
       "    <tr>\n",
       "      <th>3646</th>\n",
       "      <td>Innisfil</td>\n",
       "      <td>378.9</td>\n",
       "      <td>$772,100</td>\n",
       "      <td>12_2023</td>\n",
       "      <td>Greater Toronto Area</td>\n",
       "      <td>12</td>\n",
       "      <td>2023</td>\n",
       "    </tr>\n",
       "    <tr>\n",
       "      <th>3647</th>\n",
       "      <td>New Tecumseth</td>\n",
       "      <td>357.7</td>\n",
       "      <td>$831,700</td>\n",
       "      <td>12_2023</td>\n",
       "      <td>Greater Toronto Area</td>\n",
       "      <td>12</td>\n",
       "      <td>2023</td>\n",
       "    </tr>\n",
       "  </tbody>\n",
       "</table>\n",
       "<p>3648 rows × 7 columns</p>\n",
       "</div>"
      ],
      "text/plain": [
       "               Location  Index   Benchmark Month_Year                Region  \\\n",
       "0            TREB Total  190.4   $581,100     01_2016  Greater Toronto Area   \n",
       "1         Halton Region  206.6   $675,800     01_2016  Greater Toronto Area   \n",
       "2            Burlington  202.9   $601,200     01_2016  Greater Toronto Area   \n",
       "3          Halton Hills  184.5   $537,300     01_2016  Greater Toronto Area   \n",
       "4                Milton  210.4   $580,500     01_2016  Greater Toronto Area   \n",
       "...                 ...    ...         ...        ...                   ...   \n",
       "3643  Adjala-Tosorontio  381.2  $1,062,300    12_2023  Greater Toronto Area   \n",
       "3644      Bradford West  402.4  $1,094,900    12_2023  Greater Toronto Area   \n",
       "3645    EGswsiallimbury  378.3    $769,500    12_2023  Greater Toronto Area   \n",
       "3646           Innisfil  378.9    $772,100    12_2023  Greater Toronto Area   \n",
       "3647      New Tecumseth  357.7    $831,700    12_2023  Greater Toronto Area   \n",
       "\n",
       "     Month  Year  \n",
       "0       01  2016  \n",
       "1       01  2016  \n",
       "2       01  2016  \n",
       "3       01  2016  \n",
       "4       01  2016  \n",
       "...    ...   ...  \n",
       "3643    12  2023  \n",
       "3644    12  2023  \n",
       "3645    12  2023  \n",
       "3646    12  2023  \n",
       "3647    12  2023  \n",
       "\n",
       "[3648 rows x 7 columns]"
      ]
     },
     "execution_count": 162,
     "metadata": {},
     "output_type": "execute_result"
    }
   ],
   "source": [
    "HPI_GTA.head()\n",
    "HPI_GTA[[\"Month\",\"Year\"]] = HPI_GTA['Month_Year'].str.split('_', expand=True, n=1)\n",
    "HPI_GTA_raw = HPI_GTA"
   ]
  },
  {
   "cell_type": "code",
   "execution_count": 173,
   "id": "ef1ff5c2",
   "metadata": {},
   "outputs": [
    {
     "name": "stderr",
     "output_type": "stream",
     "text": [
      "/var/folders/hn/gfxxh51d76nbszjdcrp5pzy80000gn/T/ipykernel_53164/3222062664.py:1: SettingWithCopyWarning: \n",
      "A value is trying to be set on a copy of a slice from a DataFrame.\n",
      "Try using .loc[row_indexer,col_indexer] = value instead\n",
      "\n",
      "See the caveats in the documentation: https://pandas.pydata.org/pandas-docs/stable/user_guide/indexing.html#returning-a-view-versus-a-copy\n",
      "  HPI_GTA['Location'] = HPI_GTA['Location'].str.replace(r'Region|City of |Township of ', '', regex=True)\n",
      "/var/folders/hn/gfxxh51d76nbszjdcrp5pzy80000gn/T/ipykernel_53164/3222062664.py:8: SettingWithCopyWarning: \n",
      "A value is trying to be set on a copy of a slice from a DataFrame.\n",
      "Try using .loc[row_indexer,col_indexer] = value instead\n",
      "\n",
      "See the caveats in the documentation: https://pandas.pydata.org/pandas-docs/stable/user_guide/indexing.html#returning-a-view-versus-a-copy\n",
      "  HPI_GTA['Location'] = HPI_GTA['Location'].str.strip()\n"
     ]
    }
   ],
   "source": [
    "HPI_GTA['Location'] = HPI_GTA['Location'].str.replace(r'Region|City of |Township of ', '', regex=True)\n",
    "\n",
    "#HPI_GTA.loc[HPI_GTA['Location'] == \"Halton\"] = \"Halton Hills\"\n",
    "HPI_GTA.loc[HPI_GTA['Location'] == \"Bradford West\", \"Location\"] = \"Bradford West Gwillimbury\"\n",
    "HPI_GTA.loc[HPI_GTA['Location'] == \"GEswsiallimbury\", 'Location'] = \"East Gwillimbury\"\n",
    "HPI_GTA.loc[HPI_GTA['Location'] == \"EGswsiallimbury\", 'Location'] = \"East Gwillimbury\"\n",
    "\n",
    "HPI_GTA['Location'] = HPI_GTA['Location'].str.strip()\n",
    "\n",
    "HPI_GTA = HPI_GTA[HPI_GTA[\"Year\"] !=\"2023\"]"
   ]
  },
  {
   "cell_type": "code",
   "execution_count": 77,
   "id": "1a604bad",
   "metadata": {
    "scrolled": true
   },
   "outputs": [
    {
     "data": {
      "text/html": [
       "<div>\n",
       "<style scoped>\n",
       "    .dataframe tbody tr th:only-of-type {\n",
       "        vertical-align: middle;\n",
       "    }\n",
       "\n",
       "    .dataframe tbody tr th {\n",
       "        vertical-align: top;\n",
       "    }\n",
       "\n",
       "    .dataframe thead th {\n",
       "        text-align: right;\n",
       "    }\n",
       "</style>\n",
       "<table border=\"1\" class=\"dataframe\">\n",
       "  <thead>\n",
       "    <tr style=\"text-align: right;\">\n",
       "      <th></th>\n",
       "      <th>REF_DATE</th>\n",
       "      <th>GEO</th>\n",
       "      <th>VALUE</th>\n",
       "      <th>Province</th>\n",
       "    </tr>\n",
       "  </thead>\n",
       "  <tbody>\n",
       "    <tr>\n",
       "      <th>80186</th>\n",
       "      <td>2016-01-01</td>\n",
       "      <td>Toronto</td>\n",
       "      <td>2819399.0</td>\n",
       "      <td>Ontario</td>\n",
       "    </tr>\n",
       "    <tr>\n",
       "      <th>80187</th>\n",
       "      <td>2016-01-01</td>\n",
       "      <td>Ottawa</td>\n",
       "      <td>964341.0</td>\n",
       "      <td>Ontario</td>\n",
       "    </tr>\n",
       "    <tr>\n",
       "      <th>80188</th>\n",
       "      <td>2016-01-01</td>\n",
       "      <td>Mississauga</td>\n",
       "      <td>746352.0</td>\n",
       "      <td>Ontario</td>\n",
       "    </tr>\n",
       "    <tr>\n",
       "      <th>80189</th>\n",
       "      <td>2016-01-01</td>\n",
       "      <td>Brampton</td>\n",
       "      <td>617571.0</td>\n",
       "      <td>Ontario</td>\n",
       "    </tr>\n",
       "    <tr>\n",
       "      <th>80190</th>\n",
       "      <td>2016-01-01</td>\n",
       "      <td>Hamilton</td>\n",
       "      <td>552272.0</td>\n",
       "      <td>Ontario</td>\n",
       "    </tr>\n",
       "  </tbody>\n",
       "</table>\n",
       "</div>"
      ],
      "text/plain": [
       "        REF_DATE          GEO      VALUE Province\n",
       "80186 2016-01-01      Toronto  2819399.0  Ontario\n",
       "80187 2016-01-01       Ottawa   964341.0  Ontario\n",
       "80188 2016-01-01  Mississauga   746352.0  Ontario\n",
       "80189 2016-01-01     Brampton   617571.0  Ontario\n",
       "80190 2016-01-01     Hamilton   552272.0  Ontario"
      ]
     },
     "execution_count": 77,
     "metadata": {},
     "output_type": "execute_result"
    }
   ],
   "source": [
    "CMA_ON.head()"
   ]
  },
  {
   "cell_type": "code",
   "execution_count": 174,
   "id": "1ac5894f",
   "metadata": {},
   "outputs": [
    {
     "name": "stderr",
     "output_type": "stream",
     "text": [
      "/var/folders/hn/gfxxh51d76nbszjdcrp5pzy80000gn/T/ipykernel_53164/2749079350.py:1: SettingWithCopyWarning: \n",
      "A value is trying to be set on a copy of a slice from a DataFrame.\n",
      "Try using .loc[row_indexer,col_indexer] = value instead\n",
      "\n",
      "See the caveats in the documentation: https://pandas.pydata.org/pandas-docs/stable/user_guide/indexing.html#returning-a-view-versus-a-copy\n",
      "  CMA_ON[\"Year\"] = CMA_ON[\"Year\"].astype(str)\n"
     ]
    }
   ],
   "source": [
    "CMA_ON[\"Year\"] = CMA_ON[\"Year\"].astype(str)\n",
    "merged_df_ON = HPI_GTA.merge(CMA_ON, how=\"left\", left_on=[\"Location\", \"Year\"], right_on=[\"GEO\", \"Year\"])"
   ]
  },
  {
   "cell_type": "code",
   "execution_count": 177,
   "id": "96038e70",
   "metadata": {},
   "outputs": [
    {
     "data": {
      "text/html": [
       "<div>\n",
       "<style scoped>\n",
       "    .dataframe tbody tr th:only-of-type {\n",
       "        vertical-align: middle;\n",
       "    }\n",
       "\n",
       "    .dataframe tbody tr th {\n",
       "        vertical-align: top;\n",
       "    }\n",
       "\n",
       "    .dataframe thead th {\n",
       "        text-align: right;\n",
       "    }\n",
       "</style>\n",
       "<table border=\"1\" class=\"dataframe\">\n",
       "  <thead>\n",
       "    <tr style=\"text-align: right;\">\n",
       "      <th></th>\n",
       "      <th>Location</th>\n",
       "      <th>Index</th>\n",
       "      <th>Benchmark</th>\n",
       "      <th>Month_Year</th>\n",
       "      <th>Region</th>\n",
       "      <th>Month</th>\n",
       "      <th>Year</th>\n",
       "      <th>GEO</th>\n",
       "      <th>VALUE</th>\n",
       "      <th>Province</th>\n",
       "    </tr>\n",
       "  </thead>\n",
       "  <tbody>\n",
       "    <tr>\n",
       "      <th>0</th>\n",
       "      <td>TREB Total</td>\n",
       "      <td>190.4</td>\n",
       "      <td>$581,100</td>\n",
       "      <td>01_2016</td>\n",
       "      <td>Greater Toronto Area</td>\n",
       "      <td>01</td>\n",
       "      <td>2016</td>\n",
       "      <td>NaN</td>\n",
       "      <td>NaN</td>\n",
       "      <td>NaN</td>\n",
       "    </tr>\n",
       "    <tr>\n",
       "      <th>38</th>\n",
       "      <td>TREB Total</td>\n",
       "      <td>193</td>\n",
       "      <td>$589,000</td>\n",
       "      <td>02_2016</td>\n",
       "      <td>Greater Toronto Area</td>\n",
       "      <td>02</td>\n",
       "      <td>2016</td>\n",
       "      <td>NaN</td>\n",
       "      <td>NaN</td>\n",
       "      <td>NaN</td>\n",
       "    </tr>\n",
       "    <tr>\n",
       "      <th>76</th>\n",
       "      <td>TREB Total</td>\n",
       "      <td>196.4</td>\n",
       "      <td>$599,400</td>\n",
       "      <td>03_2016</td>\n",
       "      <td>Greater Toronto Area</td>\n",
       "      <td>03</td>\n",
       "      <td>2016</td>\n",
       "      <td>NaN</td>\n",
       "      <td>NaN</td>\n",
       "      <td>NaN</td>\n",
       "    </tr>\n",
       "    <tr>\n",
       "      <th>114</th>\n",
       "      <td>TREB Total</td>\n",
       "      <td>201.4</td>\n",
       "      <td>$614,700</td>\n",
       "      <td>04_2016</td>\n",
       "      <td>Greater Toronto Area</td>\n",
       "      <td>04</td>\n",
       "      <td>2016</td>\n",
       "      <td>NaN</td>\n",
       "      <td>NaN</td>\n",
       "      <td>NaN</td>\n",
       "    </tr>\n",
       "    <tr>\n",
       "      <th>152</th>\n",
       "      <td>TREB Total</td>\n",
       "      <td>208.3</td>\n",
       "      <td>$635,700</td>\n",
       "      <td>05_2016</td>\n",
       "      <td>Greater Toronto Area</td>\n",
       "      <td>05</td>\n",
       "      <td>2016</td>\n",
       "      <td>NaN</td>\n",
       "      <td>NaN</td>\n",
       "      <td>NaN</td>\n",
       "    </tr>\n",
       "    <tr>\n",
       "      <th>...</th>\n",
       "      <td>...</td>\n",
       "      <td>...</td>\n",
       "      <td>...</td>\n",
       "      <td>...</td>\n",
       "      <td>...</td>\n",
       "      <td>...</td>\n",
       "      <td>...</td>\n",
       "      <td>...</td>\n",
       "      <td>...</td>\n",
       "      <td>...</td>\n",
       "    </tr>\n",
       "    <tr>\n",
       "      <th>3002</th>\n",
       "      <td>TREB Total</td>\n",
       "      <td>355.4</td>\n",
       "      <td>$1,124,600</td>\n",
       "      <td>08_2022</td>\n",
       "      <td>Greater Toronto Area</td>\n",
       "      <td>08</td>\n",
       "      <td>2022</td>\n",
       "      <td>NaN</td>\n",
       "      <td>NaN</td>\n",
       "      <td>NaN</td>\n",
       "    </tr>\n",
       "    <tr>\n",
       "      <th>3040</th>\n",
       "      <td>TREB Total</td>\n",
       "      <td>351</td>\n",
       "      <td>$1,110,700</td>\n",
       "      <td>09_2022</td>\n",
       "      <td>Greater Toronto Area</td>\n",
       "      <td>09</td>\n",
       "      <td>2022</td>\n",
       "      <td>NaN</td>\n",
       "      <td>NaN</td>\n",
       "      <td>NaN</td>\n",
       "    </tr>\n",
       "    <tr>\n",
       "      <th>3078</th>\n",
       "      <td>TREB Total</td>\n",
       "      <td>347.1</td>\n",
       "      <td>$1,098,200</td>\n",
       "      <td>10_2022</td>\n",
       "      <td>Greater Toronto Area</td>\n",
       "      <td>10</td>\n",
       "      <td>2022</td>\n",
       "      <td>NaN</td>\n",
       "      <td>NaN</td>\n",
       "      <td>NaN</td>\n",
       "    </tr>\n",
       "    <tr>\n",
       "      <th>3116</th>\n",
       "      <td>TREB Total</td>\n",
       "      <td>344.4</td>\n",
       "      <td>$1,089,800</td>\n",
       "      <td>11_2022</td>\n",
       "      <td>Greater Toronto Area</td>\n",
       "      <td>11</td>\n",
       "      <td>2022</td>\n",
       "      <td>NaN</td>\n",
       "      <td>NaN</td>\n",
       "      <td>NaN</td>\n",
       "    </tr>\n",
       "    <tr>\n",
       "      <th>3154</th>\n",
       "      <td>TREB Total</td>\n",
       "      <td>341.8</td>\n",
       "      <td>$1,081,400</td>\n",
       "      <td>12_2022</td>\n",
       "      <td>Greater Toronto Area</td>\n",
       "      <td>12</td>\n",
       "      <td>2022</td>\n",
       "      <td>NaN</td>\n",
       "      <td>NaN</td>\n",
       "      <td>NaN</td>\n",
       "    </tr>\n",
       "  </tbody>\n",
       "</table>\n",
       "<p>84 rows × 10 columns</p>\n",
       "</div>"
      ],
      "text/plain": [
       "        Location  Index   Benchmark Month_Year                Region Month  \\\n",
       "0     TREB Total  190.4   $581,100     01_2016  Greater Toronto Area    01   \n",
       "38    TREB Total    193   $589,000     02_2016  Greater Toronto Area    02   \n",
       "76    TREB Total  196.4   $599,400     03_2016  Greater Toronto Area    03   \n",
       "114   TREB Total  201.4   $614,700     04_2016  Greater Toronto Area    04   \n",
       "152   TREB Total  208.3   $635,700     05_2016  Greater Toronto Area    05   \n",
       "...          ...    ...         ...        ...                   ...   ...   \n",
       "3002  TREB Total  355.4  $1,124,600    08_2022  Greater Toronto Area    08   \n",
       "3040  TREB Total    351  $1,110,700    09_2022  Greater Toronto Area    09   \n",
       "3078  TREB Total  347.1  $1,098,200    10_2022  Greater Toronto Area    10   \n",
       "3116  TREB Total  344.4  $1,089,800    11_2022  Greater Toronto Area    11   \n",
       "3154  TREB Total  341.8  $1,081,400    12_2022  Greater Toronto Area    12   \n",
       "\n",
       "      Year  GEO  VALUE Province  \n",
       "0     2016  NaN    NaN      NaN  \n",
       "38    2016  NaN    NaN      NaN  \n",
       "76    2016  NaN    NaN      NaN  \n",
       "114   2016  NaN    NaN      NaN  \n",
       "152   2016  NaN    NaN      NaN  \n",
       "...    ...  ...    ...      ...  \n",
       "3002  2022  NaN    NaN      NaN  \n",
       "3040  2022  NaN    NaN      NaN  \n",
       "3078  2022  NaN    NaN      NaN  \n",
       "3116  2022  NaN    NaN      NaN  \n",
       "3154  2022  NaN    NaN      NaN  \n",
       "\n",
       "[84 rows x 10 columns]"
      ]
     },
     "execution_count": 177,
     "metadata": {},
     "output_type": "execute_result"
    }
   ],
   "source": [
    "Unmerged_dataset = merged_df_ON[merged_df_ON[\"GEO\"].isna()]\n",
    "\n",
    "\n",
    "# Find rows where \"Location\" matches the specified values\n",
    "rows_to_drop = Unmerged_dataset[Unmerged_dataset[\"Location\"].isin([\"Halton\", \"Peel\", \"York\", \"Durham\", \"Dufferin County\", \"Simcoe County\"])].index\n",
    "\n",
    "# Drop these rows\n",
    "Unmerged_dataset = Unmerged_dataset.drop(rows_to_drop)\n",
    "Unmerged_dataset"
   ]
  },
  {
   "cell_type": "code",
   "execution_count": 178,
   "id": "f845287f",
   "metadata": {},
   "outputs": [
    {
     "data": {
      "text/plain": [
       "84"
      ]
     },
     "execution_count": 178,
     "metadata": {},
     "output_type": "execute_result"
    }
   ],
   "source": [
    "12*(2022-2016+1)"
   ]
  }
 ],
 "metadata": {
  "kernelspec": {
   "display_name": "Python 3 (ipykernel)",
   "language": "python",
   "name": "python3"
  },
  "language_info": {
   "codemirror_mode": {
    "name": "ipython",
    "version": 3
   },
   "file_extension": ".py",
   "mimetype": "text/x-python",
   "name": "python",
   "nbconvert_exporter": "python",
   "pygments_lexer": "ipython3",
   "version": "3.9.13"
  }
 },
 "nbformat": 4,
 "nbformat_minor": 5
}
