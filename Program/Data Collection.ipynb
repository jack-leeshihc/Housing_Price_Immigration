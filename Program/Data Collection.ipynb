{
 "cells": [
  {
   "cell_type": "markdown",
   "id": "3c1e3b11",
   "metadata": {},
   "source": [
    "# ECO475 Group 2 Notebook Code"
   ]
  },
  {
   "cell_type": "markdown",
   "id": "f9423e14",
   "metadata": {},
   "source": [
    "### Author: Shih-Chieh Lee, Lingyun Ma, Yuwen Zhao"
   ]
  },
  {
   "cell_type": "markdown",
   "id": "0d1e39c6",
   "metadata": {},
   "source": [
    "# 1. Basic Setting"
   ]
  },
  {
   "cell_type": "markdown",
   "id": "9d997882",
   "metadata": {},
   "source": [
    "## a. Package Install"
   ]
  },
  {
   "cell_type": "code",
   "execution_count": null,
   "id": "2d533b01",
   "metadata": {},
   "outputs": [],
   "source": [
    "#!pip install stats-can\n",
    "#!pip install pandas\n",
    "#!pip install numpy\n",
    "#!pip install matplotlib\n",
    "#!pip install statsmodels\n",
    "#!pip install linearmodels\n",
    "#!pip install tabula-py #Note: Pls install tabula-py, not tabula——血的教训\n",
    "#!pip install warnings"
   ]
  },
  {
   "cell_type": "markdown",
   "id": "159c7ae7",
   "metadata": {},
   "source": [
    "## b. Package Import "
   ]
  },
  {
   "cell_type": "code",
   "execution_count": 2,
   "id": "f2793827",
   "metadata": {},
   "outputs": [],
   "source": [
    "# Data Collection Packages\n",
    "from stats_can import StatsCan #read StatsCan data \n",
    "\n",
    "\n",
    "sc = StatsCan(data_folder=\"/Users/changanlee/Documents/GitHub/Housing_Price_Immigration/Input\") \n",
    "#Create an instance of StatsCan class"
   ]
  },
  {
   "cell_type": "code",
   "execution_count": 3,
   "id": "de264bac",
   "metadata": {},
   "outputs": [],
   "source": [
    "# Import tabula and check java environment\n",
    "from tabula.io import read_pdf  #Scrape table from pdf files\n",
    "import requests \n",
    "from datetime import datetime\n",
    "import calendar\n",
    "import re"
   ]
  },
  {
   "cell_type": "code",
   "execution_count": 4,
   "id": "74954897",
   "metadata": {},
   "outputs": [],
   "source": [
    "# Data Processing Packages\n",
    "import pandas as pd #pandas\n",
    "import numpy as np \n",
    "import matplotlib.pyplot as plt #data visualization\n",
    "%matplotlib inline\n",
    "# activate plot theme\n",
    "import qeds"
   ]
  },
  {
   "cell_type": "code",
   "execution_count": 5,
   "id": "d9066ae7",
   "metadata": {},
   "outputs": [],
   "source": [
    "# Stats Model Packages\n",
    "import statsmodels.api as sm # statistical model\n",
    "from statsmodels.iolib.summary2 import summary_col # summary table for regression result\n",
    "from linearmodels.iv import IV2SLS # IV "
   ]
  },
  {
   "cell_type": "code",
   "execution_count": 6,
   "id": "63af4ca7",
   "metadata": {},
   "outputs": [],
   "source": [
    "# Silence all the warnings cuz they're absolutely annoying if you loop it multiple times\n",
    "import warnings\n",
    "#warnings.filterwarnings('ignore')"
   ]
  },
  {
   "cell_type": "markdown",
   "id": "8c36ab2f",
   "metadata": {},
   "source": [
    "# 2. Data Collection"
   ]
  },
  {
   "cell_type": "markdown",
   "id": "e6f60218",
   "metadata": {},
   "source": [
    "## A. StatsCan Data "
   ]
  },
  {
   "cell_type": "markdown",
   "id": "7f689ff6",
   "metadata": {},
   "source": [
    "Let's start with datasets from Statistics Canada, as it's earier to collect directly using StatsCan library"
   ]
  },
  {
   "cell_type": "code",
   "execution_count": null,
   "id": "74164688",
   "metadata": {},
   "outputs": [],
   "source": [
    "CMA_pop = sc.table_to_df(\"17-10-0135-01\")\n",
    "CMA_pop.head()"
   ]
  },
  {
   "cell_type": "markdown",
   "id": "d6b5db2e",
   "metadata": {},
   "source": [
    "## B. CREA Monthly House Price Index Data"
   ]
  },
  {
   "cell_type": "markdown",
   "id": "d2bb565e",
   "metadata": {},
   "source": [
    "### 1) Define Functions"
   ]
  },
  {
   "cell_type": "code",
   "execution_count": 36,
   "id": "6051a15e",
   "metadata": {},
   "outputs": [],
   "source": [
    "# Define func to generate URLs based on months and years\n",
    "def generate_url(month, year, cma):\n",
    "    if cma == \"Toronto\":\n",
    "        if month < 10:\n",
    "            return f\"https://trreb.ca/files/market-stats/home-price-index/TREB_MLS_HPI_Public_Tables_0{month}{year}.pdf\"\n",
    "        else:\n",
    "            return f\"https://trreb.ca/files/market-stats/home-price-index/TREB_MLS_HPI_Public_Tables_{month}{year}.pdf\"\n",
    "            #return the corresponding GTA HPI monthly report pdf for scrapping\n",
    "    elif cma == \"Vancouver\":\n",
    "        url = generate_url_van(month, year)\n",
    "        return url"
   ]
  },
  {
   "cell_type": "markdown",
   "id": "f8396cff",
   "metadata": {},
   "source": [
    "### 1) GTA Data"
   ]
  },
  {
   "cell_type": "markdown",
   "id": "2636edef",
   "metadata": {},
   "source": [
    "#### a) Define Functions"
   ]
  },
  {
   "cell_type": "code",
   "execution_count": 8,
   "id": "fb0be6e2",
   "metadata": {},
   "outputs": [],
   "source": [
    "# Define func to extract table from pdf monthly report & data cleaning\n",
    "def extract_table(url, month, year):\n",
    "\n",
    "    # Extract table from pdf\n",
    "    tables = read_pdf(url, pages=\"2\", lattice = \"True\", multiple_tables = \"False\", \n",
    "                      area = [10,0,97,100],relative_area = \"True\", silent = \"True\") \n",
    "        # Note: lattice should be set as True for our case \n",
    "            #to read everything on page 2 as one table\n",
    "            \n",
    "    table = tables[0]\n",
    "    \n",
    "    # Clean the data table\n",
    "    new_header = table.iloc[0] # Set new header with the first row of the table\n",
    "    table = table[1:]  # Take the data below the header row\n",
    "    table.columns = new_header  # Set the new header\n",
    "    \n",
    "    # We only want data about composite / residential property, which is the first four columns\n",
    "    table = table.iloc[:, :4]\n",
    "    \n",
    "    # Rename the first column to \"Location\" \n",
    "    table = table.rename(columns={table.columns[0]: \"Location\"})\n",
    "\n",
    "    # New Column for Month-Year\n",
    "    if month < 10:\n",
    "        table[\"Month_Year\"] = f'0{month}_20{year}'\n",
    "    else:\n",
    "        table[\"Month_Year\"] = f'{month}_20{year}'\n",
    "        \n",
    "    table.reset_index(drop=True, inplace=True)\n",
    "    \n",
    "    return table"
   ]
  },
  {
   "cell_type": "markdown",
   "id": "55a798a2",
   "metadata": {},
   "source": [
    "#### b) Loop to Scrape Data"
   ]
  },
  {
   "cell_type": "code",
   "execution_count": null,
   "id": "6acc97d7",
   "metadata": {},
   "outputs": [],
   "source": [
    "data_list = []\n",
    "cma = \"Toronto\"\n",
    "\n",
    "for year in range(16, 23):\n",
    "    if year != 22:\n",
    "        for month in range(1, 13):\n",
    "            url = generate_url(month, year, cma)\n",
    "            extracted_data = extract_table(url, month, year)\n",
    "        \n",
    "            if extracted_data is not None:\n",
    "                extracted_data.reset_index(drop = True, inplace = True)\n",
    "                data_list.append(extracted_data)\n",
    "\n",
    "    else:\n",
    "        for month in range(1, 6):\n",
    "            url = generate_url(month, year)\n",
    "            extracted_data = extract_table(url, month, year)\n",
    "        \n",
    "            if extracted_data is not None:\n",
    "                extracted_data.reset_index(drop = True, inplace = True)\n",
    "                data_list.append(extracted_data)\n",
    "            \n",
    "HPI_GTA = pd.concat(data_list, ignore_index = True)"
   ]
  },
  {
   "cell_type": "code",
   "execution_count": null,
   "id": "eaafa1d3",
   "metadata": {},
   "outputs": [],
   "source": [
    "HPI_GTA.to_csv(\"/Users/changanlee/Desktop/University/Undergrad/4th-Year/Winter Semester/ECO475/Term Paper/Raw Data/HPI_GTA.csv\",\n",
    "               index = False)"
   ]
  },
  {
   "cell_type": "markdown",
   "id": "ce949554",
   "metadata": {},
   "source": [
    "For some pdf formatting reasons that I cannot solve right now, the last monthly report that can be extracted using read_pdf is May 2022. May need to mannually extract the rest of the data. See example below:"
   ]
  },
  {
   "cell_type": "code",
   "execution_count": null,
   "id": "38ff42a3",
   "metadata": {},
   "outputs": [],
   "source": [
    "#Take June 2022 for example\n",
    "\n",
    "url = generate_url(6,22) \n",
    "tables = read_pdf(url, pages = \"2\", lattice = \"True\", multiple_tables = \"False\", area = [10,0,97,100],relative_area = \"True\")\n",
    "tables[0].head()"
   ]
  },
  {
   "cell_type": "markdown",
   "id": "a0261f27",
   "metadata": {},
   "source": [
    "The column heading format is correct, but the value it reads is completely nonsense."
   ]
  },
  {
   "cell_type": "markdown",
   "id": "b2f1c391",
   "metadata": {},
   "source": [
    "Whatever... Let's move on to GTA data first"
   ]
  },
  {
   "cell_type": "markdown",
   "id": "aac91bd5",
   "metadata": {},
   "source": [
    "### 2) GVA Data"
   ]
  },
  {
   "cell_type": "markdown",
   "id": "433d942b",
   "metadata": {},
   "source": [
    "First of all, Jan. 2016 ~ July 2016 monthly report is missing..."
   ]
  },
  {
   "cell_type": "markdown",
   "id": "8c3991ac",
   "metadata": {},
   "source": [
    "Second, GVA report url has multiple formats over time:"
   ]
  },
  {
   "cell_type": "markdown",
   "id": "7b8050d6",
   "metadata": {},
   "source": [
    "https://www.gvrealtors.ca/content/dam/rebgv_org_content/pdfs/monthly-stats-packages/REBGV-Stats-Pkg-August-2016.pdf"
   ]
  },
  {
   "cell_type": "markdown",
   "id": "9a939c79",
   "metadata": {},
   "source": [
    "https://www.gvrealtors.ca/content/dam/rebgv_org_content/monthly-market-reports/2018-Dec-stats-pkg.pdf"
   ]
  },
  {
   "cell_type": "markdown",
   "id": "4ada2bca",
   "metadata": {},
   "source": [
    "https://www.gvrealtors.ca/content/dam/rebgv_org_content/pdfs/marketwatch/monthly_reports/REBGV-Stats-Pkg-November-2019-F.pdf"
   ]
  },
  {
   "cell_type": "markdown",
   "id": "bb207110",
   "metadata": {},
   "source": [
    "OK, let's try accessing the report using all 3 formats for all month-year combination and see how it goes"
   ]
  },
  {
   "cell_type": "code",
   "execution_count": 39,
   "id": "62ea6bcb",
   "metadata": {
    "scrolled": true
   },
   "outputs": [],
   "source": [
    "def generate_url_van(month, year):\n",
    "\n",
    "    # Define the base URLs for each format\n",
    "    base_urls = [\n",
    "        \"https://www.gvrealtors.ca/content/dam/rebgv_org_content/monthly-market-reports/{Year}-{Month}-stats-pkg.pdf\",\n",
    "        \"https://www.gvrealtors.ca/content/dam/rebgv_org_content/pdfs/marketwatch/monthly_reports/REBGV-Stats-Pkg-{Month}-{Year}-F.pdf\",\n",
    "        \"https://www.gvrealtors.ca/content/dam/rebgv_org_content/pdfs/monthly-stats-packages/REBGV-Stats-Pkg-{Month}-{Year}.pdf\",\n",
    "        \"https://www.gvrealtors.ca/content/dam/rebgv_org_content/pdfs/monthly-stats-packages/REBGV-Stats-Package-{Month}-{Year}.pdf\",\n",
    "        \"https://www.gvrealtors.ca/content/dam/rebgv_org_content/pdfs/monthly-stats-packages/REBGV-Stats-Pkg-{Month}-{Year}-Updated%20HPI.pdf\",\n",
    "        \"https://members.rebgv.org/news/REBGV-Stats-Pkg-{Month}-{Year}.pdf\",\n",
    "        \"https://www.gvrealtors.ca/content/dam/rebgv_org_content/pdfs/REBGV-Stats-Pkg-{Month}-{Year}.pdf\",\n",
    "        \"https://www.gvrealtors.ca/content/dam/rebgv_org_content/pdfs/monthly-stats-packages/{YearMonth}-REBGV-Stats-Pkg-{Month}-{Year}.pdf\",\n",
    "        \"https://www.gvrealtors.ca/content/dam/rebgv_org_content/pdfs/monthly-stats-packages/REBGV%20Stats%20Package%20{Month}%20{Year}.pdf\",\n",
    "        \"https://www.gvrealtors.ca/content/dam/rebgv_org_content/pdfs/monthly-stats-packages/{Year}-01-{Month}-Stats-Package.pdf\",\n",
    "        \"https://www.gvrealtors.ca/content/dam/rebgv_org_content/pdfs/monthly-stats-packages/{Year}-01-{Month}-Stats--Package.pdf\"\n",
    "    ]\n",
    "\n",
    "\n",
    "    # Get the month name and abbreviation\n",
    "    year = 2000 + year\n",
    "    month_name = calendar.month_name[month]\n",
    "    month_abbr = calendar.month_abbr[month]\n",
    "    year_month = f\"{year}{month:02d}\"\n",
    "\n",
    "    # Iterate through each URL pattern\n",
    "    for base_url in base_urls:\n",
    "        # Replace placeholders in the URL pattern\n",
    "        url_1 = base_url.format(Year=str(year), Month=month_name, YearMonth=year_month)\n",
    "        url_2 = base_url.format(Year=str(year), Month=month_abbr, YearMonth=year_month)\n",
    "\n",
    "        # Try fetching the first URL\n",
    "        if requests.get(url_1).status_code == 200:\n",
    "            return url_1\n",
    "\n",
    "        # Try fetching the second URL if the first one fails\n",
    "        elif requests.get(url_2).status_code == 200:\n",
    "            return url_2\n",
    "\n",
    "        # Special case for September URLs\n",
    "        if month == 9:\n",
    "            url_3 = base_url.format(Year=str(year), Month=\"Sept\", YearMonth=year_month)\n",
    "            if requests.get(url_3).status_code == 200:\n",
    "                return url_3"
   ]
  },
  {
   "cell_type": "code",
   "execution_count": 28,
   "id": "3c893afe",
   "metadata": {},
   "outputs": [],
   "source": [
    "def extract_table_van(url, month, year):    \n",
    "    tables = read_pdf(url, pages = \"3\", multiple_tables = \"False\")\n",
    "    \n",
    "    if not tables or tables[0].empty:\n",
    "        return None\n",
    "    \n",
    "    else:\n",
    "        table = tables[0]\n",
    "        new_header = table.iloc[1] # Set new header with the second row of the table\n",
    "        new_header[0] = \"Property Type\"\n",
    "        new_header[1] = \"Location\"\n",
    "        table = table[2:]  # Take the data below the header row\n",
    "        table.columns = new_header\n",
    "\n",
    "        end_here_index = (table['Property Type'] == 'Single Family Detached').idxmax()\n",
    "        table = table.iloc[:end_here_index, 1:]\n",
    "\n",
    "        if month < 10:\n",
    "            table[\"Month_Year\"] = f'0{month}_{year}'\n",
    "        else:\n",
    "            table[\"Month_Year\"] = f'{month}_{year}'\n",
    "\n",
    "    return table"
   ]
  },
  {
   "cell_type": "code",
   "execution_count": 38,
   "id": "2f3bb9b0",
   "metadata": {
    "scrolled": true
   },
   "outputs": [
    {
     "name": "stderr",
     "output_type": "stream",
     "text": [
      "Error importing jpype dependencies. Fallback to subprocess.\n",
      "No module named 'jpype'\n",
      "/var/folders/hn/gfxxh51d76nbszjdcrp5pzy80000gn/T/ipykernel_47560/3038214230.py:10: SettingWithCopyWarning: \n",
      "A value is trying to be set on a copy of a slice from a DataFrame\n",
      "\n",
      "See the caveats in the documentation: https://pandas.pydata.org/pandas-docs/stable/user_guide/indexing.html#returning-a-view-versus-a-copy\n",
      "  new_header[0] = \"Property Type\"\n",
      "/var/folders/hn/gfxxh51d76nbszjdcrp5pzy80000gn/T/ipykernel_47560/3038214230.py:11: SettingWithCopyWarning: \n",
      "A value is trying to be set on a copy of a slice from a DataFrame\n",
      "\n",
      "See the caveats in the documentation: https://pandas.pydata.org/pandas-docs/stable/user_guide/indexing.html#returning-a-view-versus-a-copy\n",
      "  new_header[1] = \"Location\"\n"
     ]
    },
    {
     "name": "stdout",
     "output_type": "stream",
     "text": [
      "Collected 3 - 16  data.\n"
     ]
    },
    {
     "name": "stderr",
     "output_type": "stream",
     "text": [
      "/var/folders/hn/gfxxh51d76nbszjdcrp5pzy80000gn/T/ipykernel_47560/3038214230.py:10: SettingWithCopyWarning: \n",
      "A value is trying to be set on a copy of a slice from a DataFrame\n",
      "\n",
      "See the caveats in the documentation: https://pandas.pydata.org/pandas-docs/stable/user_guide/indexing.html#returning-a-view-versus-a-copy\n",
      "  new_header[0] = \"Property Type\"\n",
      "/var/folders/hn/gfxxh51d76nbszjdcrp5pzy80000gn/T/ipykernel_47560/3038214230.py:11: SettingWithCopyWarning: \n",
      "A value is trying to be set on a copy of a slice from a DataFrame\n",
      "\n",
      "See the caveats in the documentation: https://pandas.pydata.org/pandas-docs/stable/user_guide/indexing.html#returning-a-view-versus-a-copy\n",
      "  new_header[1] = \"Location\"\n"
     ]
    },
    {
     "name": "stdout",
     "output_type": "stream",
     "text": [
      "Collected 4 - 16  data.\n"
     ]
    },
    {
     "name": "stderr",
     "output_type": "stream",
     "text": [
      "/var/folders/hn/gfxxh51d76nbszjdcrp5pzy80000gn/T/ipykernel_47560/3038214230.py:10: SettingWithCopyWarning: \n",
      "A value is trying to be set on a copy of a slice from a DataFrame\n",
      "\n",
      "See the caveats in the documentation: https://pandas.pydata.org/pandas-docs/stable/user_guide/indexing.html#returning-a-view-versus-a-copy\n",
      "  new_header[0] = \"Property Type\"\n",
      "/var/folders/hn/gfxxh51d76nbszjdcrp5pzy80000gn/T/ipykernel_47560/3038214230.py:11: SettingWithCopyWarning: \n",
      "A value is trying to be set on a copy of a slice from a DataFrame\n",
      "\n",
      "See the caveats in the documentation: https://pandas.pydata.org/pandas-docs/stable/user_guide/indexing.html#returning-a-view-versus-a-copy\n",
      "  new_header[1] = \"Location\"\n"
     ]
    },
    {
     "name": "stdout",
     "output_type": "stream",
     "text": [
      "Collected 5 - 16  data.\n"
     ]
    },
    {
     "name": "stderr",
     "output_type": "stream",
     "text": [
      "/var/folders/hn/gfxxh51d76nbszjdcrp5pzy80000gn/T/ipykernel_47560/3038214230.py:10: SettingWithCopyWarning: \n",
      "A value is trying to be set on a copy of a slice from a DataFrame\n",
      "\n",
      "See the caveats in the documentation: https://pandas.pydata.org/pandas-docs/stable/user_guide/indexing.html#returning-a-view-versus-a-copy\n",
      "  new_header[0] = \"Property Type\"\n",
      "/var/folders/hn/gfxxh51d76nbszjdcrp5pzy80000gn/T/ipykernel_47560/3038214230.py:11: SettingWithCopyWarning: \n",
      "A value is trying to be set on a copy of a slice from a DataFrame\n",
      "\n",
      "See the caveats in the documentation: https://pandas.pydata.org/pandas-docs/stable/user_guide/indexing.html#returning-a-view-versus-a-copy\n",
      "  new_header[1] = \"Location\"\n"
     ]
    },
    {
     "name": "stdout",
     "output_type": "stream",
     "text": [
      "Collected 6 - 16  data.\n"
     ]
    },
    {
     "name": "stderr",
     "output_type": "stream",
     "text": [
      "/var/folders/hn/gfxxh51d76nbszjdcrp5pzy80000gn/T/ipykernel_47560/3038214230.py:10: SettingWithCopyWarning: \n",
      "A value is trying to be set on a copy of a slice from a DataFrame\n",
      "\n",
      "See the caveats in the documentation: https://pandas.pydata.org/pandas-docs/stable/user_guide/indexing.html#returning-a-view-versus-a-copy\n",
      "  new_header[0] = \"Property Type\"\n",
      "/var/folders/hn/gfxxh51d76nbszjdcrp5pzy80000gn/T/ipykernel_47560/3038214230.py:11: SettingWithCopyWarning: \n",
      "A value is trying to be set on a copy of a slice from a DataFrame\n",
      "\n",
      "See the caveats in the documentation: https://pandas.pydata.org/pandas-docs/stable/user_guide/indexing.html#returning-a-view-versus-a-copy\n",
      "  new_header[1] = \"Location\"\n"
     ]
    },
    {
     "name": "stdout",
     "output_type": "stream",
     "text": [
      "Collected 8 - 16  data.\n"
     ]
    },
    {
     "name": "stderr",
     "output_type": "stream",
     "text": [
      "/var/folders/hn/gfxxh51d76nbszjdcrp5pzy80000gn/T/ipykernel_47560/3038214230.py:10: SettingWithCopyWarning: \n",
      "A value is trying to be set on a copy of a slice from a DataFrame\n",
      "\n",
      "See the caveats in the documentation: https://pandas.pydata.org/pandas-docs/stable/user_guide/indexing.html#returning-a-view-versus-a-copy\n",
      "  new_header[0] = \"Property Type\"\n",
      "/var/folders/hn/gfxxh51d76nbszjdcrp5pzy80000gn/T/ipykernel_47560/3038214230.py:11: SettingWithCopyWarning: \n",
      "A value is trying to be set on a copy of a slice from a DataFrame\n",
      "\n",
      "See the caveats in the documentation: https://pandas.pydata.org/pandas-docs/stable/user_guide/indexing.html#returning-a-view-versus-a-copy\n",
      "  new_header[1] = \"Location\"\n"
     ]
    },
    {
     "name": "stdout",
     "output_type": "stream",
     "text": [
      "Collected 9 - 16  data.\n"
     ]
    },
    {
     "name": "stderr",
     "output_type": "stream",
     "text": [
      "/var/folders/hn/gfxxh51d76nbszjdcrp5pzy80000gn/T/ipykernel_47560/3038214230.py:10: SettingWithCopyWarning: \n",
      "A value is trying to be set on a copy of a slice from a DataFrame\n",
      "\n",
      "See the caveats in the documentation: https://pandas.pydata.org/pandas-docs/stable/user_guide/indexing.html#returning-a-view-versus-a-copy\n",
      "  new_header[0] = \"Property Type\"\n",
      "/var/folders/hn/gfxxh51d76nbszjdcrp5pzy80000gn/T/ipykernel_47560/3038214230.py:11: SettingWithCopyWarning: \n",
      "A value is trying to be set on a copy of a slice from a DataFrame\n",
      "\n",
      "See the caveats in the documentation: https://pandas.pydata.org/pandas-docs/stable/user_guide/indexing.html#returning-a-view-versus-a-copy\n",
      "  new_header[1] = \"Location\"\n"
     ]
    },
    {
     "name": "stdout",
     "output_type": "stream",
     "text": [
      "Collected 10 - 16  data.\n"
     ]
    },
    {
     "name": "stderr",
     "output_type": "stream",
     "text": [
      "/var/folders/hn/gfxxh51d76nbszjdcrp5pzy80000gn/T/ipykernel_47560/3038214230.py:10: SettingWithCopyWarning: \n",
      "A value is trying to be set on a copy of a slice from a DataFrame\n",
      "\n",
      "See the caveats in the documentation: https://pandas.pydata.org/pandas-docs/stable/user_guide/indexing.html#returning-a-view-versus-a-copy\n",
      "  new_header[0] = \"Property Type\"\n",
      "/var/folders/hn/gfxxh51d76nbszjdcrp5pzy80000gn/T/ipykernel_47560/3038214230.py:11: SettingWithCopyWarning: \n",
      "A value is trying to be set on a copy of a slice from a DataFrame\n",
      "\n",
      "See the caveats in the documentation: https://pandas.pydata.org/pandas-docs/stable/user_guide/indexing.html#returning-a-view-versus-a-copy\n",
      "  new_header[1] = \"Location\"\n"
     ]
    },
    {
     "name": "stdout",
     "output_type": "stream",
     "text": [
      "Collected 11 - 16  data.\n"
     ]
    },
    {
     "name": "stderr",
     "output_type": "stream",
     "text": [
      "/var/folders/hn/gfxxh51d76nbszjdcrp5pzy80000gn/T/ipykernel_47560/3038214230.py:10: SettingWithCopyWarning: \n",
      "A value is trying to be set on a copy of a slice from a DataFrame\n",
      "\n",
      "See the caveats in the documentation: https://pandas.pydata.org/pandas-docs/stable/user_guide/indexing.html#returning-a-view-versus-a-copy\n",
      "  new_header[0] = \"Property Type\"\n",
      "/var/folders/hn/gfxxh51d76nbszjdcrp5pzy80000gn/T/ipykernel_47560/3038214230.py:11: SettingWithCopyWarning: \n",
      "A value is trying to be set on a copy of a slice from a DataFrame\n",
      "\n",
      "See the caveats in the documentation: https://pandas.pydata.org/pandas-docs/stable/user_guide/indexing.html#returning-a-view-versus-a-copy\n",
      "  new_header[1] = \"Location\"\n"
     ]
    },
    {
     "name": "stdout",
     "output_type": "stream",
     "text": [
      "Collected 12 - 16  data.\n"
     ]
    },
    {
     "name": "stderr",
     "output_type": "stream",
     "text": [
      "/var/folders/hn/gfxxh51d76nbszjdcrp5pzy80000gn/T/ipykernel_47560/3038214230.py:10: SettingWithCopyWarning: \n",
      "A value is trying to be set on a copy of a slice from a DataFrame\n",
      "\n",
      "See the caveats in the documentation: https://pandas.pydata.org/pandas-docs/stable/user_guide/indexing.html#returning-a-view-versus-a-copy\n",
      "  new_header[0] = \"Property Type\"\n",
      "/var/folders/hn/gfxxh51d76nbszjdcrp5pzy80000gn/T/ipykernel_47560/3038214230.py:11: SettingWithCopyWarning: \n",
      "A value is trying to be set on a copy of a slice from a DataFrame\n",
      "\n",
      "See the caveats in the documentation: https://pandas.pydata.org/pandas-docs/stable/user_guide/indexing.html#returning-a-view-versus-a-copy\n",
      "  new_header[1] = \"Location\"\n"
     ]
    },
    {
     "name": "stdout",
     "output_type": "stream",
     "text": [
      "Collected 1 - 17  data.\n"
     ]
    },
    {
     "name": "stderr",
     "output_type": "stream",
     "text": [
      "/var/folders/hn/gfxxh51d76nbszjdcrp5pzy80000gn/T/ipykernel_47560/3038214230.py:10: SettingWithCopyWarning: \n",
      "A value is trying to be set on a copy of a slice from a DataFrame\n",
      "\n",
      "See the caveats in the documentation: https://pandas.pydata.org/pandas-docs/stable/user_guide/indexing.html#returning-a-view-versus-a-copy\n",
      "  new_header[0] = \"Property Type\"\n",
      "/var/folders/hn/gfxxh51d76nbszjdcrp5pzy80000gn/T/ipykernel_47560/3038214230.py:11: SettingWithCopyWarning: \n",
      "A value is trying to be set on a copy of a slice from a DataFrame\n",
      "\n",
      "See the caveats in the documentation: https://pandas.pydata.org/pandas-docs/stable/user_guide/indexing.html#returning-a-view-versus-a-copy\n",
      "  new_header[1] = \"Location\"\n"
     ]
    },
    {
     "name": "stdout",
     "output_type": "stream",
     "text": [
      "Collected 2 - 17  data.\n"
     ]
    },
    {
     "name": "stderr",
     "output_type": "stream",
     "text": [
      "/var/folders/hn/gfxxh51d76nbszjdcrp5pzy80000gn/T/ipykernel_47560/3038214230.py:10: SettingWithCopyWarning: \n",
      "A value is trying to be set on a copy of a slice from a DataFrame\n",
      "\n",
      "See the caveats in the documentation: https://pandas.pydata.org/pandas-docs/stable/user_guide/indexing.html#returning-a-view-versus-a-copy\n",
      "  new_header[0] = \"Property Type\"\n",
      "/var/folders/hn/gfxxh51d76nbszjdcrp5pzy80000gn/T/ipykernel_47560/3038214230.py:11: SettingWithCopyWarning: \n",
      "A value is trying to be set on a copy of a slice from a DataFrame\n",
      "\n",
      "See the caveats in the documentation: https://pandas.pydata.org/pandas-docs/stable/user_guide/indexing.html#returning-a-view-versus-a-copy\n",
      "  new_header[1] = \"Location\"\n"
     ]
    },
    {
     "name": "stdout",
     "output_type": "stream",
     "text": [
      "Collected 3 - 17  data.\n"
     ]
    },
    {
     "name": "stderr",
     "output_type": "stream",
     "text": [
      "/var/folders/hn/gfxxh51d76nbszjdcrp5pzy80000gn/T/ipykernel_47560/3038214230.py:10: SettingWithCopyWarning: \n",
      "A value is trying to be set on a copy of a slice from a DataFrame\n",
      "\n",
      "See the caveats in the documentation: https://pandas.pydata.org/pandas-docs/stable/user_guide/indexing.html#returning-a-view-versus-a-copy\n",
      "  new_header[0] = \"Property Type\"\n",
      "/var/folders/hn/gfxxh51d76nbszjdcrp5pzy80000gn/T/ipykernel_47560/3038214230.py:11: SettingWithCopyWarning: \n",
      "A value is trying to be set on a copy of a slice from a DataFrame\n",
      "\n",
      "See the caveats in the documentation: https://pandas.pydata.org/pandas-docs/stable/user_guide/indexing.html#returning-a-view-versus-a-copy\n",
      "  new_header[1] = \"Location\"\n"
     ]
    },
    {
     "name": "stdout",
     "output_type": "stream",
     "text": [
      "Collected 4 - 17  data.\n"
     ]
    },
    {
     "name": "stderr",
     "output_type": "stream",
     "text": [
      "/var/folders/hn/gfxxh51d76nbszjdcrp5pzy80000gn/T/ipykernel_47560/3038214230.py:10: SettingWithCopyWarning: \n",
      "A value is trying to be set on a copy of a slice from a DataFrame\n",
      "\n",
      "See the caveats in the documentation: https://pandas.pydata.org/pandas-docs/stable/user_guide/indexing.html#returning-a-view-versus-a-copy\n",
      "  new_header[0] = \"Property Type\"\n",
      "/var/folders/hn/gfxxh51d76nbszjdcrp5pzy80000gn/T/ipykernel_47560/3038214230.py:11: SettingWithCopyWarning: \n",
      "A value is trying to be set on a copy of a slice from a DataFrame\n",
      "\n",
      "See the caveats in the documentation: https://pandas.pydata.org/pandas-docs/stable/user_guide/indexing.html#returning-a-view-versus-a-copy\n",
      "  new_header[1] = \"Location\"\n"
     ]
    },
    {
     "name": "stdout",
     "output_type": "stream",
     "text": [
      "Collected 5 - 17  data.\n"
     ]
    },
    {
     "name": "stderr",
     "output_type": "stream",
     "text": [
      "/var/folders/hn/gfxxh51d76nbszjdcrp5pzy80000gn/T/ipykernel_47560/3038214230.py:10: SettingWithCopyWarning: \n",
      "A value is trying to be set on a copy of a slice from a DataFrame\n",
      "\n",
      "See the caveats in the documentation: https://pandas.pydata.org/pandas-docs/stable/user_guide/indexing.html#returning-a-view-versus-a-copy\n",
      "  new_header[0] = \"Property Type\"\n",
      "/var/folders/hn/gfxxh51d76nbszjdcrp5pzy80000gn/T/ipykernel_47560/3038214230.py:11: SettingWithCopyWarning: \n",
      "A value is trying to be set on a copy of a slice from a DataFrame\n",
      "\n",
      "See the caveats in the documentation: https://pandas.pydata.org/pandas-docs/stable/user_guide/indexing.html#returning-a-view-versus-a-copy\n",
      "  new_header[1] = \"Location\"\n"
     ]
    },
    {
     "name": "stdout",
     "output_type": "stream",
     "text": [
      "Collected 6 - 17  data.\n"
     ]
    },
    {
     "name": "stderr",
     "output_type": "stream",
     "text": [
      "/var/folders/hn/gfxxh51d76nbszjdcrp5pzy80000gn/T/ipykernel_47560/3038214230.py:10: SettingWithCopyWarning: \n",
      "A value is trying to be set on a copy of a slice from a DataFrame\n",
      "\n",
      "See the caveats in the documentation: https://pandas.pydata.org/pandas-docs/stable/user_guide/indexing.html#returning-a-view-versus-a-copy\n",
      "  new_header[0] = \"Property Type\"\n",
      "/var/folders/hn/gfxxh51d76nbszjdcrp5pzy80000gn/T/ipykernel_47560/3038214230.py:11: SettingWithCopyWarning: \n",
      "A value is trying to be set on a copy of a slice from a DataFrame\n",
      "\n",
      "See the caveats in the documentation: https://pandas.pydata.org/pandas-docs/stable/user_guide/indexing.html#returning-a-view-versus-a-copy\n",
      "  new_header[1] = \"Location\"\n"
     ]
    },
    {
     "name": "stdout",
     "output_type": "stream",
     "text": [
      "Collected 7 - 17  data.\n"
     ]
    },
    {
     "name": "stderr",
     "output_type": "stream",
     "text": [
      "/var/folders/hn/gfxxh51d76nbszjdcrp5pzy80000gn/T/ipykernel_47560/3038214230.py:10: SettingWithCopyWarning: \n",
      "A value is trying to be set on a copy of a slice from a DataFrame\n",
      "\n",
      "See the caveats in the documentation: https://pandas.pydata.org/pandas-docs/stable/user_guide/indexing.html#returning-a-view-versus-a-copy\n",
      "  new_header[0] = \"Property Type\"\n",
      "/var/folders/hn/gfxxh51d76nbszjdcrp5pzy80000gn/T/ipykernel_47560/3038214230.py:11: SettingWithCopyWarning: \n",
      "A value is trying to be set on a copy of a slice from a DataFrame\n",
      "\n",
      "See the caveats in the documentation: https://pandas.pydata.org/pandas-docs/stable/user_guide/indexing.html#returning-a-view-versus-a-copy\n",
      "  new_header[1] = \"Location\"\n"
     ]
    },
    {
     "name": "stdout",
     "output_type": "stream",
     "text": [
      "Collected 8 - 17  data.\n"
     ]
    },
    {
     "name": "stderr",
     "output_type": "stream",
     "text": [
      "/var/folders/hn/gfxxh51d76nbszjdcrp5pzy80000gn/T/ipykernel_47560/3038214230.py:10: SettingWithCopyWarning: \n",
      "A value is trying to be set on a copy of a slice from a DataFrame\n",
      "\n",
      "See the caveats in the documentation: https://pandas.pydata.org/pandas-docs/stable/user_guide/indexing.html#returning-a-view-versus-a-copy\n",
      "  new_header[0] = \"Property Type\"\n",
      "/var/folders/hn/gfxxh51d76nbszjdcrp5pzy80000gn/T/ipykernel_47560/3038214230.py:11: SettingWithCopyWarning: \n",
      "A value is trying to be set on a copy of a slice from a DataFrame\n",
      "\n",
      "See the caveats in the documentation: https://pandas.pydata.org/pandas-docs/stable/user_guide/indexing.html#returning-a-view-versus-a-copy\n",
      "  new_header[1] = \"Location\"\n"
     ]
    },
    {
     "name": "stdout",
     "output_type": "stream",
     "text": [
      "Collected 9 - 17  data.\n"
     ]
    },
    {
     "name": "stderr",
     "output_type": "stream",
     "text": [
      "/var/folders/hn/gfxxh51d76nbszjdcrp5pzy80000gn/T/ipykernel_47560/3038214230.py:10: SettingWithCopyWarning: \n",
      "A value is trying to be set on a copy of a slice from a DataFrame\n",
      "\n",
      "See the caveats in the documentation: https://pandas.pydata.org/pandas-docs/stable/user_guide/indexing.html#returning-a-view-versus-a-copy\n",
      "  new_header[0] = \"Property Type\"\n",
      "/var/folders/hn/gfxxh51d76nbszjdcrp5pzy80000gn/T/ipykernel_47560/3038214230.py:11: SettingWithCopyWarning: \n",
      "A value is trying to be set on a copy of a slice from a DataFrame\n",
      "\n",
      "See the caveats in the documentation: https://pandas.pydata.org/pandas-docs/stable/user_guide/indexing.html#returning-a-view-versus-a-copy\n",
      "  new_header[1] = \"Location\"\n"
     ]
    },
    {
     "name": "stdout",
     "output_type": "stream",
     "text": [
      "Collected 10 - 17  data.\n"
     ]
    },
    {
     "name": "stderr",
     "output_type": "stream",
     "text": [
      "/var/folders/hn/gfxxh51d76nbszjdcrp5pzy80000gn/T/ipykernel_47560/3038214230.py:10: SettingWithCopyWarning: \n",
      "A value is trying to be set on a copy of a slice from a DataFrame\n",
      "\n",
      "See the caveats in the documentation: https://pandas.pydata.org/pandas-docs/stable/user_guide/indexing.html#returning-a-view-versus-a-copy\n",
      "  new_header[0] = \"Property Type\"\n",
      "/var/folders/hn/gfxxh51d76nbszjdcrp5pzy80000gn/T/ipykernel_47560/3038214230.py:11: SettingWithCopyWarning: \n",
      "A value is trying to be set on a copy of a slice from a DataFrame\n",
      "\n",
      "See the caveats in the documentation: https://pandas.pydata.org/pandas-docs/stable/user_guide/indexing.html#returning-a-view-versus-a-copy\n",
      "  new_header[1] = \"Location\"\n"
     ]
    },
    {
     "name": "stdout",
     "output_type": "stream",
     "text": [
      "Collected 11 - 17  data.\n"
     ]
    },
    {
     "name": "stderr",
     "output_type": "stream",
     "text": [
      "/var/folders/hn/gfxxh51d76nbszjdcrp5pzy80000gn/T/ipykernel_47560/3038214230.py:10: SettingWithCopyWarning: \n",
      "A value is trying to be set on a copy of a slice from a DataFrame\n",
      "\n",
      "See the caveats in the documentation: https://pandas.pydata.org/pandas-docs/stable/user_guide/indexing.html#returning-a-view-versus-a-copy\n",
      "  new_header[0] = \"Property Type\"\n",
      "/var/folders/hn/gfxxh51d76nbszjdcrp5pzy80000gn/T/ipykernel_47560/3038214230.py:11: SettingWithCopyWarning: \n",
      "A value is trying to be set on a copy of a slice from a DataFrame\n",
      "\n",
      "See the caveats in the documentation: https://pandas.pydata.org/pandas-docs/stable/user_guide/indexing.html#returning-a-view-versus-a-copy\n",
      "  new_header[1] = \"Location\"\n"
     ]
    },
    {
     "name": "stdout",
     "output_type": "stream",
     "text": [
      "Collected 1 - 18  data.\n"
     ]
    },
    {
     "name": "stderr",
     "output_type": "stream",
     "text": [
      "/var/folders/hn/gfxxh51d76nbszjdcrp5pzy80000gn/T/ipykernel_47560/3038214230.py:10: SettingWithCopyWarning: \n",
      "A value is trying to be set on a copy of a slice from a DataFrame\n",
      "\n",
      "See the caveats in the documentation: https://pandas.pydata.org/pandas-docs/stable/user_guide/indexing.html#returning-a-view-versus-a-copy\n",
      "  new_header[0] = \"Property Type\"\n",
      "/var/folders/hn/gfxxh51d76nbszjdcrp5pzy80000gn/T/ipykernel_47560/3038214230.py:11: SettingWithCopyWarning: \n",
      "A value is trying to be set on a copy of a slice from a DataFrame\n",
      "\n",
      "See the caveats in the documentation: https://pandas.pydata.org/pandas-docs/stable/user_guide/indexing.html#returning-a-view-versus-a-copy\n",
      "  new_header[1] = \"Location\"\n"
     ]
    },
    {
     "name": "stdout",
     "output_type": "stream",
     "text": [
      "Collected 2 - 18  data.\n"
     ]
    },
    {
     "name": "stderr",
     "output_type": "stream",
     "text": [
      "/var/folders/hn/gfxxh51d76nbszjdcrp5pzy80000gn/T/ipykernel_47560/3038214230.py:10: SettingWithCopyWarning: \n",
      "A value is trying to be set on a copy of a slice from a DataFrame\n",
      "\n",
      "See the caveats in the documentation: https://pandas.pydata.org/pandas-docs/stable/user_guide/indexing.html#returning-a-view-versus-a-copy\n",
      "  new_header[0] = \"Property Type\"\n",
      "/var/folders/hn/gfxxh51d76nbszjdcrp5pzy80000gn/T/ipykernel_47560/3038214230.py:11: SettingWithCopyWarning: \n",
      "A value is trying to be set on a copy of a slice from a DataFrame\n",
      "\n",
      "See the caveats in the documentation: https://pandas.pydata.org/pandas-docs/stable/user_guide/indexing.html#returning-a-view-versus-a-copy\n",
      "  new_header[1] = \"Location\"\n"
     ]
    },
    {
     "name": "stdout",
     "output_type": "stream",
     "text": [
      "Collected 3 - 18  data.\n"
     ]
    },
    {
     "name": "stderr",
     "output_type": "stream",
     "text": [
      "/var/folders/hn/gfxxh51d76nbszjdcrp5pzy80000gn/T/ipykernel_47560/3038214230.py:10: SettingWithCopyWarning: \n",
      "A value is trying to be set on a copy of a slice from a DataFrame\n",
      "\n",
      "See the caveats in the documentation: https://pandas.pydata.org/pandas-docs/stable/user_guide/indexing.html#returning-a-view-versus-a-copy\n",
      "  new_header[0] = \"Property Type\"\n",
      "/var/folders/hn/gfxxh51d76nbszjdcrp5pzy80000gn/T/ipykernel_47560/3038214230.py:11: SettingWithCopyWarning: \n",
      "A value is trying to be set on a copy of a slice from a DataFrame\n",
      "\n",
      "See the caveats in the documentation: https://pandas.pydata.org/pandas-docs/stable/user_guide/indexing.html#returning-a-view-versus-a-copy\n",
      "  new_header[1] = \"Location\"\n"
     ]
    },
    {
     "name": "stdout",
     "output_type": "stream",
     "text": [
      "Collected 4 - 18  data.\n"
     ]
    },
    {
     "name": "stderr",
     "output_type": "stream",
     "text": [
      "/var/folders/hn/gfxxh51d76nbszjdcrp5pzy80000gn/T/ipykernel_47560/3038214230.py:10: SettingWithCopyWarning: \n",
      "A value is trying to be set on a copy of a slice from a DataFrame\n",
      "\n",
      "See the caveats in the documentation: https://pandas.pydata.org/pandas-docs/stable/user_guide/indexing.html#returning-a-view-versus-a-copy\n",
      "  new_header[0] = \"Property Type\"\n",
      "/var/folders/hn/gfxxh51d76nbszjdcrp5pzy80000gn/T/ipykernel_47560/3038214230.py:11: SettingWithCopyWarning: \n",
      "A value is trying to be set on a copy of a slice from a DataFrame\n",
      "\n",
      "See the caveats in the documentation: https://pandas.pydata.org/pandas-docs/stable/user_guide/indexing.html#returning-a-view-versus-a-copy\n",
      "  new_header[1] = \"Location\"\n"
     ]
    },
    {
     "name": "stdout",
     "output_type": "stream",
     "text": [
      "Collected 5 - 18  data.\n"
     ]
    },
    {
     "name": "stderr",
     "output_type": "stream",
     "text": [
      "/var/folders/hn/gfxxh51d76nbszjdcrp5pzy80000gn/T/ipykernel_47560/3038214230.py:10: SettingWithCopyWarning: \n",
      "A value is trying to be set on a copy of a slice from a DataFrame\n",
      "\n",
      "See the caveats in the documentation: https://pandas.pydata.org/pandas-docs/stable/user_guide/indexing.html#returning-a-view-versus-a-copy\n",
      "  new_header[0] = \"Property Type\"\n",
      "/var/folders/hn/gfxxh51d76nbszjdcrp5pzy80000gn/T/ipykernel_47560/3038214230.py:11: SettingWithCopyWarning: \n",
      "A value is trying to be set on a copy of a slice from a DataFrame\n",
      "\n",
      "See the caveats in the documentation: https://pandas.pydata.org/pandas-docs/stable/user_guide/indexing.html#returning-a-view-versus-a-copy\n",
      "  new_header[1] = \"Location\"\n"
     ]
    },
    {
     "name": "stdout",
     "output_type": "stream",
     "text": [
      "Collected 6 - 18  data.\n"
     ]
    },
    {
     "name": "stderr",
     "output_type": "stream",
     "text": [
      "/var/folders/hn/gfxxh51d76nbszjdcrp5pzy80000gn/T/ipykernel_47560/3038214230.py:10: SettingWithCopyWarning: \n",
      "A value is trying to be set on a copy of a slice from a DataFrame\n",
      "\n",
      "See the caveats in the documentation: https://pandas.pydata.org/pandas-docs/stable/user_guide/indexing.html#returning-a-view-versus-a-copy\n",
      "  new_header[0] = \"Property Type\"\n",
      "/var/folders/hn/gfxxh51d76nbszjdcrp5pzy80000gn/T/ipykernel_47560/3038214230.py:11: SettingWithCopyWarning: \n",
      "A value is trying to be set on a copy of a slice from a DataFrame\n",
      "\n",
      "See the caveats in the documentation: https://pandas.pydata.org/pandas-docs/stable/user_guide/indexing.html#returning-a-view-versus-a-copy\n",
      "  new_header[1] = \"Location\"\n"
     ]
    },
    {
     "name": "stdout",
     "output_type": "stream",
     "text": [
      "Collected 7 - 18  data.\n"
     ]
    },
    {
     "name": "stderr",
     "output_type": "stream",
     "text": [
      "/var/folders/hn/gfxxh51d76nbszjdcrp5pzy80000gn/T/ipykernel_47560/3038214230.py:10: SettingWithCopyWarning: \n",
      "A value is trying to be set on a copy of a slice from a DataFrame\n",
      "\n",
      "See the caveats in the documentation: https://pandas.pydata.org/pandas-docs/stable/user_guide/indexing.html#returning-a-view-versus-a-copy\n",
      "  new_header[0] = \"Property Type\"\n",
      "/var/folders/hn/gfxxh51d76nbszjdcrp5pzy80000gn/T/ipykernel_47560/3038214230.py:11: SettingWithCopyWarning: \n",
      "A value is trying to be set on a copy of a slice from a DataFrame\n",
      "\n",
      "See the caveats in the documentation: https://pandas.pydata.org/pandas-docs/stable/user_guide/indexing.html#returning-a-view-versus-a-copy\n",
      "  new_header[1] = \"Location\"\n"
     ]
    },
    {
     "name": "stdout",
     "output_type": "stream",
     "text": [
      "Collected 8 - 18  data.\n"
     ]
    },
    {
     "name": "stderr",
     "output_type": "stream",
     "text": [
      "/var/folders/hn/gfxxh51d76nbszjdcrp5pzy80000gn/T/ipykernel_47560/3038214230.py:10: SettingWithCopyWarning: \n",
      "A value is trying to be set on a copy of a slice from a DataFrame\n",
      "\n",
      "See the caveats in the documentation: https://pandas.pydata.org/pandas-docs/stable/user_guide/indexing.html#returning-a-view-versus-a-copy\n",
      "  new_header[0] = \"Property Type\"\n",
      "/var/folders/hn/gfxxh51d76nbszjdcrp5pzy80000gn/T/ipykernel_47560/3038214230.py:11: SettingWithCopyWarning: \n",
      "A value is trying to be set on a copy of a slice from a DataFrame\n",
      "\n",
      "See the caveats in the documentation: https://pandas.pydata.org/pandas-docs/stable/user_guide/indexing.html#returning-a-view-versus-a-copy\n",
      "  new_header[1] = \"Location\"\n"
     ]
    },
    {
     "name": "stdout",
     "output_type": "stream",
     "text": [
      "Collected 9 - 18  data.\n"
     ]
    },
    {
     "name": "stderr",
     "output_type": "stream",
     "text": [
      "/var/folders/hn/gfxxh51d76nbszjdcrp5pzy80000gn/T/ipykernel_47560/3038214230.py:10: SettingWithCopyWarning: \n",
      "A value is trying to be set on a copy of a slice from a DataFrame\n",
      "\n",
      "See the caveats in the documentation: https://pandas.pydata.org/pandas-docs/stable/user_guide/indexing.html#returning-a-view-versus-a-copy\n",
      "  new_header[0] = \"Property Type\"\n",
      "/var/folders/hn/gfxxh51d76nbszjdcrp5pzy80000gn/T/ipykernel_47560/3038214230.py:11: SettingWithCopyWarning: \n",
      "A value is trying to be set on a copy of a slice from a DataFrame\n",
      "\n",
      "See the caveats in the documentation: https://pandas.pydata.org/pandas-docs/stable/user_guide/indexing.html#returning-a-view-versus-a-copy\n",
      "  new_header[1] = \"Location\"\n"
     ]
    },
    {
     "name": "stdout",
     "output_type": "stream",
     "text": [
      "Collected 10 - 18  data.\n"
     ]
    },
    {
     "name": "stderr",
     "output_type": "stream",
     "text": [
      "/var/folders/hn/gfxxh51d76nbszjdcrp5pzy80000gn/T/ipykernel_47560/3038214230.py:10: SettingWithCopyWarning: \n",
      "A value is trying to be set on a copy of a slice from a DataFrame\n",
      "\n",
      "See the caveats in the documentation: https://pandas.pydata.org/pandas-docs/stable/user_guide/indexing.html#returning-a-view-versus-a-copy\n",
      "  new_header[0] = \"Property Type\"\n",
      "/var/folders/hn/gfxxh51d76nbszjdcrp5pzy80000gn/T/ipykernel_47560/3038214230.py:11: SettingWithCopyWarning: \n",
      "A value is trying to be set on a copy of a slice from a DataFrame\n",
      "\n",
      "See the caveats in the documentation: https://pandas.pydata.org/pandas-docs/stable/user_guide/indexing.html#returning-a-view-versus-a-copy\n",
      "  new_header[1] = \"Location\"\n"
     ]
    },
    {
     "name": "stdout",
     "output_type": "stream",
     "text": [
      "Collected 11 - 18  data.\n"
     ]
    },
    {
     "name": "stderr",
     "output_type": "stream",
     "text": [
      "/var/folders/hn/gfxxh51d76nbszjdcrp5pzy80000gn/T/ipykernel_47560/3038214230.py:10: SettingWithCopyWarning: \n",
      "A value is trying to be set on a copy of a slice from a DataFrame\n",
      "\n",
      "See the caveats in the documentation: https://pandas.pydata.org/pandas-docs/stable/user_guide/indexing.html#returning-a-view-versus-a-copy\n",
      "  new_header[0] = \"Property Type\"\n",
      "/var/folders/hn/gfxxh51d76nbszjdcrp5pzy80000gn/T/ipykernel_47560/3038214230.py:11: SettingWithCopyWarning: \n",
      "A value is trying to be set on a copy of a slice from a DataFrame\n",
      "\n",
      "See the caveats in the documentation: https://pandas.pydata.org/pandas-docs/stable/user_guide/indexing.html#returning-a-view-versus-a-copy\n",
      "  new_header[1] = \"Location\"\n"
     ]
    },
    {
     "name": "stdout",
     "output_type": "stream",
     "text": [
      "Collected 1 - 19  data.\n"
     ]
    },
    {
     "name": "stderr",
     "output_type": "stream",
     "text": [
      "/var/folders/hn/gfxxh51d76nbszjdcrp5pzy80000gn/T/ipykernel_47560/3038214230.py:10: SettingWithCopyWarning: \n",
      "A value is trying to be set on a copy of a slice from a DataFrame\n",
      "\n",
      "See the caveats in the documentation: https://pandas.pydata.org/pandas-docs/stable/user_guide/indexing.html#returning-a-view-versus-a-copy\n",
      "  new_header[0] = \"Property Type\"\n",
      "/var/folders/hn/gfxxh51d76nbszjdcrp5pzy80000gn/T/ipykernel_47560/3038214230.py:11: SettingWithCopyWarning: \n",
      "A value is trying to be set on a copy of a slice from a DataFrame\n",
      "\n",
      "See the caveats in the documentation: https://pandas.pydata.org/pandas-docs/stable/user_guide/indexing.html#returning-a-view-versus-a-copy\n",
      "  new_header[1] = \"Location\"\n"
     ]
    },
    {
     "name": "stdout",
     "output_type": "stream",
     "text": [
      "Collected 2 - 19  data.\n"
     ]
    },
    {
     "name": "stderr",
     "output_type": "stream",
     "text": [
      "/var/folders/hn/gfxxh51d76nbszjdcrp5pzy80000gn/T/ipykernel_47560/3038214230.py:10: SettingWithCopyWarning: \n",
      "A value is trying to be set on a copy of a slice from a DataFrame\n",
      "\n",
      "See the caveats in the documentation: https://pandas.pydata.org/pandas-docs/stable/user_guide/indexing.html#returning-a-view-versus-a-copy\n",
      "  new_header[0] = \"Property Type\"\n",
      "/var/folders/hn/gfxxh51d76nbszjdcrp5pzy80000gn/T/ipykernel_47560/3038214230.py:11: SettingWithCopyWarning: \n",
      "A value is trying to be set on a copy of a slice from a DataFrame\n",
      "\n",
      "See the caveats in the documentation: https://pandas.pydata.org/pandas-docs/stable/user_guide/indexing.html#returning-a-view-versus-a-copy\n",
      "  new_header[1] = \"Location\"\n"
     ]
    },
    {
     "name": "stdout",
     "output_type": "stream",
     "text": [
      "Collected 3 - 19  data.\n"
     ]
    },
    {
     "name": "stderr",
     "output_type": "stream",
     "text": [
      "/var/folders/hn/gfxxh51d76nbszjdcrp5pzy80000gn/T/ipykernel_47560/3038214230.py:10: SettingWithCopyWarning: \n",
      "A value is trying to be set on a copy of a slice from a DataFrame\n",
      "\n",
      "See the caveats in the documentation: https://pandas.pydata.org/pandas-docs/stable/user_guide/indexing.html#returning-a-view-versus-a-copy\n",
      "  new_header[0] = \"Property Type\"\n",
      "/var/folders/hn/gfxxh51d76nbszjdcrp5pzy80000gn/T/ipykernel_47560/3038214230.py:11: SettingWithCopyWarning: \n",
      "A value is trying to be set on a copy of a slice from a DataFrame\n",
      "\n",
      "See the caveats in the documentation: https://pandas.pydata.org/pandas-docs/stable/user_guide/indexing.html#returning-a-view-versus-a-copy\n",
      "  new_header[1] = \"Location\"\n"
     ]
    },
    {
     "name": "stdout",
     "output_type": "stream",
     "text": [
      "Collected 4 - 19  data.\n"
     ]
    },
    {
     "name": "stderr",
     "output_type": "stream",
     "text": [
      "/var/folders/hn/gfxxh51d76nbszjdcrp5pzy80000gn/T/ipykernel_47560/3038214230.py:10: SettingWithCopyWarning: \n",
      "A value is trying to be set on a copy of a slice from a DataFrame\n",
      "\n",
      "See the caveats in the documentation: https://pandas.pydata.org/pandas-docs/stable/user_guide/indexing.html#returning-a-view-versus-a-copy\n",
      "  new_header[0] = \"Property Type\"\n",
      "/var/folders/hn/gfxxh51d76nbszjdcrp5pzy80000gn/T/ipykernel_47560/3038214230.py:11: SettingWithCopyWarning: \n",
      "A value is trying to be set on a copy of a slice from a DataFrame\n",
      "\n",
      "See the caveats in the documentation: https://pandas.pydata.org/pandas-docs/stable/user_guide/indexing.html#returning-a-view-versus-a-copy\n",
      "  new_header[1] = \"Location\"\n"
     ]
    },
    {
     "name": "stdout",
     "output_type": "stream",
     "text": [
      "Collected 6 - 19  data.\n"
     ]
    },
    {
     "name": "stderr",
     "output_type": "stream",
     "text": [
      "/var/folders/hn/gfxxh51d76nbszjdcrp5pzy80000gn/T/ipykernel_47560/3038214230.py:10: SettingWithCopyWarning: \n",
      "A value is trying to be set on a copy of a slice from a DataFrame\n",
      "\n",
      "See the caveats in the documentation: https://pandas.pydata.org/pandas-docs/stable/user_guide/indexing.html#returning-a-view-versus-a-copy\n",
      "  new_header[0] = \"Property Type\"\n",
      "/var/folders/hn/gfxxh51d76nbszjdcrp5pzy80000gn/T/ipykernel_47560/3038214230.py:11: SettingWithCopyWarning: \n",
      "A value is trying to be set on a copy of a slice from a DataFrame\n",
      "\n",
      "See the caveats in the documentation: https://pandas.pydata.org/pandas-docs/stable/user_guide/indexing.html#returning-a-view-versus-a-copy\n",
      "  new_header[1] = \"Location\"\n"
     ]
    },
    {
     "name": "stdout",
     "output_type": "stream",
     "text": [
      "Collected 7 - 19  data.\n"
     ]
    },
    {
     "name": "stderr",
     "output_type": "stream",
     "text": [
      "/var/folders/hn/gfxxh51d76nbszjdcrp5pzy80000gn/T/ipykernel_47560/3038214230.py:10: SettingWithCopyWarning: \n",
      "A value is trying to be set on a copy of a slice from a DataFrame\n",
      "\n",
      "See the caveats in the documentation: https://pandas.pydata.org/pandas-docs/stable/user_guide/indexing.html#returning-a-view-versus-a-copy\n",
      "  new_header[0] = \"Property Type\"\n",
      "/var/folders/hn/gfxxh51d76nbszjdcrp5pzy80000gn/T/ipykernel_47560/3038214230.py:11: SettingWithCopyWarning: \n",
      "A value is trying to be set on a copy of a slice from a DataFrame\n",
      "\n",
      "See the caveats in the documentation: https://pandas.pydata.org/pandas-docs/stable/user_guide/indexing.html#returning-a-view-versus-a-copy\n",
      "  new_header[1] = \"Location\"\n"
     ]
    },
    {
     "name": "stdout",
     "output_type": "stream",
     "text": [
      "Collected 8 - 19  data.\n"
     ]
    },
    {
     "name": "stderr",
     "output_type": "stream",
     "text": [
      "/var/folders/hn/gfxxh51d76nbszjdcrp5pzy80000gn/T/ipykernel_47560/3038214230.py:10: SettingWithCopyWarning: \n",
      "A value is trying to be set on a copy of a slice from a DataFrame\n",
      "\n",
      "See the caveats in the documentation: https://pandas.pydata.org/pandas-docs/stable/user_guide/indexing.html#returning-a-view-versus-a-copy\n",
      "  new_header[0] = \"Property Type\"\n",
      "/var/folders/hn/gfxxh51d76nbszjdcrp5pzy80000gn/T/ipykernel_47560/3038214230.py:11: SettingWithCopyWarning: \n",
      "A value is trying to be set on a copy of a slice from a DataFrame\n",
      "\n",
      "See the caveats in the documentation: https://pandas.pydata.org/pandas-docs/stable/user_guide/indexing.html#returning-a-view-versus-a-copy\n",
      "  new_header[1] = \"Location\"\n"
     ]
    },
    {
     "name": "stdout",
     "output_type": "stream",
     "text": [
      "Collected 9 - 19  data.\n"
     ]
    },
    {
     "name": "stderr",
     "output_type": "stream",
     "text": [
      "/var/folders/hn/gfxxh51d76nbszjdcrp5pzy80000gn/T/ipykernel_47560/3038214230.py:10: SettingWithCopyWarning: \n",
      "A value is trying to be set on a copy of a slice from a DataFrame\n",
      "\n",
      "See the caveats in the documentation: https://pandas.pydata.org/pandas-docs/stable/user_guide/indexing.html#returning-a-view-versus-a-copy\n",
      "  new_header[0] = \"Property Type\"\n",
      "/var/folders/hn/gfxxh51d76nbszjdcrp5pzy80000gn/T/ipykernel_47560/3038214230.py:11: SettingWithCopyWarning: \n",
      "A value is trying to be set on a copy of a slice from a DataFrame\n",
      "\n",
      "See the caveats in the documentation: https://pandas.pydata.org/pandas-docs/stable/user_guide/indexing.html#returning-a-view-versus-a-copy\n",
      "  new_header[1] = \"Location\"\n"
     ]
    },
    {
     "name": "stdout",
     "output_type": "stream",
     "text": [
      "Collected 10 - 19  data.\n"
     ]
    },
    {
     "name": "stderr",
     "output_type": "stream",
     "text": [
      "/var/folders/hn/gfxxh51d76nbszjdcrp5pzy80000gn/T/ipykernel_47560/3038214230.py:10: SettingWithCopyWarning: \n",
      "A value is trying to be set on a copy of a slice from a DataFrame\n",
      "\n",
      "See the caveats in the documentation: https://pandas.pydata.org/pandas-docs/stable/user_guide/indexing.html#returning-a-view-versus-a-copy\n",
      "  new_header[0] = \"Property Type\"\n",
      "/var/folders/hn/gfxxh51d76nbszjdcrp5pzy80000gn/T/ipykernel_47560/3038214230.py:11: SettingWithCopyWarning: \n",
      "A value is trying to be set on a copy of a slice from a DataFrame\n",
      "\n",
      "See the caveats in the documentation: https://pandas.pydata.org/pandas-docs/stable/user_guide/indexing.html#returning-a-view-versus-a-copy\n",
      "  new_header[1] = \"Location\"\n"
     ]
    },
    {
     "name": "stdout",
     "output_type": "stream",
     "text": [
      "Collected 11 - 19  data.\n"
     ]
    },
    {
     "name": "stderr",
     "output_type": "stream",
     "text": [
      "/var/folders/hn/gfxxh51d76nbszjdcrp5pzy80000gn/T/ipykernel_47560/3038214230.py:10: SettingWithCopyWarning: \n",
      "A value is trying to be set on a copy of a slice from a DataFrame\n",
      "\n",
      "See the caveats in the documentation: https://pandas.pydata.org/pandas-docs/stable/user_guide/indexing.html#returning-a-view-versus-a-copy\n",
      "  new_header[0] = \"Property Type\"\n",
      "/var/folders/hn/gfxxh51d76nbszjdcrp5pzy80000gn/T/ipykernel_47560/3038214230.py:11: SettingWithCopyWarning: \n",
      "A value is trying to be set on a copy of a slice from a DataFrame\n",
      "\n",
      "See the caveats in the documentation: https://pandas.pydata.org/pandas-docs/stable/user_guide/indexing.html#returning-a-view-versus-a-copy\n",
      "  new_header[1] = \"Location\"\n"
     ]
    },
    {
     "name": "stdout",
     "output_type": "stream",
     "text": [
      "Collected 1 - 20  data.\n"
     ]
    },
    {
     "name": "stderr",
     "output_type": "stream",
     "text": [
      "/var/folders/hn/gfxxh51d76nbszjdcrp5pzy80000gn/T/ipykernel_47560/3038214230.py:10: SettingWithCopyWarning: \n",
      "A value is trying to be set on a copy of a slice from a DataFrame\n",
      "\n",
      "See the caveats in the documentation: https://pandas.pydata.org/pandas-docs/stable/user_guide/indexing.html#returning-a-view-versus-a-copy\n",
      "  new_header[0] = \"Property Type\"\n",
      "/var/folders/hn/gfxxh51d76nbszjdcrp5pzy80000gn/T/ipykernel_47560/3038214230.py:11: SettingWithCopyWarning: \n",
      "A value is trying to be set on a copy of a slice from a DataFrame\n",
      "\n",
      "See the caveats in the documentation: https://pandas.pydata.org/pandas-docs/stable/user_guide/indexing.html#returning-a-view-versus-a-copy\n",
      "  new_header[1] = \"Location\"\n"
     ]
    },
    {
     "name": "stdout",
     "output_type": "stream",
     "text": [
      "Collected 2 - 20  data.\n"
     ]
    },
    {
     "name": "stderr",
     "output_type": "stream",
     "text": [
      "/var/folders/hn/gfxxh51d76nbszjdcrp5pzy80000gn/T/ipykernel_47560/3038214230.py:10: SettingWithCopyWarning: \n",
      "A value is trying to be set on a copy of a slice from a DataFrame\n",
      "\n",
      "See the caveats in the documentation: https://pandas.pydata.org/pandas-docs/stable/user_guide/indexing.html#returning-a-view-versus-a-copy\n",
      "  new_header[0] = \"Property Type\"\n",
      "/var/folders/hn/gfxxh51d76nbszjdcrp5pzy80000gn/T/ipykernel_47560/3038214230.py:11: SettingWithCopyWarning: \n",
      "A value is trying to be set on a copy of a slice from a DataFrame\n",
      "\n",
      "See the caveats in the documentation: https://pandas.pydata.org/pandas-docs/stable/user_guide/indexing.html#returning-a-view-versus-a-copy\n",
      "  new_header[1] = \"Location\"\n"
     ]
    },
    {
     "name": "stdout",
     "output_type": "stream",
     "text": [
      "Collected 3 - 20  data.\n"
     ]
    },
    {
     "name": "stderr",
     "output_type": "stream",
     "text": [
      "/var/folders/hn/gfxxh51d76nbszjdcrp5pzy80000gn/T/ipykernel_47560/3038214230.py:10: SettingWithCopyWarning: \n",
      "A value is trying to be set on a copy of a slice from a DataFrame\n",
      "\n",
      "See the caveats in the documentation: https://pandas.pydata.org/pandas-docs/stable/user_guide/indexing.html#returning-a-view-versus-a-copy\n",
      "  new_header[0] = \"Property Type\"\n",
      "/var/folders/hn/gfxxh51d76nbszjdcrp5pzy80000gn/T/ipykernel_47560/3038214230.py:11: SettingWithCopyWarning: \n",
      "A value is trying to be set on a copy of a slice from a DataFrame\n",
      "\n",
      "See the caveats in the documentation: https://pandas.pydata.org/pandas-docs/stable/user_guide/indexing.html#returning-a-view-versus-a-copy\n",
      "  new_header[1] = \"Location\"\n"
     ]
    },
    {
     "name": "stdout",
     "output_type": "stream",
     "text": [
      "Collected 4 - 20  data.\n"
     ]
    },
    {
     "name": "stderr",
     "output_type": "stream",
     "text": [
      "/var/folders/hn/gfxxh51d76nbszjdcrp5pzy80000gn/T/ipykernel_47560/3038214230.py:10: SettingWithCopyWarning: \n",
      "A value is trying to be set on a copy of a slice from a DataFrame\n",
      "\n",
      "See the caveats in the documentation: https://pandas.pydata.org/pandas-docs/stable/user_guide/indexing.html#returning-a-view-versus-a-copy\n",
      "  new_header[0] = \"Property Type\"\n",
      "/var/folders/hn/gfxxh51d76nbszjdcrp5pzy80000gn/T/ipykernel_47560/3038214230.py:11: SettingWithCopyWarning: \n",
      "A value is trying to be set on a copy of a slice from a DataFrame\n",
      "\n",
      "See the caveats in the documentation: https://pandas.pydata.org/pandas-docs/stable/user_guide/indexing.html#returning-a-view-versus-a-copy\n",
      "  new_header[1] = \"Location\"\n"
     ]
    },
    {
     "name": "stdout",
     "output_type": "stream",
     "text": [
      "Collected 6 - 20  data.\n"
     ]
    },
    {
     "name": "stderr",
     "output_type": "stream",
     "text": [
      "/var/folders/hn/gfxxh51d76nbszjdcrp5pzy80000gn/T/ipykernel_47560/3038214230.py:10: SettingWithCopyWarning: \n",
      "A value is trying to be set on a copy of a slice from a DataFrame\n",
      "\n",
      "See the caveats in the documentation: https://pandas.pydata.org/pandas-docs/stable/user_guide/indexing.html#returning-a-view-versus-a-copy\n",
      "  new_header[0] = \"Property Type\"\n",
      "/var/folders/hn/gfxxh51d76nbszjdcrp5pzy80000gn/T/ipykernel_47560/3038214230.py:11: SettingWithCopyWarning: \n",
      "A value is trying to be set on a copy of a slice from a DataFrame\n",
      "\n",
      "See the caveats in the documentation: https://pandas.pydata.org/pandas-docs/stable/user_guide/indexing.html#returning-a-view-versus-a-copy\n",
      "  new_header[1] = \"Location\"\n"
     ]
    },
    {
     "name": "stdout",
     "output_type": "stream",
     "text": [
      "Collected 7 - 20  data.\n"
     ]
    },
    {
     "name": "stderr",
     "output_type": "stream",
     "text": [
      "/var/folders/hn/gfxxh51d76nbszjdcrp5pzy80000gn/T/ipykernel_47560/3038214230.py:10: SettingWithCopyWarning: \n",
      "A value is trying to be set on a copy of a slice from a DataFrame\n",
      "\n",
      "See the caveats in the documentation: https://pandas.pydata.org/pandas-docs/stable/user_guide/indexing.html#returning-a-view-versus-a-copy\n",
      "  new_header[0] = \"Property Type\"\n",
      "/var/folders/hn/gfxxh51d76nbszjdcrp5pzy80000gn/T/ipykernel_47560/3038214230.py:11: SettingWithCopyWarning: \n",
      "A value is trying to be set on a copy of a slice from a DataFrame\n",
      "\n",
      "See the caveats in the documentation: https://pandas.pydata.org/pandas-docs/stable/user_guide/indexing.html#returning-a-view-versus-a-copy\n",
      "  new_header[1] = \"Location\"\n"
     ]
    },
    {
     "name": "stdout",
     "output_type": "stream",
     "text": [
      "Collected 8 - 20  data.\n"
     ]
    },
    {
     "name": "stderr",
     "output_type": "stream",
     "text": [
      "/var/folders/hn/gfxxh51d76nbszjdcrp5pzy80000gn/T/ipykernel_47560/3038214230.py:10: SettingWithCopyWarning: \n",
      "A value is trying to be set on a copy of a slice from a DataFrame\n",
      "\n",
      "See the caveats in the documentation: https://pandas.pydata.org/pandas-docs/stable/user_guide/indexing.html#returning-a-view-versus-a-copy\n",
      "  new_header[0] = \"Property Type\"\n",
      "/var/folders/hn/gfxxh51d76nbszjdcrp5pzy80000gn/T/ipykernel_47560/3038214230.py:11: SettingWithCopyWarning: \n",
      "A value is trying to be set on a copy of a slice from a DataFrame\n",
      "\n",
      "See the caveats in the documentation: https://pandas.pydata.org/pandas-docs/stable/user_guide/indexing.html#returning-a-view-versus-a-copy\n",
      "  new_header[1] = \"Location\"\n"
     ]
    },
    {
     "name": "stdout",
     "output_type": "stream",
     "text": [
      "Collected 9 - 20  data.\n"
     ]
    },
    {
     "name": "stderr",
     "output_type": "stream",
     "text": [
      "/var/folders/hn/gfxxh51d76nbszjdcrp5pzy80000gn/T/ipykernel_47560/3038214230.py:10: SettingWithCopyWarning: \n",
      "A value is trying to be set on a copy of a slice from a DataFrame\n",
      "\n",
      "See the caveats in the documentation: https://pandas.pydata.org/pandas-docs/stable/user_guide/indexing.html#returning-a-view-versus-a-copy\n",
      "  new_header[0] = \"Property Type\"\n",
      "/var/folders/hn/gfxxh51d76nbszjdcrp5pzy80000gn/T/ipykernel_47560/3038214230.py:11: SettingWithCopyWarning: \n",
      "A value is trying to be set on a copy of a slice from a DataFrame\n",
      "\n",
      "See the caveats in the documentation: https://pandas.pydata.org/pandas-docs/stable/user_guide/indexing.html#returning-a-view-versus-a-copy\n",
      "  new_header[1] = \"Location\"\n"
     ]
    },
    {
     "name": "stdout",
     "output_type": "stream",
     "text": [
      "Collected 10 - 20  data.\n"
     ]
    },
    {
     "name": "stderr",
     "output_type": "stream",
     "text": [
      "/var/folders/hn/gfxxh51d76nbszjdcrp5pzy80000gn/T/ipykernel_47560/3038214230.py:10: SettingWithCopyWarning: \n",
      "A value is trying to be set on a copy of a slice from a DataFrame\n",
      "\n",
      "See the caveats in the documentation: https://pandas.pydata.org/pandas-docs/stable/user_guide/indexing.html#returning-a-view-versus-a-copy\n",
      "  new_header[0] = \"Property Type\"\n",
      "/var/folders/hn/gfxxh51d76nbszjdcrp5pzy80000gn/T/ipykernel_47560/3038214230.py:11: SettingWithCopyWarning: \n",
      "A value is trying to be set on a copy of a slice from a DataFrame\n",
      "\n",
      "See the caveats in the documentation: https://pandas.pydata.org/pandas-docs/stable/user_guide/indexing.html#returning-a-view-versus-a-copy\n",
      "  new_header[1] = \"Location\"\n"
     ]
    },
    {
     "name": "stdout",
     "output_type": "stream",
     "text": [
      "Collected 11 - 20  data.\n"
     ]
    },
    {
     "name": "stderr",
     "output_type": "stream",
     "text": [
      "/var/folders/hn/gfxxh51d76nbszjdcrp5pzy80000gn/T/ipykernel_47560/3038214230.py:10: SettingWithCopyWarning: \n",
      "A value is trying to be set on a copy of a slice from a DataFrame\n",
      "\n",
      "See the caveats in the documentation: https://pandas.pydata.org/pandas-docs/stable/user_guide/indexing.html#returning-a-view-versus-a-copy\n",
      "  new_header[0] = \"Property Type\"\n",
      "/var/folders/hn/gfxxh51d76nbszjdcrp5pzy80000gn/T/ipykernel_47560/3038214230.py:11: SettingWithCopyWarning: \n",
      "A value is trying to be set on a copy of a slice from a DataFrame\n",
      "\n",
      "See the caveats in the documentation: https://pandas.pydata.org/pandas-docs/stable/user_guide/indexing.html#returning-a-view-versus-a-copy\n",
      "  new_header[1] = \"Location\"\n"
     ]
    },
    {
     "name": "stdout",
     "output_type": "stream",
     "text": [
      "Collected 1 - 21  data.\n"
     ]
    },
    {
     "name": "stderr",
     "output_type": "stream",
     "text": [
      "/var/folders/hn/gfxxh51d76nbszjdcrp5pzy80000gn/T/ipykernel_47560/3038214230.py:10: SettingWithCopyWarning: \n",
      "A value is trying to be set on a copy of a slice from a DataFrame\n",
      "\n",
      "See the caveats in the documentation: https://pandas.pydata.org/pandas-docs/stable/user_guide/indexing.html#returning-a-view-versus-a-copy\n",
      "  new_header[0] = \"Property Type\"\n",
      "/var/folders/hn/gfxxh51d76nbszjdcrp5pzy80000gn/T/ipykernel_47560/3038214230.py:11: SettingWithCopyWarning: \n",
      "A value is trying to be set on a copy of a slice from a DataFrame\n",
      "\n",
      "See the caveats in the documentation: https://pandas.pydata.org/pandas-docs/stable/user_guide/indexing.html#returning-a-view-versus-a-copy\n",
      "  new_header[1] = \"Location\"\n"
     ]
    },
    {
     "name": "stdout",
     "output_type": "stream",
     "text": [
      "Collected 2 - 21  data.\n"
     ]
    },
    {
     "name": "stderr",
     "output_type": "stream",
     "text": [
      "/var/folders/hn/gfxxh51d76nbszjdcrp5pzy80000gn/T/ipykernel_47560/3038214230.py:10: SettingWithCopyWarning: \n",
      "A value is trying to be set on a copy of a slice from a DataFrame\n",
      "\n",
      "See the caveats in the documentation: https://pandas.pydata.org/pandas-docs/stable/user_guide/indexing.html#returning-a-view-versus-a-copy\n",
      "  new_header[0] = \"Property Type\"\n",
      "/var/folders/hn/gfxxh51d76nbszjdcrp5pzy80000gn/T/ipykernel_47560/3038214230.py:11: SettingWithCopyWarning: \n",
      "A value is trying to be set on a copy of a slice from a DataFrame\n",
      "\n",
      "See the caveats in the documentation: https://pandas.pydata.org/pandas-docs/stable/user_guide/indexing.html#returning-a-view-versus-a-copy\n",
      "  new_header[1] = \"Location\"\n"
     ]
    },
    {
     "name": "stdout",
     "output_type": "stream",
     "text": [
      "Collected 3 - 21  data.\n"
     ]
    },
    {
     "name": "stderr",
     "output_type": "stream",
     "text": [
      "/var/folders/hn/gfxxh51d76nbszjdcrp5pzy80000gn/T/ipykernel_47560/3038214230.py:10: SettingWithCopyWarning: \n",
      "A value is trying to be set on a copy of a slice from a DataFrame\n",
      "\n",
      "See the caveats in the documentation: https://pandas.pydata.org/pandas-docs/stable/user_guide/indexing.html#returning-a-view-versus-a-copy\n",
      "  new_header[0] = \"Property Type\"\n",
      "/var/folders/hn/gfxxh51d76nbszjdcrp5pzy80000gn/T/ipykernel_47560/3038214230.py:11: SettingWithCopyWarning: \n",
      "A value is trying to be set on a copy of a slice from a DataFrame\n",
      "\n",
      "See the caveats in the documentation: https://pandas.pydata.org/pandas-docs/stable/user_guide/indexing.html#returning-a-view-versus-a-copy\n",
      "  new_header[1] = \"Location\"\n"
     ]
    },
    {
     "name": "stdout",
     "output_type": "stream",
     "text": [
      "Collected 6 - 21  data.\n"
     ]
    },
    {
     "name": "stderr",
     "output_type": "stream",
     "text": [
      "/var/folders/hn/gfxxh51d76nbszjdcrp5pzy80000gn/T/ipykernel_47560/3038214230.py:10: SettingWithCopyWarning: \n",
      "A value is trying to be set on a copy of a slice from a DataFrame\n",
      "\n",
      "See the caveats in the documentation: https://pandas.pydata.org/pandas-docs/stable/user_guide/indexing.html#returning-a-view-versus-a-copy\n",
      "  new_header[0] = \"Property Type\"\n",
      "/var/folders/hn/gfxxh51d76nbszjdcrp5pzy80000gn/T/ipykernel_47560/3038214230.py:11: SettingWithCopyWarning: \n",
      "A value is trying to be set on a copy of a slice from a DataFrame\n",
      "\n",
      "See the caveats in the documentation: https://pandas.pydata.org/pandas-docs/stable/user_guide/indexing.html#returning-a-view-versus-a-copy\n",
      "  new_header[1] = \"Location\"\n"
     ]
    },
    {
     "name": "stdout",
     "output_type": "stream",
     "text": [
      "Collected 7 - 21  data.\n"
     ]
    },
    {
     "name": "stderr",
     "output_type": "stream",
     "text": [
      "/var/folders/hn/gfxxh51d76nbszjdcrp5pzy80000gn/T/ipykernel_47560/3038214230.py:10: SettingWithCopyWarning: \n",
      "A value is trying to be set on a copy of a slice from a DataFrame\n",
      "\n",
      "See the caveats in the documentation: https://pandas.pydata.org/pandas-docs/stable/user_guide/indexing.html#returning-a-view-versus-a-copy\n",
      "  new_header[0] = \"Property Type\"\n",
      "/var/folders/hn/gfxxh51d76nbszjdcrp5pzy80000gn/T/ipykernel_47560/3038214230.py:11: SettingWithCopyWarning: \n",
      "A value is trying to be set on a copy of a slice from a DataFrame\n",
      "\n",
      "See the caveats in the documentation: https://pandas.pydata.org/pandas-docs/stable/user_guide/indexing.html#returning-a-view-versus-a-copy\n",
      "  new_header[1] = \"Location\"\n"
     ]
    },
    {
     "name": "stdout",
     "output_type": "stream",
     "text": [
      "Collected 8 - 21  data.\n"
     ]
    },
    {
     "name": "stderr",
     "output_type": "stream",
     "text": [
      "/var/folders/hn/gfxxh51d76nbszjdcrp5pzy80000gn/T/ipykernel_47560/3038214230.py:10: SettingWithCopyWarning: \n",
      "A value is trying to be set on a copy of a slice from a DataFrame\n",
      "\n",
      "See the caveats in the documentation: https://pandas.pydata.org/pandas-docs/stable/user_guide/indexing.html#returning-a-view-versus-a-copy\n",
      "  new_header[0] = \"Property Type\"\n",
      "/var/folders/hn/gfxxh51d76nbszjdcrp5pzy80000gn/T/ipykernel_47560/3038214230.py:11: SettingWithCopyWarning: \n",
      "A value is trying to be set on a copy of a slice from a DataFrame\n",
      "\n",
      "See the caveats in the documentation: https://pandas.pydata.org/pandas-docs/stable/user_guide/indexing.html#returning-a-view-versus-a-copy\n",
      "  new_header[1] = \"Location\"\n"
     ]
    },
    {
     "name": "stdout",
     "output_type": "stream",
     "text": [
      "Collected 9 - 21  data.\n"
     ]
    },
    {
     "name": "stderr",
     "output_type": "stream",
     "text": [
      "/var/folders/hn/gfxxh51d76nbszjdcrp5pzy80000gn/T/ipykernel_47560/3038214230.py:10: SettingWithCopyWarning: \n",
      "A value is trying to be set on a copy of a slice from a DataFrame\n",
      "\n",
      "See the caveats in the documentation: https://pandas.pydata.org/pandas-docs/stable/user_guide/indexing.html#returning-a-view-versus-a-copy\n",
      "  new_header[0] = \"Property Type\"\n",
      "/var/folders/hn/gfxxh51d76nbszjdcrp5pzy80000gn/T/ipykernel_47560/3038214230.py:11: SettingWithCopyWarning: \n",
      "A value is trying to be set on a copy of a slice from a DataFrame\n",
      "\n",
      "See the caveats in the documentation: https://pandas.pydata.org/pandas-docs/stable/user_guide/indexing.html#returning-a-view-versus-a-copy\n",
      "  new_header[1] = \"Location\"\n"
     ]
    },
    {
     "name": "stdout",
     "output_type": "stream",
     "text": [
      "Collected 10 - 21  data.\n"
     ]
    },
    {
     "name": "stderr",
     "output_type": "stream",
     "text": [
      "/var/folders/hn/gfxxh51d76nbszjdcrp5pzy80000gn/T/ipykernel_47560/3038214230.py:10: SettingWithCopyWarning: \n",
      "A value is trying to be set on a copy of a slice from a DataFrame\n",
      "\n",
      "See the caveats in the documentation: https://pandas.pydata.org/pandas-docs/stable/user_guide/indexing.html#returning-a-view-versus-a-copy\n",
      "  new_header[0] = \"Property Type\"\n",
      "/var/folders/hn/gfxxh51d76nbszjdcrp5pzy80000gn/T/ipykernel_47560/3038214230.py:11: SettingWithCopyWarning: \n",
      "A value is trying to be set on a copy of a slice from a DataFrame\n",
      "\n",
      "See the caveats in the documentation: https://pandas.pydata.org/pandas-docs/stable/user_guide/indexing.html#returning-a-view-versus-a-copy\n",
      "  new_header[1] = \"Location\"\n"
     ]
    },
    {
     "name": "stdout",
     "output_type": "stream",
     "text": [
      "Collected 11 - 21  data.\n"
     ]
    },
    {
     "name": "stderr",
     "output_type": "stream",
     "text": [
      "/var/folders/hn/gfxxh51d76nbszjdcrp5pzy80000gn/T/ipykernel_47560/3038214230.py:10: SettingWithCopyWarning: \n",
      "A value is trying to be set on a copy of a slice from a DataFrame\n",
      "\n",
      "See the caveats in the documentation: https://pandas.pydata.org/pandas-docs/stable/user_guide/indexing.html#returning-a-view-versus-a-copy\n",
      "  new_header[0] = \"Property Type\"\n",
      "/var/folders/hn/gfxxh51d76nbszjdcrp5pzy80000gn/T/ipykernel_47560/3038214230.py:11: SettingWithCopyWarning: \n",
      "A value is trying to be set on a copy of a slice from a DataFrame\n",
      "\n",
      "See the caveats in the documentation: https://pandas.pydata.org/pandas-docs/stable/user_guide/indexing.html#returning-a-view-versus-a-copy\n",
      "  new_header[1] = \"Location\"\n"
     ]
    },
    {
     "name": "stdout",
     "output_type": "stream",
     "text": [
      "Collected 1 - 22  data.\n"
     ]
    },
    {
     "name": "stderr",
     "output_type": "stream",
     "text": [
      "/var/folders/hn/gfxxh51d76nbszjdcrp5pzy80000gn/T/ipykernel_47560/3038214230.py:10: SettingWithCopyWarning: \n",
      "A value is trying to be set on a copy of a slice from a DataFrame\n",
      "\n",
      "See the caveats in the documentation: https://pandas.pydata.org/pandas-docs/stable/user_guide/indexing.html#returning-a-view-versus-a-copy\n",
      "  new_header[0] = \"Property Type\"\n",
      "/var/folders/hn/gfxxh51d76nbszjdcrp5pzy80000gn/T/ipykernel_47560/3038214230.py:11: SettingWithCopyWarning: \n",
      "A value is trying to be set on a copy of a slice from a DataFrame\n",
      "\n",
      "See the caveats in the documentation: https://pandas.pydata.org/pandas-docs/stable/user_guide/indexing.html#returning-a-view-versus-a-copy\n",
      "  new_header[1] = \"Location\"\n"
     ]
    },
    {
     "name": "stdout",
     "output_type": "stream",
     "text": [
      "Collected 2 - 22  data.\n"
     ]
    },
    {
     "name": "stderr",
     "output_type": "stream",
     "text": [
      "/var/folders/hn/gfxxh51d76nbszjdcrp5pzy80000gn/T/ipykernel_47560/3038214230.py:10: SettingWithCopyWarning: \n",
      "A value is trying to be set on a copy of a slice from a DataFrame\n",
      "\n",
      "See the caveats in the documentation: https://pandas.pydata.org/pandas-docs/stable/user_guide/indexing.html#returning-a-view-versus-a-copy\n",
      "  new_header[0] = \"Property Type\"\n",
      "/var/folders/hn/gfxxh51d76nbszjdcrp5pzy80000gn/T/ipykernel_47560/3038214230.py:11: SettingWithCopyWarning: \n",
      "A value is trying to be set on a copy of a slice from a DataFrame\n",
      "\n",
      "See the caveats in the documentation: https://pandas.pydata.org/pandas-docs/stable/user_guide/indexing.html#returning-a-view-versus-a-copy\n",
      "  new_header[1] = \"Location\"\n"
     ]
    },
    {
     "name": "stdout",
     "output_type": "stream",
     "text": [
      "Collected 3 - 22  data.\n"
     ]
    },
    {
     "name": "stderr",
     "output_type": "stream",
     "text": [
      "/var/folders/hn/gfxxh51d76nbszjdcrp5pzy80000gn/T/ipykernel_47560/3038214230.py:10: SettingWithCopyWarning: \n",
      "A value is trying to be set on a copy of a slice from a DataFrame\n",
      "\n",
      "See the caveats in the documentation: https://pandas.pydata.org/pandas-docs/stable/user_guide/indexing.html#returning-a-view-versus-a-copy\n",
      "  new_header[0] = \"Property Type\"\n",
      "/var/folders/hn/gfxxh51d76nbszjdcrp5pzy80000gn/T/ipykernel_47560/3038214230.py:11: SettingWithCopyWarning: \n",
      "A value is trying to be set on a copy of a slice from a DataFrame\n",
      "\n",
      "See the caveats in the documentation: https://pandas.pydata.org/pandas-docs/stable/user_guide/indexing.html#returning-a-view-versus-a-copy\n",
      "  new_header[1] = \"Location\"\n"
     ]
    },
    {
     "name": "stdout",
     "output_type": "stream",
     "text": [
      "Collected 4 - 22  data.\n"
     ]
    },
    {
     "name": "stderr",
     "output_type": "stream",
     "text": [
      "/var/folders/hn/gfxxh51d76nbszjdcrp5pzy80000gn/T/ipykernel_47560/3038214230.py:10: SettingWithCopyWarning: \n",
      "A value is trying to be set on a copy of a slice from a DataFrame\n",
      "\n",
      "See the caveats in the documentation: https://pandas.pydata.org/pandas-docs/stable/user_guide/indexing.html#returning-a-view-versus-a-copy\n",
      "  new_header[0] = \"Property Type\"\n",
      "/var/folders/hn/gfxxh51d76nbszjdcrp5pzy80000gn/T/ipykernel_47560/3038214230.py:11: SettingWithCopyWarning: \n",
      "A value is trying to be set on a copy of a slice from a DataFrame\n",
      "\n",
      "See the caveats in the documentation: https://pandas.pydata.org/pandas-docs/stable/user_guide/indexing.html#returning-a-view-versus-a-copy\n",
      "  new_header[1] = \"Location\"\n"
     ]
    },
    {
     "name": "stdout",
     "output_type": "stream",
     "text": [
      "Collected 6 - 22  data.\n"
     ]
    },
    {
     "name": "stderr",
     "output_type": "stream",
     "text": [
      "/var/folders/hn/gfxxh51d76nbszjdcrp5pzy80000gn/T/ipykernel_47560/3038214230.py:10: SettingWithCopyWarning: \n",
      "A value is trying to be set on a copy of a slice from a DataFrame\n",
      "\n",
      "See the caveats in the documentation: https://pandas.pydata.org/pandas-docs/stable/user_guide/indexing.html#returning-a-view-versus-a-copy\n",
      "  new_header[0] = \"Property Type\"\n",
      "/var/folders/hn/gfxxh51d76nbszjdcrp5pzy80000gn/T/ipykernel_47560/3038214230.py:11: SettingWithCopyWarning: \n",
      "A value is trying to be set on a copy of a slice from a DataFrame\n",
      "\n",
      "See the caveats in the documentation: https://pandas.pydata.org/pandas-docs/stable/user_guide/indexing.html#returning-a-view-versus-a-copy\n",
      "  new_header[1] = \"Location\"\n"
     ]
    },
    {
     "name": "stdout",
     "output_type": "stream",
     "text": [
      "Collected 7 - 22  data.\n"
     ]
    },
    {
     "name": "stderr",
     "output_type": "stream",
     "text": [
      "/var/folders/hn/gfxxh51d76nbszjdcrp5pzy80000gn/T/ipykernel_47560/3038214230.py:10: SettingWithCopyWarning: \n",
      "A value is trying to be set on a copy of a slice from a DataFrame\n",
      "\n",
      "See the caveats in the documentation: https://pandas.pydata.org/pandas-docs/stable/user_guide/indexing.html#returning-a-view-versus-a-copy\n",
      "  new_header[0] = \"Property Type\"\n",
      "/var/folders/hn/gfxxh51d76nbszjdcrp5pzy80000gn/T/ipykernel_47560/3038214230.py:11: SettingWithCopyWarning: \n",
      "A value is trying to be set on a copy of a slice from a DataFrame\n",
      "\n",
      "See the caveats in the documentation: https://pandas.pydata.org/pandas-docs/stable/user_guide/indexing.html#returning-a-view-versus-a-copy\n",
      "  new_header[1] = \"Location\"\n"
     ]
    },
    {
     "name": "stdout",
     "output_type": "stream",
     "text": [
      "Collected 8 - 22  data.\n"
     ]
    },
    {
     "name": "stderr",
     "output_type": "stream",
     "text": [
      "/var/folders/hn/gfxxh51d76nbszjdcrp5pzy80000gn/T/ipykernel_47560/3038214230.py:10: SettingWithCopyWarning: \n",
      "A value is trying to be set on a copy of a slice from a DataFrame\n",
      "\n",
      "See the caveats in the documentation: https://pandas.pydata.org/pandas-docs/stable/user_guide/indexing.html#returning-a-view-versus-a-copy\n",
      "  new_header[0] = \"Property Type\"\n",
      "/var/folders/hn/gfxxh51d76nbszjdcrp5pzy80000gn/T/ipykernel_47560/3038214230.py:11: SettingWithCopyWarning: \n",
      "A value is trying to be set on a copy of a slice from a DataFrame\n",
      "\n",
      "See the caveats in the documentation: https://pandas.pydata.org/pandas-docs/stable/user_guide/indexing.html#returning-a-view-versus-a-copy\n",
      "  new_header[1] = \"Location\"\n"
     ]
    },
    {
     "name": "stdout",
     "output_type": "stream",
     "text": [
      "Collected 9 - 22  data.\n"
     ]
    },
    {
     "name": "stderr",
     "output_type": "stream",
     "text": [
      "/var/folders/hn/gfxxh51d76nbszjdcrp5pzy80000gn/T/ipykernel_47560/3038214230.py:10: SettingWithCopyWarning: \n",
      "A value is trying to be set on a copy of a slice from a DataFrame\n",
      "\n",
      "See the caveats in the documentation: https://pandas.pydata.org/pandas-docs/stable/user_guide/indexing.html#returning-a-view-versus-a-copy\n",
      "  new_header[0] = \"Property Type\"\n",
      "/var/folders/hn/gfxxh51d76nbszjdcrp5pzy80000gn/T/ipykernel_47560/3038214230.py:11: SettingWithCopyWarning: \n",
      "A value is trying to be set on a copy of a slice from a DataFrame\n",
      "\n",
      "See the caveats in the documentation: https://pandas.pydata.org/pandas-docs/stable/user_guide/indexing.html#returning-a-view-versus-a-copy\n",
      "  new_header[1] = \"Location\"\n"
     ]
    },
    {
     "name": "stdout",
     "output_type": "stream",
     "text": [
      "Collected 10 - 22  data.\n"
     ]
    },
    {
     "name": "stderr",
     "output_type": "stream",
     "text": [
      "/var/folders/hn/gfxxh51d76nbszjdcrp5pzy80000gn/T/ipykernel_47560/3038214230.py:10: SettingWithCopyWarning: \n",
      "A value is trying to be set on a copy of a slice from a DataFrame\n",
      "\n",
      "See the caveats in the documentation: https://pandas.pydata.org/pandas-docs/stable/user_guide/indexing.html#returning-a-view-versus-a-copy\n",
      "  new_header[0] = \"Property Type\"\n",
      "/var/folders/hn/gfxxh51d76nbszjdcrp5pzy80000gn/T/ipykernel_47560/3038214230.py:11: SettingWithCopyWarning: \n",
      "A value is trying to be set on a copy of a slice from a DataFrame\n",
      "\n",
      "See the caveats in the documentation: https://pandas.pydata.org/pandas-docs/stable/user_guide/indexing.html#returning-a-view-versus-a-copy\n",
      "  new_header[1] = \"Location\"\n"
     ]
    },
    {
     "name": "stdout",
     "output_type": "stream",
     "text": [
      "Collected 1 - 23  data.\n"
     ]
    },
    {
     "name": "stderr",
     "output_type": "stream",
     "text": [
      "/var/folders/hn/gfxxh51d76nbszjdcrp5pzy80000gn/T/ipykernel_47560/3038214230.py:10: SettingWithCopyWarning: \n",
      "A value is trying to be set on a copy of a slice from a DataFrame\n",
      "\n",
      "See the caveats in the documentation: https://pandas.pydata.org/pandas-docs/stable/user_guide/indexing.html#returning-a-view-versus-a-copy\n",
      "  new_header[0] = \"Property Type\"\n",
      "/var/folders/hn/gfxxh51d76nbszjdcrp5pzy80000gn/T/ipykernel_47560/3038214230.py:11: SettingWithCopyWarning: \n",
      "A value is trying to be set on a copy of a slice from a DataFrame\n",
      "\n",
      "See the caveats in the documentation: https://pandas.pydata.org/pandas-docs/stable/user_guide/indexing.html#returning-a-view-versus-a-copy\n",
      "  new_header[1] = \"Location\"\n"
     ]
    },
    {
     "name": "stdout",
     "output_type": "stream",
     "text": [
      "Collected 2 - 23  data.\n"
     ]
    },
    {
     "name": "stderr",
     "output_type": "stream",
     "text": [
      "/var/folders/hn/gfxxh51d76nbszjdcrp5pzy80000gn/T/ipykernel_47560/3038214230.py:10: SettingWithCopyWarning: \n",
      "A value is trying to be set on a copy of a slice from a DataFrame\n",
      "\n",
      "See the caveats in the documentation: https://pandas.pydata.org/pandas-docs/stable/user_guide/indexing.html#returning-a-view-versus-a-copy\n",
      "  new_header[0] = \"Property Type\"\n",
      "/var/folders/hn/gfxxh51d76nbszjdcrp5pzy80000gn/T/ipykernel_47560/3038214230.py:11: SettingWithCopyWarning: \n",
      "A value is trying to be set on a copy of a slice from a DataFrame\n",
      "\n",
      "See the caveats in the documentation: https://pandas.pydata.org/pandas-docs/stable/user_guide/indexing.html#returning-a-view-versus-a-copy\n",
      "  new_header[1] = \"Location\"\n"
     ]
    },
    {
     "name": "stdout",
     "output_type": "stream",
     "text": [
      "Collected 3 - 23  data.\n"
     ]
    },
    {
     "name": "stderr",
     "output_type": "stream",
     "text": [
      "/var/folders/hn/gfxxh51d76nbszjdcrp5pzy80000gn/T/ipykernel_47560/3038214230.py:10: SettingWithCopyWarning: \n",
      "A value is trying to be set on a copy of a slice from a DataFrame\n",
      "\n",
      "See the caveats in the documentation: https://pandas.pydata.org/pandas-docs/stable/user_guide/indexing.html#returning-a-view-versus-a-copy\n",
      "  new_header[0] = \"Property Type\"\n",
      "/var/folders/hn/gfxxh51d76nbszjdcrp5pzy80000gn/T/ipykernel_47560/3038214230.py:11: SettingWithCopyWarning: \n",
      "A value is trying to be set on a copy of a slice from a DataFrame\n",
      "\n",
      "See the caveats in the documentation: https://pandas.pydata.org/pandas-docs/stable/user_guide/indexing.html#returning-a-view-versus-a-copy\n",
      "  new_header[1] = \"Location\"\n"
     ]
    },
    {
     "name": "stdout",
     "output_type": "stream",
     "text": [
      "Collected 4 - 23  data.\n"
     ]
    },
    {
     "name": "stderr",
     "output_type": "stream",
     "text": [
      "/var/folders/hn/gfxxh51d76nbszjdcrp5pzy80000gn/T/ipykernel_47560/3038214230.py:10: SettingWithCopyWarning: \n",
      "A value is trying to be set on a copy of a slice from a DataFrame\n",
      "\n",
      "See the caveats in the documentation: https://pandas.pydata.org/pandas-docs/stable/user_guide/indexing.html#returning-a-view-versus-a-copy\n",
      "  new_header[0] = \"Property Type\"\n",
      "/var/folders/hn/gfxxh51d76nbszjdcrp5pzy80000gn/T/ipykernel_47560/3038214230.py:11: SettingWithCopyWarning: \n",
      "A value is trying to be set on a copy of a slice from a DataFrame\n",
      "\n",
      "See the caveats in the documentation: https://pandas.pydata.org/pandas-docs/stable/user_guide/indexing.html#returning-a-view-versus-a-copy\n",
      "  new_header[1] = \"Location\"\n"
     ]
    },
    {
     "name": "stdout",
     "output_type": "stream",
     "text": [
      "Collected 5 - 23  data.\n"
     ]
    },
    {
     "name": "stderr",
     "output_type": "stream",
     "text": [
      "/var/folders/hn/gfxxh51d76nbszjdcrp5pzy80000gn/T/ipykernel_47560/3038214230.py:10: SettingWithCopyWarning: \n",
      "A value is trying to be set on a copy of a slice from a DataFrame\n",
      "\n",
      "See the caveats in the documentation: https://pandas.pydata.org/pandas-docs/stable/user_guide/indexing.html#returning-a-view-versus-a-copy\n",
      "  new_header[0] = \"Property Type\"\n",
      "/var/folders/hn/gfxxh51d76nbszjdcrp5pzy80000gn/T/ipykernel_47560/3038214230.py:11: SettingWithCopyWarning: \n",
      "A value is trying to be set on a copy of a slice from a DataFrame\n",
      "\n",
      "See the caveats in the documentation: https://pandas.pydata.org/pandas-docs/stable/user_guide/indexing.html#returning-a-view-versus-a-copy\n",
      "  new_header[1] = \"Location\"\n"
     ]
    },
    {
     "name": "stdout",
     "output_type": "stream",
     "text": [
      "Collected 6 - 23  data.\n"
     ]
    },
    {
     "name": "stderr",
     "output_type": "stream",
     "text": [
      "/var/folders/hn/gfxxh51d76nbszjdcrp5pzy80000gn/T/ipykernel_47560/3038214230.py:10: SettingWithCopyWarning: \n",
      "A value is trying to be set on a copy of a slice from a DataFrame\n",
      "\n",
      "See the caveats in the documentation: https://pandas.pydata.org/pandas-docs/stable/user_guide/indexing.html#returning-a-view-versus-a-copy\n",
      "  new_header[0] = \"Property Type\"\n",
      "/var/folders/hn/gfxxh51d76nbszjdcrp5pzy80000gn/T/ipykernel_47560/3038214230.py:11: SettingWithCopyWarning: \n",
      "A value is trying to be set on a copy of a slice from a DataFrame\n",
      "\n",
      "See the caveats in the documentation: https://pandas.pydata.org/pandas-docs/stable/user_guide/indexing.html#returning-a-view-versus-a-copy\n",
      "  new_header[1] = \"Location\"\n"
     ]
    },
    {
     "name": "stdout",
     "output_type": "stream",
     "text": [
      "Collected 7 - 23  data.\n"
     ]
    },
    {
     "name": "stderr",
     "output_type": "stream",
     "text": [
      "/var/folders/hn/gfxxh51d76nbszjdcrp5pzy80000gn/T/ipykernel_47560/3038214230.py:10: SettingWithCopyWarning: \n",
      "A value is trying to be set on a copy of a slice from a DataFrame\n",
      "\n",
      "See the caveats in the documentation: https://pandas.pydata.org/pandas-docs/stable/user_guide/indexing.html#returning-a-view-versus-a-copy\n",
      "  new_header[0] = \"Property Type\"\n",
      "/var/folders/hn/gfxxh51d76nbszjdcrp5pzy80000gn/T/ipykernel_47560/3038214230.py:11: SettingWithCopyWarning: \n",
      "A value is trying to be set on a copy of a slice from a DataFrame\n",
      "\n",
      "See the caveats in the documentation: https://pandas.pydata.org/pandas-docs/stable/user_guide/indexing.html#returning-a-view-versus-a-copy\n",
      "  new_header[1] = \"Location\"\n"
     ]
    },
    {
     "name": "stdout",
     "output_type": "stream",
     "text": [
      "Collected 8 - 23  data.\n"
     ]
    },
    {
     "name": "stderr",
     "output_type": "stream",
     "text": [
      "/var/folders/hn/gfxxh51d76nbszjdcrp5pzy80000gn/T/ipykernel_47560/3038214230.py:10: SettingWithCopyWarning: \n",
      "A value is trying to be set on a copy of a slice from a DataFrame\n",
      "\n",
      "See the caveats in the documentation: https://pandas.pydata.org/pandas-docs/stable/user_guide/indexing.html#returning-a-view-versus-a-copy\n",
      "  new_header[0] = \"Property Type\"\n",
      "/var/folders/hn/gfxxh51d76nbszjdcrp5pzy80000gn/T/ipykernel_47560/3038214230.py:11: SettingWithCopyWarning: \n",
      "A value is trying to be set on a copy of a slice from a DataFrame\n",
      "\n",
      "See the caveats in the documentation: https://pandas.pydata.org/pandas-docs/stable/user_guide/indexing.html#returning-a-view-versus-a-copy\n",
      "  new_header[1] = \"Location\"\n"
     ]
    },
    {
     "name": "stdout",
     "output_type": "stream",
     "text": [
      "Collected 9 - 23  data.\n"
     ]
    },
    {
     "name": "stderr",
     "output_type": "stream",
     "text": [
      "/var/folders/hn/gfxxh51d76nbszjdcrp5pzy80000gn/T/ipykernel_47560/3038214230.py:10: SettingWithCopyWarning: \n",
      "A value is trying to be set on a copy of a slice from a DataFrame\n",
      "\n",
      "See the caveats in the documentation: https://pandas.pydata.org/pandas-docs/stable/user_guide/indexing.html#returning-a-view-versus-a-copy\n",
      "  new_header[0] = \"Property Type\"\n",
      "/var/folders/hn/gfxxh51d76nbszjdcrp5pzy80000gn/T/ipykernel_47560/3038214230.py:11: SettingWithCopyWarning: \n",
      "A value is trying to be set on a copy of a slice from a DataFrame\n",
      "\n",
      "See the caveats in the documentation: https://pandas.pydata.org/pandas-docs/stable/user_guide/indexing.html#returning-a-view-versus-a-copy\n",
      "  new_header[1] = \"Location\"\n"
     ]
    },
    {
     "name": "stdout",
     "output_type": "stream",
     "text": [
      "Collected 10 - 23  data.\n"
     ]
    },
    {
     "name": "stderr",
     "output_type": "stream",
     "text": [
      "/var/folders/hn/gfxxh51d76nbszjdcrp5pzy80000gn/T/ipykernel_47560/3038214230.py:10: SettingWithCopyWarning: \n",
      "A value is trying to be set on a copy of a slice from a DataFrame\n",
      "\n",
      "See the caveats in the documentation: https://pandas.pydata.org/pandas-docs/stable/user_guide/indexing.html#returning-a-view-versus-a-copy\n",
      "  new_header[0] = \"Property Type\"\n",
      "/var/folders/hn/gfxxh51d76nbszjdcrp5pzy80000gn/T/ipykernel_47560/3038214230.py:11: SettingWithCopyWarning: \n",
      "A value is trying to be set on a copy of a slice from a DataFrame\n",
      "\n",
      "See the caveats in the documentation: https://pandas.pydata.org/pandas-docs/stable/user_guide/indexing.html#returning-a-view-versus-a-copy\n",
      "  new_header[1] = \"Location\"\n"
     ]
    },
    {
     "name": "stdout",
     "output_type": "stream",
     "text": [
      "Collected 11 - 23  data.\n"
     ]
    }
   ],
   "source": [
    "data_list = []\n",
    "cma = \"Vancouver\"\n",
    "\n",
    "for year in range(16, 24):\n",
    "    for month in range (1,13):\n",
    "        \n",
    "        url = generate_url(month, year, \"Vancouver\")\n",
    "        if url is not None:\n",
    "            extracted_data = extract_table_van(url, month, year)\n",
    "\n",
    "            if extracted_data is not None:\n",
    "                extracted_data.reset_index(drop=True, inplace=True)\n",
    "                data_list.append(extracted_data)\n",
    "                print(\"Collected\", month,\"-\",year, \" data.\")\n",
    "\n",
    "HPI_GVA = pd.concat(data_list, ignore_index=True)\n",
    "\n",
    "columns_name = [\"Location\", \"Price\", \"Index\", \"%1M_Change\", \"%3M_Change\", \"%6M_Change\", \n",
    "               \"%1Y_Change\", \"%3Y_Change\", \"%5Y_Change\", \"%10Y_Change\", \"Month_Year\"]\n",
    "\n",
    "HPI_GVA.columns = columns_name"
   ]
  },
  {
   "cell_type": "code",
   "execution_count": 33,
   "id": "1064896a",
   "metadata": {},
   "outputs": [
    {
     "data": {
      "text/plain": [
       "[]"
      ]
     },
     "execution_count": 33,
     "metadata": {},
     "output_type": "execute_result"
    }
   ],
   "source": [
    "data_list"
   ]
  },
  {
   "cell_type": "code",
   "execution_count": null,
   "id": "29cc31d9",
   "metadata": {},
   "outputs": [],
   "source": [
    "HPI_GVA.to_csv(\"/Users/changanlee/Desktop/University/Undergrad/4th-Year/Winter Semester/ECO475/Term Paper/Raw Data/HPI_GVA.csv\",\n",
    "               index = False)"
   ]
  },
  {
   "cell_type": "code",
   "execution_count": null,
   "id": "f5ec377f",
   "metadata": {},
   "outputs": [],
   "source": []
  }
 ],
 "metadata": {
  "kernelspec": {
   "display_name": "Python 3 (ipykernel)",
   "language": "python",
   "name": "python3"
  },
  "language_info": {
   "codemirror_mode": {
    "name": "ipython",
    "version": 3
   },
   "file_extension": ".py",
   "mimetype": "text/x-python",
   "name": "python",
   "nbconvert_exporter": "python",
   "pygments_lexer": "ipython3",
   "version": "3.9.13"
  }
 },
 "nbformat": 4,
 "nbformat_minor": 5
}
