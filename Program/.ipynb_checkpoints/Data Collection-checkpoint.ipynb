{
 "cells": [
  {
   "cell_type": "markdown",
   "id": "3c1e3b11",
   "metadata": {},
   "source": [
    "# ECO475 Group 2 Notebook Code"
   ]
  },
  {
   "cell_type": "markdown",
   "id": "f9423e14",
   "metadata": {},
   "source": [
    "### Author: Shih-Chieh Lee, Lingyun Ma, Yuwen Zhao"
   ]
  },
  {
   "cell_type": "markdown",
   "id": "0d1e39c6",
   "metadata": {},
   "source": [
    "# 1. Basic Setting"
   ]
  },
  {
   "cell_type": "markdown",
   "id": "9d997882",
   "metadata": {},
   "source": [
    "## a. Package Install"
   ]
  },
  {
   "cell_type": "code",
   "execution_count": 42,
   "id": "2d533b01",
   "metadata": {},
   "outputs": [
    {
     "name": "stdout",
     "output_type": "stream",
     "text": [
      "Requirement already satisfied: tabula-py in /Users/changanlee/opt/anaconda3/lib/python3.9/site-packages (2.9.0)\n",
      "Requirement already satisfied: numpy in /Users/changanlee/opt/anaconda3/lib/python3.9/site-packages (from tabula-py) (1.21.5)\n",
      "Requirement already satisfied: pandas>=0.25.3 in /Users/changanlee/opt/anaconda3/lib/python3.9/site-packages (from tabula-py) (1.4.4)\n",
      "Requirement already satisfied: distro in /Users/changanlee/opt/anaconda3/lib/python3.9/site-packages (from tabula-py) (1.9.0)\n",
      "Requirement already satisfied: python-dateutil>=2.8.1 in /Users/changanlee/opt/anaconda3/lib/python3.9/site-packages (from pandas>=0.25.3->tabula-py) (2.8.2)\n",
      "Requirement already satisfied: pytz>=2020.1 in /Users/changanlee/opt/anaconda3/lib/python3.9/site-packages (from pandas>=0.25.3->tabula-py) (2024.1)\n",
      "Requirement already satisfied: six>=1.5 in /Users/changanlee/opt/anaconda3/lib/python3.9/site-packages (from python-dateutil>=2.8.1->pandas>=0.25.3->tabula-py) (1.16.0)\n",
      "\u001b[33mWARNING: Skipping tabula as it is not installed.\u001b[0m\u001b[33m\n",
      "\u001b[0m"
     ]
    }
   ],
   "source": [
    "#!pip install stats-can\n",
    "#!pip install pandas\n",
    "#!pip install numpy\n",
    "#!pip install matplotlib\n",
    "#!pip install statsmodels\n",
    "#!pip install linearmodels\n",
    "#!pip install camelot-py[cv]\n",
    "\n",
    "!pip install tabula-py\n",
    "!pip uninstall tabula -y"
   ]
  },
  {
   "cell_type": "markdown",
   "id": "159c7ae7",
   "metadata": {},
   "source": [
    "## b. Package Import "
   ]
  },
  {
   "cell_type": "code",
   "execution_count": 43,
   "id": "7114407b",
   "metadata": {},
   "outputs": [
    {
     "ename": "AttributeError",
     "evalue": "module 'tabula' has no attribute 'read_pdf'",
     "output_type": "error",
     "traceback": [
      "\u001b[0;31m---------------------------------------------------------------------------\u001b[0m",
      "\u001b[0;31mAttributeError\u001b[0m                            Traceback (most recent call last)",
      "\u001b[0;32m/var/folders/hn/gfxxh51d76nbszjdcrp5pzy80000gn/T/ipykernel_15484/735129202.py\u001b[0m in \u001b[0;36m<module>\u001b[0;34m\u001b[0m\n\u001b[1;32m      1\u001b[0m \u001b[0;32mimport\u001b[0m \u001b[0mtabula\u001b[0m\u001b[0;34m\u001b[0m\u001b[0;34m\u001b[0m\u001b[0m\n\u001b[1;32m      2\u001b[0m \u001b[0mpdf_path\u001b[0m \u001b[0;34m=\u001b[0m \u001b[0;34m\"https://github.com/chezou/tabula-py/raw/master/tests/resources/data.pdf\"\u001b[0m\u001b[0;34m\u001b[0m\u001b[0;34m\u001b[0m\u001b[0m\n\u001b[0;32m----> 3\u001b[0;31m \u001b[0mtabula\u001b[0m\u001b[0;34m.\u001b[0m\u001b[0mread_pdf\u001b[0m\u001b[0;34m(\u001b[0m\u001b[0mpdf_path\u001b[0m\u001b[0;34m,\u001b[0m \u001b[0mstream\u001b[0m\u001b[0;34m=\u001b[0m\u001b[0;32mTrue\u001b[0m\u001b[0;34m)\u001b[0m\u001b[0;34m\u001b[0m\u001b[0;34m\u001b[0m\u001b[0m\n\u001b[0m",
      "\u001b[0;31mAttributeError\u001b[0m: module 'tabula' has no attribute 'read_pdf'"
     ]
    }
   ],
   "source": [
    "import tabula\n",
    "\n",
    "pdf_path = \"https://github.com/chezou/tabula-py/raw/master/tests/resources/data.pdf\"\n",
    "tabula.read_pdf(pdf_path, stream=True)"
   ]
  },
  {
   "cell_type": "code",
   "execution_count": 35,
   "id": "f2793827",
   "metadata": {},
   "outputs": [],
   "source": [
    "# Data Collection Packages\n",
    "from stats_can import StatsCan #read StatsCan data \n",
    "import tabula  #Scrape table from pdf files\n",
    "import requests \n",
    "from datetime import datetime\n",
    "\n",
    "\n",
    "sc = StatsCan(data_folder=\"/Users/changanlee/Documents/GitHub/Housing_Price_Immigration/Input\") \n",
    "#Create an instance of StatsCan class"
   ]
  },
  {
   "cell_type": "code",
   "execution_count": 21,
   "id": "74954897",
   "metadata": {},
   "outputs": [],
   "source": [
    "# Data Processing Packages\n",
    "import pandas as pd #pandas\n",
    "import numpy as np \n",
    "import matplotlib.pyplot as plt #data visualization\n",
    "%matplotlib inline\n",
    "# activate plot theme\n",
    "import qeds"
   ]
  },
  {
   "cell_type": "code",
   "execution_count": 22,
   "id": "d9066ae7",
   "metadata": {},
   "outputs": [],
   "source": [
    "# Stats Model Packages\n",
    "import statsmodels.api as sm # statistical model\n",
    "from statsmodels.iolib.summary2 import summary_col # summary table for regression result\n",
    "from linearmodels.iv import IV2SLS # IV "
   ]
  },
  {
   "cell_type": "markdown",
   "id": "8c36ab2f",
   "metadata": {},
   "source": [
    "# 2. Data Collection"
   ]
  },
  {
   "cell_type": "markdown",
   "id": "e6f60218",
   "metadata": {},
   "source": [
    "## a. StatsCan Data "
   ]
  },
  {
   "cell_type": "markdown",
   "id": "7f689ff6",
   "metadata": {},
   "source": [
    "Let's start with datasets from Statistics Canada, as it's earier to collect directly using StatsCan library"
   ]
  },
  {
   "cell_type": "code",
   "execution_count": null,
   "id": "74164688",
   "metadata": {},
   "outputs": [],
   "source": [
    "CMA_pop = sc.table_to_df(\"17-10-0135-01\")\n",
    "CMA_pop.head()"
   ]
  },
  {
   "cell_type": "markdown",
   "id": "d6b5db2e",
   "metadata": {},
   "source": [
    "## b. CREA Monthly House Price Index Data"
   ]
  },
  {
   "cell_type": "markdown",
   "id": "f8396cff",
   "metadata": {},
   "source": [
    "### 1) GTA Data"
   ]
  },
  {
   "cell_type": "code",
   "execution_count": 23,
   "id": "92b18234",
   "metadata": {},
   "outputs": [],
   "source": [
    "# Define func to generate URLs based on months and years\n",
    "def generate_url(month, year):\n",
    "    if month < 10:\n",
    "        return f\"https://trreb.ca/files/market-stats/home-price-index/TREB_MLS_HPI_Public_Tables_0{month}{year}.pdf\"\n",
    "    else:\n",
    "        return f\"https://trreb.ca/files/market-stats/home-price-index/TREB_MLS_HPI_Public_Tables_{month}{year}.pdf\"\n",
    "    #return the corresponding GTA HPI monthly report pdf for scrapping"
   ]
  },
  {
   "cell_type": "code",
   "execution_count": null,
   "id": "86ec829d",
   "metadata": {},
   "outputs": [],
   "source": []
  },
  {
   "cell_type": "markdown",
   "id": "059fccaa",
   "metadata": {},
   "source": [
    "Let's do one scrapping for example"
   ]
  },
  {
   "cell_type": "code",
   "execution_count": 33,
   "id": "b1547edb",
   "metadata": {},
   "outputs": [
    {
     "ename": "FileNotFoundError",
     "evalue": "[Errno 2] No such file or directory: '/Users/changanlee/Documents/GitHub.Housing_Price_Immigration/Input/MLS HPI/'",
     "output_type": "error",
     "traceback": [
      "\u001b[0;31m---------------------------------------------------------------------------\u001b[0m",
      "\u001b[0;31mFileNotFoundError\u001b[0m                         Traceback (most recent call last)",
      "\u001b[0;32m/var/folders/hn/gfxxh51d76nbszjdcrp5pzy80000gn/T/ipykernel_15484/533836343.py\u001b[0m in \u001b[0;36m<module>\u001b[0;34m\u001b[0m\n\u001b[1;32m      4\u001b[0m \u001b[0mresponse\u001b[0m \u001b[0;34m=\u001b[0m \u001b[0mrequests\u001b[0m\u001b[0;34m.\u001b[0m\u001b[0mget\u001b[0m\u001b[0;34m(\u001b[0m\u001b[0murl\u001b[0m\u001b[0;34m)\u001b[0m\u001b[0;34m\u001b[0m\u001b[0;34m\u001b[0m\u001b[0m\n\u001b[1;32m      5\u001b[0m \u001b[0;32mif\u001b[0m \u001b[0mresponse\u001b[0m\u001b[0;34m.\u001b[0m\u001b[0mstatus_code\u001b[0m \u001b[0;34m==\u001b[0m \u001b[0;36m200\u001b[0m\u001b[0;34m:\u001b[0m\u001b[0;34m\u001b[0m\u001b[0;34m\u001b[0m\u001b[0m\n\u001b[0;32m----> 6\u001b[0;31m     \u001b[0;32mwith\u001b[0m \u001b[0mopen\u001b[0m\u001b[0;34m(\u001b[0m\u001b[0mlocal_file_path\u001b[0m\u001b[0;34m,\u001b[0m \u001b[0;34m'wb'\u001b[0m\u001b[0;34m)\u001b[0m \u001b[0;32mas\u001b[0m \u001b[0mfile\u001b[0m\u001b[0;34m:\u001b[0m\u001b[0;34m\u001b[0m\u001b[0;34m\u001b[0m\u001b[0m\n\u001b[0m\u001b[1;32m      7\u001b[0m         \u001b[0mfile\u001b[0m\u001b[0;34m.\u001b[0m\u001b[0mwrite\u001b[0m\u001b[0;34m(\u001b[0m\u001b[0mresponse\u001b[0m\u001b[0;34m.\u001b[0m\u001b[0mcontent\u001b[0m\u001b[0;34m)\u001b[0m\u001b[0;34m\u001b[0m\u001b[0;34m\u001b[0m\u001b[0m\n\u001b[1;32m      8\u001b[0m         \u001b[0mtable\u001b[0m \u001b[0;34m=\u001b[0m \u001b[0mcamelot\u001b[0m\u001b[0;34m.\u001b[0m\u001b[0mread_pdf\u001b[0m\u001b[0;34m(\u001b[0m\u001b[0mlocal_file_path\u001b[0m\u001b[0;34m,\u001b[0m\u001b[0mpages\u001b[0m\u001b[0;34m=\u001b[0m\u001b[0;34m\"all\"\u001b[0m\u001b[0;34m,\u001b[0m\u001b[0mghostscript_path\u001b[0m\u001b[0;34m=\u001b[0m\u001b[0;34m'/usr/local/bin/gs'\u001b[0m\u001b[0;34m)\u001b[0m\u001b[0;34m\u001b[0m\u001b[0;34m\u001b[0m\u001b[0m\n",
      "\u001b[0;31mFileNotFoundError\u001b[0m: [Errno 2] No such file or directory: '/Users/changanlee/Documents/GitHub.Housing_Price_Immigration/Input/MLS HPI/'"
     ]
    }
   ],
   "source": []
  },
  {
   "cell_type": "markdown",
   "id": "1ff1e485",
   "metadata": {},
   "source": [
    "End of the example"
   ]
  },
  {
   "cell_type": "markdown",
   "id": "55a798a2",
   "metadata": {},
   "source": [
    "### 2) Loop to Scrape Data"
   ]
  },
  {
   "cell_type": "code",
   "execution_count": null,
   "id": "121c7fd9",
   "metadata": {},
   "outputs": [],
   "source": []
  },
  {
   "cell_type": "code",
   "execution_count": null,
   "id": "6acc97d7",
   "metadata": {},
   "outputs": [],
   "source": [
    "HPI_GTA = []\n",
    "for year in range(2010, 2024):\n",
    "    for month in range(1, 13):\n",
    "        month_name = datetime(year, month, 1).strftime('%b')\n",
    "        url = generate_url(month_name, year)\n",
    "        extracted_data = extract_report_data(url)\n",
    "        \n",
    "        if extracted_data is not None:\n",
    "            extracted_date[\"Month\"] = month_name\n",
    "            HPI.append(extracted_data)"
   ]
  },
  {
   "cell_type": "code",
   "execution_count": null,
   "id": "3077dcbc",
   "metadata": {},
   "outputs": [],
   "source": [
    "HPI"
   ]
  }
 ],
 "metadata": {
  "kernelspec": {
   "display_name": "Python 3 (ipykernel)",
   "language": "python",
   "name": "python3"
  },
  "language_info": {
   "codemirror_mode": {
    "name": "ipython",
    "version": 3
   },
   "file_extension": ".py",
   "mimetype": "text/x-python",
   "name": "python",
   "nbconvert_exporter": "python",
   "pygments_lexer": "ipython3",
   "version": "3.9.13"
  }
 },
 "nbformat": 4,
 "nbformat_minor": 5
}
